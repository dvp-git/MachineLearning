{
 "cells": [
  {
   "cell_type": "code",
   "execution_count": 1,
   "id": "4f8d4df4",
   "metadata": {},
   "outputs": [],
   "source": [
    "import numpy as np\n",
    "import pandas as pd\n",
    "import seaborn as sns\n"
   ]
  },
  {
   "cell_type": "code",
   "execution_count": 2,
   "id": "7475b9df",
   "metadata": {
    "scrolled": true
   },
   "outputs": [],
   "source": [
    "dataset = pd.read_csv('Raisin_Dataset.csv')\n"
   ]
  },
  {
   "cell_type": "code",
   "execution_count": 3,
   "id": "9c937df7",
   "metadata": {},
   "outputs": [],
   "source": [
    "df = dataset.sample(frac=1)"
   ]
  },
  {
   "cell_type": "code",
   "execution_count": 4,
   "id": "5ec39142",
   "metadata": {},
   "outputs": [
    {
     "data": {
      "text/plain": [
       "0"
      ]
     },
     "execution_count": 4,
     "metadata": {},
     "output_type": "execute_result"
    }
   ],
   "source": [
    "df.isna().sum().sum()"
   ]
  },
  {
   "cell_type": "code",
   "execution_count": 5,
   "id": "168ef1eb",
   "metadata": {},
   "outputs": [
    {
     "data": {
      "text/html": [
       "<div>\n",
       "<style scoped>\n",
       "    .dataframe tbody tr th:only-of-type {\n",
       "        vertical-align: middle;\n",
       "    }\n",
       "\n",
       "    .dataframe tbody tr th {\n",
       "        vertical-align: top;\n",
       "    }\n",
       "\n",
       "    .dataframe thead th {\n",
       "        text-align: right;\n",
       "    }\n",
       "</style>\n",
       "<table border=\"1\" class=\"dataframe\">\n",
       "  <thead>\n",
       "    <tr style=\"text-align: right;\">\n",
       "      <th></th>\n",
       "      <th>Area</th>\n",
       "      <th>MajorAxisLength</th>\n",
       "      <th>MinorAxisLength</th>\n",
       "      <th>Eccentricity</th>\n",
       "      <th>ConvexArea</th>\n",
       "      <th>Extent</th>\n",
       "      <th>Perimeter</th>\n",
       "      <th>Class</th>\n",
       "    </tr>\n",
       "  </thead>\n",
       "  <tbody>\n",
       "    <tr>\n",
       "      <th>450</th>\n",
       "      <td>137583</td>\n",
       "      <td>649.541485</td>\n",
       "      <td>273.260282</td>\n",
       "      <td>0.907201</td>\n",
       "      <td>142650</td>\n",
       "      <td>0.731638</td>\n",
       "      <td>1590.354</td>\n",
       "      <td>Besni</td>\n",
       "    </tr>\n",
       "    <tr>\n",
       "      <th>544</th>\n",
       "      <td>103666</td>\n",
       "      <td>456.382705</td>\n",
       "      <td>293.922435</td>\n",
       "      <td>0.765003</td>\n",
       "      <td>107992</td>\n",
       "      <td>0.647265</td>\n",
       "      <td>1332.203</td>\n",
       "      <td>Besni</td>\n",
       "    </tr>\n",
       "    <tr>\n",
       "      <th>408</th>\n",
       "      <td>82793</td>\n",
       "      <td>428.116905</td>\n",
       "      <td>249.390880</td>\n",
       "      <td>0.812809</td>\n",
       "      <td>84950</td>\n",
       "      <td>0.742458</td>\n",
       "      <td>1130.673</td>\n",
       "      <td>Kecimen</td>\n",
       "    </tr>\n",
       "    <tr>\n",
       "      <th>353</th>\n",
       "      <td>53121</td>\n",
       "      <td>350.968358</td>\n",
       "      <td>195.867445</td>\n",
       "      <td>0.829789</td>\n",
       "      <td>56120</td>\n",
       "      <td>0.732663</td>\n",
       "      <td>930.619</td>\n",
       "      <td>Kecimen</td>\n",
       "    </tr>\n",
       "    <tr>\n",
       "      <th>111</th>\n",
       "      <td>44367</td>\n",
       "      <td>322.504019</td>\n",
       "      <td>176.708973</td>\n",
       "      <td>0.836526</td>\n",
       "      <td>46531</td>\n",
       "      <td>0.733000</td>\n",
       "      <td>883.973</td>\n",
       "      <td>Kecimen</td>\n",
       "    </tr>\n",
       "  </tbody>\n",
       "</table>\n",
       "</div>"
      ],
      "text/plain": [
       "       Area  MajorAxisLength  MinorAxisLength  Eccentricity  ConvexArea  \\\n",
       "450  137583       649.541485       273.260282      0.907201      142650   \n",
       "544  103666       456.382705       293.922435      0.765003      107992   \n",
       "408   82793       428.116905       249.390880      0.812809       84950   \n",
       "353   53121       350.968358       195.867445      0.829789       56120   \n",
       "111   44367       322.504019       176.708973      0.836526       46531   \n",
       "\n",
       "       Extent  Perimeter    Class  \n",
       "450  0.731638   1590.354    Besni  \n",
       "544  0.647265   1332.203    Besni  \n",
       "408  0.742458   1130.673  Kecimen  \n",
       "353  0.732663    930.619  Kecimen  \n",
       "111  0.733000    883.973  Kecimen  "
      ]
     },
     "execution_count": 5,
     "metadata": {},
     "output_type": "execute_result"
    }
   ],
   "source": [
    "df.head()"
   ]
  },
  {
   "cell_type": "code",
   "execution_count": 6,
   "id": "eba69d0f",
   "metadata": {},
   "outputs": [],
   "source": [
    "from sklearn.preprocessing import OneHotEncoder\n",
    "from sklearn.compose import make_column_transformer\n"
   ]
  },
  {
   "cell_type": "code",
   "execution_count": 7,
   "id": "a61508b1",
   "metadata": {},
   "outputs": [],
   "source": [
    "transformer = make_column_transformer((OneHotEncoder(), ['Class']),remainder='passthrough')\n",
    "transformed = transformer.fit_transform(df)\n",
    "transformed_df = pd.DataFrame(transformed,columns=transformer.get_feature_names_out())"
   ]
  },
  {
   "cell_type": "code",
   "execution_count": 8,
   "id": "b4fb31ab",
   "metadata": {},
   "outputs": [],
   "source": [
    "df = transformed_df"
   ]
  },
  {
   "cell_type": "code",
   "execution_count": 9,
   "id": "2906be05",
   "metadata": {},
   "outputs": [
    {
     "data": {
      "text/html": [
       "<div>\n",
       "<style scoped>\n",
       "    .dataframe tbody tr th:only-of-type {\n",
       "        vertical-align: middle;\n",
       "    }\n",
       "\n",
       "    .dataframe tbody tr th {\n",
       "        vertical-align: top;\n",
       "    }\n",
       "\n",
       "    .dataframe thead th {\n",
       "        text-align: right;\n",
       "    }\n",
       "</style>\n",
       "<table border=\"1\" class=\"dataframe\">\n",
       "  <thead>\n",
       "    <tr style=\"text-align: right;\">\n",
       "      <th></th>\n",
       "      <th>onehotencoder__Class_Besni</th>\n",
       "      <th>onehotencoder__Class_Kecimen</th>\n",
       "      <th>remainder__Area</th>\n",
       "      <th>remainder__MajorAxisLength</th>\n",
       "      <th>remainder__MinorAxisLength</th>\n",
       "      <th>remainder__Eccentricity</th>\n",
       "      <th>remainder__ConvexArea</th>\n",
       "      <th>remainder__Extent</th>\n",
       "      <th>remainder__Perimeter</th>\n",
       "    </tr>\n",
       "  </thead>\n",
       "  <tbody>\n",
       "    <tr>\n",
       "      <th>0</th>\n",
       "      <td>1.0</td>\n",
       "      <td>0.0</td>\n",
       "      <td>137583.0</td>\n",
       "      <td>649.541485</td>\n",
       "      <td>273.260282</td>\n",
       "      <td>0.907201</td>\n",
       "      <td>142650.0</td>\n",
       "      <td>0.731638</td>\n",
       "      <td>1590.354</td>\n",
       "    </tr>\n",
       "    <tr>\n",
       "      <th>1</th>\n",
       "      <td>1.0</td>\n",
       "      <td>0.0</td>\n",
       "      <td>103666.0</td>\n",
       "      <td>456.382705</td>\n",
       "      <td>293.922435</td>\n",
       "      <td>0.765003</td>\n",
       "      <td>107992.0</td>\n",
       "      <td>0.647265</td>\n",
       "      <td>1332.203</td>\n",
       "    </tr>\n",
       "    <tr>\n",
       "      <th>2</th>\n",
       "      <td>0.0</td>\n",
       "      <td>1.0</td>\n",
       "      <td>82793.0</td>\n",
       "      <td>428.116905</td>\n",
       "      <td>249.390880</td>\n",
       "      <td>0.812809</td>\n",
       "      <td>84950.0</td>\n",
       "      <td>0.742458</td>\n",
       "      <td>1130.673</td>\n",
       "    </tr>\n",
       "    <tr>\n",
       "      <th>3</th>\n",
       "      <td>0.0</td>\n",
       "      <td>1.0</td>\n",
       "      <td>53121.0</td>\n",
       "      <td>350.968358</td>\n",
       "      <td>195.867445</td>\n",
       "      <td>0.829789</td>\n",
       "      <td>56120.0</td>\n",
       "      <td>0.732663</td>\n",
       "      <td>930.619</td>\n",
       "    </tr>\n",
       "    <tr>\n",
       "      <th>4</th>\n",
       "      <td>0.0</td>\n",
       "      <td>1.0</td>\n",
       "      <td>44367.0</td>\n",
       "      <td>322.504019</td>\n",
       "      <td>176.708973</td>\n",
       "      <td>0.836526</td>\n",
       "      <td>46531.0</td>\n",
       "      <td>0.733000</td>\n",
       "      <td>883.973</td>\n",
       "    </tr>\n",
       "    <tr>\n",
       "      <th>...</th>\n",
       "      <td>...</td>\n",
       "      <td>...</td>\n",
       "      <td>...</td>\n",
       "      <td>...</td>\n",
       "      <td>...</td>\n",
       "      <td>...</td>\n",
       "      <td>...</td>\n",
       "      <td>...</td>\n",
       "      <td>...</td>\n",
       "    </tr>\n",
       "    <tr>\n",
       "      <th>895</th>\n",
       "      <td>0.0</td>\n",
       "      <td>1.0</td>\n",
       "      <td>75314.0</td>\n",
       "      <td>392.651558</td>\n",
       "      <td>246.075672</td>\n",
       "      <td>0.779259</td>\n",
       "      <td>77118.0</td>\n",
       "      <td>0.704712</td>\n",
       "      <td>1073.768</td>\n",
       "    </tr>\n",
       "    <tr>\n",
       "      <th>896</th>\n",
       "      <td>0.0</td>\n",
       "      <td>1.0</td>\n",
       "      <td>54983.0</td>\n",
       "      <td>292.898907</td>\n",
       "      <td>248.408020</td>\n",
       "      <td>0.529834</td>\n",
       "      <td>58095.0</td>\n",
       "      <td>0.725274</td>\n",
       "      <td>921.613</td>\n",
       "    </tr>\n",
       "    <tr>\n",
       "      <th>897</th>\n",
       "      <td>1.0</td>\n",
       "      <td>0.0</td>\n",
       "      <td>106393.0</td>\n",
       "      <td>472.309406</td>\n",
       "      <td>287.593890</td>\n",
       "      <td>0.793239</td>\n",
       "      <td>109501.0</td>\n",
       "      <td>0.678388</td>\n",
       "      <td>1281.378</td>\n",
       "    </tr>\n",
       "    <tr>\n",
       "      <th>898</th>\n",
       "      <td>1.0</td>\n",
       "      <td>0.0</td>\n",
       "      <td>82853.0</td>\n",
       "      <td>430.114997</td>\n",
       "      <td>251.175700</td>\n",
       "      <td>0.811773</td>\n",
       "      <td>85292.0</td>\n",
       "      <td>0.746437</td>\n",
       "      <td>1139.840</td>\n",
       "    </tr>\n",
       "    <tr>\n",
       "      <th>899</th>\n",
       "      <td>1.0</td>\n",
       "      <td>0.0</td>\n",
       "      <td>53077.0</td>\n",
       "      <td>327.287820</td>\n",
       "      <td>212.231089</td>\n",
       "      <td>0.761254</td>\n",
       "      <td>55532.0</td>\n",
       "      <td>0.646413</td>\n",
       "      <td>934.708</td>\n",
       "    </tr>\n",
       "  </tbody>\n",
       "</table>\n",
       "<p>900 rows × 9 columns</p>\n",
       "</div>"
      ],
      "text/plain": [
       "     onehotencoder__Class_Besni  onehotencoder__Class_Kecimen  \\\n",
       "0                           1.0                           0.0   \n",
       "1                           1.0                           0.0   \n",
       "2                           0.0                           1.0   \n",
       "3                           0.0                           1.0   \n",
       "4                           0.0                           1.0   \n",
       "..                          ...                           ...   \n",
       "895                         0.0                           1.0   \n",
       "896                         0.0                           1.0   \n",
       "897                         1.0                           0.0   \n",
       "898                         1.0                           0.0   \n",
       "899                         1.0                           0.0   \n",
       "\n",
       "     remainder__Area  remainder__MajorAxisLength  remainder__MinorAxisLength  \\\n",
       "0           137583.0                  649.541485                  273.260282   \n",
       "1           103666.0                  456.382705                  293.922435   \n",
       "2            82793.0                  428.116905                  249.390880   \n",
       "3            53121.0                  350.968358                  195.867445   \n",
       "4            44367.0                  322.504019                  176.708973   \n",
       "..               ...                         ...                         ...   \n",
       "895          75314.0                  392.651558                  246.075672   \n",
       "896          54983.0                  292.898907                  248.408020   \n",
       "897         106393.0                  472.309406                  287.593890   \n",
       "898          82853.0                  430.114997                  251.175700   \n",
       "899          53077.0                  327.287820                  212.231089   \n",
       "\n",
       "     remainder__Eccentricity  remainder__ConvexArea  remainder__Extent  \\\n",
       "0                   0.907201               142650.0           0.731638   \n",
       "1                   0.765003               107992.0           0.647265   \n",
       "2                   0.812809                84950.0           0.742458   \n",
       "3                   0.829789                56120.0           0.732663   \n",
       "4                   0.836526                46531.0           0.733000   \n",
       "..                       ...                    ...                ...   \n",
       "895                 0.779259                77118.0           0.704712   \n",
       "896                 0.529834                58095.0           0.725274   \n",
       "897                 0.793239               109501.0           0.678388   \n",
       "898                 0.811773                85292.0           0.746437   \n",
       "899                 0.761254                55532.0           0.646413   \n",
       "\n",
       "     remainder__Perimeter  \n",
       "0                1590.354  \n",
       "1                1332.203  \n",
       "2                1130.673  \n",
       "3                 930.619  \n",
       "4                 883.973  \n",
       "..                    ...  \n",
       "895              1073.768  \n",
       "896               921.613  \n",
       "897              1281.378  \n",
       "898              1139.840  \n",
       "899               934.708  \n",
       "\n",
       "[900 rows x 9 columns]"
      ]
     },
     "execution_count": 9,
     "metadata": {},
     "output_type": "execute_result"
    }
   ],
   "source": [
    "df"
   ]
  },
  {
   "cell_type": "code",
   "execution_count": 10,
   "id": "df3b9a96",
   "metadata": {},
   "outputs": [],
   "source": [
    "X = df.iloc[:,[2,8]].values # Based on Area and Perimeter\n",
    "Y = df.iloc[:, 0].values  # Bensi class resins\n",
    "Z =  df.iloc[:, 1].values # Kecimen class resins"
   ]
  },
  {
   "cell_type": "code",
   "execution_count": 11,
   "id": "e5c4f591",
   "metadata": {},
   "outputs": [],
   "source": [
    "import seaborn as sns"
   ]
  },
  {
   "cell_type": "code",
   "execution_count": 12,
   "id": "8b574050",
   "metadata": {},
   "outputs": [
    {
     "data": {
      "text/plain": [
       "<AxesSubplot: >"
      ]
     },
     "execution_count": 12,
     "metadata": {},
     "output_type": "execute_result"
    },
    {
     "data": {
      "image/png": "[encoded data removed]",
      "text/plain": [
       "<Figure size 640x480 with 2 Axes>"
      ]
     },
     "metadata": {},
     "output_type": "display_data"
    }
   ],
   "source": [
    "sns.heatmap(df.corr())"
   ]
  },
  {
   "cell_type": "code",
   "execution_count": null,
   "id": "018f41d5",
   "metadata": {},
   "outputs": [],
   "source": []
  },
  {
   "cell_type": "code",
   "execution_count": 13,
   "id": "856c7ef7",
   "metadata": {},
   "outputs": [
    {
     "data": {
      "text/plain": [
       "array([[137583.   ,   1590.354],\n",
       "       [103666.   ,   1332.203],\n",
       "       [ 82793.   ,   1130.673],\n",
       "       [ 53121.   ,    930.619],\n",
       "       [ 44367.   ,    883.973],\n",
       "       [ 49336.   ,    909.681],\n",
       "       [ 67404.   ,    997.276],\n",
       "       [ 63452.   ,    945.523],\n",
       "       [ 72653.   ,   1062.07 ],\n",
       "       [145693.   ,   1595.364]])"
      ]
     },
     "execution_count": 13,
     "metadata": {},
     "output_type": "execute_result"
    }
   ],
   "source": [
    "X[:10]\n"
   ]
  },
  {
   "cell_type": "code",
   "execution_count": 14,
   "id": "5de3d291",
   "metadata": {},
   "outputs": [
    {
     "data": {
      "text/plain": [
       "array([1., 1., 0., 0., 0., 0., 0., 0., 1., 1., 1., 0., 1., 1., 0., 0., 1.,\n",
       "       0., 1., 1.])"
      ]
     },
     "execution_count": 14,
     "metadata": {},
     "output_type": "execute_result"
    }
   ],
   "source": [
    "Y[:20]"
   ]
  },
  {
   "cell_type": "code",
   "execution_count": 15,
   "id": "a555a278",
   "metadata": {},
   "outputs": [
    {
     "data": {
      "text/plain": [
       "array([0., 0., 1., 1., 1., 1., 1., 1., 0., 0., 0., 1., 0., 0., 1., 1., 0.,\n",
       "       1., 0., 0.])"
      ]
     },
     "execution_count": 15,
     "metadata": {},
     "output_type": "execute_result"
    }
   ],
   "source": [
    "Z[:20]"
   ]
  },
  {
   "cell_type": "code",
   "execution_count": 16,
   "id": "a8cf0f58",
   "metadata": {},
   "outputs": [
    {
     "data": {
      "text/plain": [
       "(900, 2)"
      ]
     },
     "execution_count": 16,
     "metadata": {},
     "output_type": "execute_result"
    }
   ],
   "source": [
    "X.shape"
   ]
  },
  {
   "cell_type": "code",
   "execution_count": 17,
   "id": "13603204",
   "metadata": {},
   "outputs": [
    {
     "data": {
      "text/plain": [
       "(900,)"
      ]
     },
     "execution_count": 17,
     "metadata": {},
     "output_type": "execute_result"
    }
   ],
   "source": [
    "Y.shape"
   ]
  },
  {
   "cell_type": "code",
   "execution_count": 18,
   "id": "ee3a53ba",
   "metadata": {},
   "outputs": [
    {
     "data": {
      "text/plain": [
       "array([[137583.   ,   1590.354, 103666.   , ...,   1139.84 ,  53077.   ,\n",
       "           934.708]])"
      ]
     },
     "execution_count": 18,
     "metadata": {},
     "output_type": "execute_result"
    }
   ],
   "source": [
    "X.reshape(1,-1)"
   ]
  },
  {
   "cell_type": "code",
   "execution_count": 19,
   "id": "b23f5436",
   "metadata": {},
   "outputs": [],
   "source": [
    "X_mod = X.reshape(-1,1)"
   ]
  },
  {
   "cell_type": "code",
   "execution_count": 20,
   "id": "fc541a05",
   "metadata": {},
   "outputs": [
    {
     "data": {
      "text/plain": [
       "array([[137583.   ],\n",
       "       [  1590.354],\n",
       "       [103666.   ],\n",
       "       ...,\n",
       "       [  1139.84 ],\n",
       "       [ 53077.   ],\n",
       "       [   934.708]])"
      ]
     },
     "execution_count": 20,
     "metadata": {},
     "output_type": "execute_result"
    }
   ],
   "source": [
    "X_mod"
   ]
  },
  {
   "cell_type": "code",
   "execution_count": 21,
   "id": "803857e0",
   "metadata": {},
   "outputs": [],
   "source": [
    "from sklearn.model_selection import train_test_split"
   ]
  },
  {
   "cell_type": "code",
   "execution_count": 22,
   "id": "5b30621b",
   "metadata": {},
   "outputs": [],
   "source": [
    "X_train, X_test, y_train, y_test = train_test_split(X, Y, test_size = 0.25, random_state = 0)"
   ]
  },
  {
   "cell_type": "code",
   "execution_count": 23,
   "id": "749fc7e8",
   "metadata": {},
   "outputs": [],
   "source": [
    "X_train, X_test, z_train, z_test = train_test_split(X, Z, test_size = 0.25, random_state = 0)"
   ]
  },
  {
   "cell_type": "code",
   "execution_count": 24,
   "id": "3a209c57",
   "metadata": {},
   "outputs": [
    {
     "data": {
      "text/plain": [
       "array([[ 76741.   ,   1056.74 ],\n",
       "       [ 75368.   ,   1078.409],\n",
       "       [ 87524.   ,   1184.04 ],\n",
       "       [ 64380.   ,    981.544],\n",
       "       [ 53758.   ,    965.068],\n",
       "       [104352.   ,   1390.73 ],\n",
       "       [ 90176.   ,   1136.669],\n",
       "       [ 83248.   ,   1129.072],\n",
       "       [ 53964.   ,    943.599],\n",
       "       [ 99378.   ,   1260.343]])"
      ]
     },
     "execution_count": 24,
     "metadata": {},
     "output_type": "execute_result"
    }
   ],
   "source": [
    "X_train[:10]"
   ]
  },
  {
   "cell_type": "code",
   "execution_count": 25,
   "id": "6e78136f",
   "metadata": {},
   "outputs": [],
   "source": [
    "mean = sum(X_train[:,0])/len(X_train[:,0])"
   ]
  },
  {
   "cell_type": "code",
   "execution_count": 26,
   "id": "583d1947",
   "metadata": {},
   "outputs": [
    {
     "data": {
      "text/plain": [
       "87389.63111111111"
      ]
     },
     "execution_count": 26,
     "metadata": {},
     "output_type": "execute_result"
    }
   ],
   "source": [
    "mean"
   ]
  },
  {
   "cell_type": "code",
   "execution_count": 27,
   "id": "5c4b09d5",
   "metadata": {},
   "outputs": [],
   "source": [
    "a = [(X_train[i][0] - mean)**2 for i in range(len(X_train))]"
   ]
  },
  {
   "cell_type": "code",
   "execution_count": 28,
   "id": "c5a6df1f",
   "metadata": {},
   "outputs": [
    {
     "data": {
      "text/plain": [
       "[113393344.54052351,\n",
       " 144519614.57163462,\n",
       " 18054.998301233907,\n",
       " 529443123.8694125,\n",
       " 1131086611.193857,\n",
       " 287721958.3227456,\n",
       " 7763851.584967888,\n",
       " 17153108.260523476,\n",
       " 1117272815.1760793,\n",
       " 143720988.61607894,\n",
       " 814111038.1227459,\n",
       " 68618544.38496794,\n",
       " 723576046.6205233,\n",
       " 1091154718.1227458,\n",
       " 1291800846.9271903,\n",
       " 18942.32274567969,\n",
       " 18702434.247190144,\n",
       " 825966396.4027458,\n",
       " 839340215.2960789,\n",
       " 69466075.75830127,\n",
       " 998726293.144968,\n",
       " 92724745.19830118,\n",
       " 84499645.7894123,\n",
       " 834899707.0471903,\n",
       " 385558009.13163465,\n",
       " 83715749.46941239,\n",
       " 21129017.57163459,\n",
       " 2383454022.08719,\n",
       " 9794590.891634583,\n",
       " 1093534363.5627458,\n",
       " 886707314.5894125,\n",
       " 4503533174.92719,\n",
       " 353952715.584968,\n",
       " 666484902.60719,\n",
       " 1208718638.8160791,\n",
       " 1508439266.584968,\n",
       " 424221213.12719023,\n",
       " 480514068.3094125,\n",
       " 159431813.2160791,\n",
       " 528937032.984968,\n",
       " 437829213.3983011,\n",
       " 78985325.76719008,\n",
       " 1117455846.5716343,\n",
       " 578901351.0694122,\n",
       " 295620950.78496796,\n",
       " 6222901424.736078,\n",
       " 5357269249.304968,\n",
       " 687402867.1938567,\n",
       " 383832009.5938569,\n",
       " 99752775.21163462,\n",
       " 31949274.056078985,\n",
       " 3135593328.7405233,\n",
       " 498523111.0338569,\n",
       " 403864042.5183011,\n",
       " 102482597.6605234,\n",
       " 4813496827.420523,\n",
       " 1582498611.5983014,\n",
       " 11550739968.064968,\n",
       " 6170160452.5805235,\n",
       " 1100290768.3094125,\n",
       " 46531073.518301204,\n",
       " 1135040955.8694122,\n",
       " 929434676.504968,\n",
       " 585573747.6516347,\n",
       " 1734586631.1049676,\n",
       " 149417157.54052353,\n",
       " 188056486.2827456,\n",
       " 13800227345.842745,\n",
       " 27346298.976078987,\n",
       " 658249264.5627456,\n",
       " 9100848786.660522,\n",
       " 1111130963.0516348,\n",
       " 381719029.4338569,\n",
       " 149246075.70496798,\n",
       " 242436387.33607894,\n",
       " 1029359385.273857,\n",
       " 1772693671.7938566,\n",
       " 167168579.86496782,\n",
       " 218433.67830123228,\n",
       " 63590559.176078975,\n",
       " 1746540430.9271903,\n",
       " 48339079.36719016,\n",
       " 2381892017.891635,\n",
       " 9485663091.264967,\n",
       " 338840883.12274575,\n",
       " 646716998.7094125,\n",
       " 664318091.6205233,\n",
       " 35815809.53607904,\n",
       " 420470153.2694122,\n",
       " 1513336903.104968,\n",
       " 387789392.4560789,\n",
       " 1000859836.4738567,\n",
       " 535284.0827456826,\n",
       " 138942065.32274562,\n",
       " 979291348.1183014,\n",
       " 34148024.562745705,\n",
       " 1352501308.6516345,\n",
       " 875072899.193857,\n",
       " 454825194.5494124,\n",
       " 829922118.0383011,\n",
       " 120618186.12274574,\n",
       " 624418579.72719,\n",
       " 501833076.4383013,\n",
       " 1550991633.233857,\n",
       " 253625726.2871902,\n",
       " 5137215155.620523,\n",
       " 14232339417.28719,\n",
       " 2747083899.989413,\n",
       " 307778992.56274575,\n",
       " 22385851.562745657,\n",
       " 836923556.2249681,\n",
       " 849759294.1760792,\n",
       " 360606089.7360791,\n",
       " 3882955942.2827454,\n",
       " 93303407.33163452,\n",
       " 17310851.2427457,\n",
       " 11114508405.358301,\n",
       " 2055749050.9805233,\n",
       " 74730.54941234433,\n",
       " 1736108148.1494126,\n",
       " 2760146.584967893,\n",
       " 1338855095.4249678,\n",
       " 143008858.05163464,\n",
       " 20581021.838301256,\n",
       " 1592199042.9449677,\n",
       " 1569635931.1183014,\n",
       " 12015713.273856774,\n",
       " 124024552.50496796,\n",
       " 2281746581.9671903,\n",
       " 1272089869.718301,\n",
       " 1020570485.1849678,\n",
       " 623382603.3005236,\n",
       " 1160399092.7360792,\n",
       " 902619770.3405236,\n",
       " 62088586.447190166,\n",
       " 548572803.904968,\n",
       " 1931482176.5405238,\n",
       " 739330420.2205236,\n",
       " 187433380.22052354,\n",
       " 1156042915.953857,\n",
       " 1890368561.238301,\n",
       " 3506747.2783012437,\n",
       " 6382311261.464968,\n",
       " 8974221715.300524,\n",
       " 1774568796.5094125,\n",
       " 4136209417.8383007,\n",
       " 2002797991.3671904,\n",
       " 1139510143.9716346,\n",
       " 2005304922.7094126,\n",
       " 72362772.86052349,\n",
       " 4253826959.7405233,\n",
       " 665105072.8471903,\n",
       " 1652229914.944968,\n",
       " 740234.624967897,\n",
       " 29069686.03830126,\n",
       " 841949663.4960788,\n",
       " 142644060.41607895,\n",
       " 516181637.82496804,\n",
       " 1634474213.5183015,\n",
       " 1929724631.2960792,\n",
       " 2288917351.6338573,\n",
       " 61706820.38052342,\n",
       " 2179734898.7671905,\n",
       " 399425450.90941244,\n",
       " 759974285.0783014,\n",
       " 61742366.678301275,\n",
       " 955590762.2116348,\n",
       " 514048201.50052357,\n",
       " 180777944.55830118,\n",
       " 57903.331634569084,\n",
       " 296265642.76719004,\n",
       " 497228949.4294125,\n",
       " 455127.1360790157,\n",
       " 725797604.664968,\n",
       " 295534.7849679039,\n",
       " 152069125.86052352,\n",
       " 2037044657.273857,\n",
       " 2344654359.4605236,\n",
       " 335975376.66941243,\n",
       " 1559079.651634574,\n",
       " 1214008942.7449682,\n",
       " 352036326.21163464,\n",
       " 1926738640.3805237,\n",
       " 1610949156.9494126,\n",
       " 326619995.2783013,\n",
       " 183287432.1716345,\n",
       " 532992536.06052357,\n",
       " 446250039.58052355,\n",
       " 899403.549412341,\n",
       " 2299263023.953857,\n",
       " 506908614.06941247,\n",
       " 1285267751.064968,\n",
       " 7034909756.509412,\n",
       " 658416668.7583014,\n",
       " 743018674.4827455,\n",
       " 7718917268.0783,\n",
       " 2385797988.3805237,\n",
       " 266852843.7983013,\n",
       " 87841298.5894123,\n",
       " 42111908.57607898,\n",
       " 453503904.4205236,\n",
       " 2097331421.1271904,\n",
       " 440553606.3538567,\n",
       " 1920773594.5494125,\n",
       " 547343285.44719,\n",
       " 755569864.1005236,\n",
       " 239371369.2383013,\n",
       " 1102746764.0116348,\n",
       " 103319725.62496795,\n",
       " 65863468.33163461,\n",
       " 752328.7894123414,\n",
       " 103904769.30496785,\n",
       " 905205371.6160792,\n",
       " 202446481.23830116,\n",
       " 270557465.4294124,\n",
       " 3170647.153856799,\n",
       " 1945371776.5627456,\n",
       " 2519374280.4160786,\n",
       " 1583055589.433857,\n",
       " 1134838822.6560788,\n",
       " 326791265.9449678,\n",
       " 2380500096.3138566,\n",
       " 560097016.3849678,\n",
       " 411953234.46052355,\n",
       " 382138726.21607894,\n",
       " 18754365.820523478,\n",
       " 26859665.233856816,\n",
       " 49514177.39385682,\n",
       " 150488339.45607895,\n",
       " 108277158.82052352,\n",
       " 2353158869.998301,\n",
       " 299612.7005234541,\n",
       " 2147361411.5138571,\n",
       " 150691119.17607906,\n",
       " 1783341743.7805238,\n",
       " 483719809.4516347,\n",
       " 956085428.3094125,\n",
       " 486130570.66052336,\n",
       " 655238718.5005236,\n",
       " 176375162.70941243,\n",
       " 1549.9094123454854,\n",
       " 8195023464.20719,\n",
       " 2297537125.233857,\n",
       " 874363084.0471903,\n",
       " 230148048.30941242,\n",
       " 431668400.3271902,\n",
       " 5337963623.918301,\n",
       " 810664.1360790079,\n",
       " 340721062.4960791,\n",
       " 1313673284.3805237,\n",
       " 18340929.233856812,\n",
       " 6741127390.642745,\n",
       " 3682471259.7049675,\n",
       " 2270176468.2960787,\n",
       " 3466662323.016079,\n",
       " 2000448073.9849677,\n",
       " 7292027450.193856,\n",
       " 6661721377.820523,\n",
       " 685896777.7360791,\n",
       " 4666579743.211635,\n",
       " 1174339078.2294126,\n",
       " 3166153.6427456704,\n",
       " 259971480.20719022,\n",
       " 1086469125.5049682,\n",
       " 1201220710.4960792,\n",
       " 1739443078.6383014,\n",
       " 70537004.5405235,\n",
       " 1663712427.9183013,\n",
       " 820744064.5405236,\n",
       " 298576589.19830114,\n",
       " 2368343651.4427457,\n",
       " 326800746.58941245,\n",
       " 1643764760.8605232,\n",
       " 1716248619.4783015,\n",
       " 780120154.264968,\n",
       " 205739753.45163465,\n",
       " 2207743503.1716347,\n",
       " 87672676.9494123,\n",
       " 689935909.9271903,\n",
       " 371357223.4205235,\n",
       " 1421186787.6516347,\n",
       " 230269429.3583013,\n",
       " 3214251463.709412,\n",
       " 97305773.57607897,\n",
       " 1502288676.6649678,\n",
       " 47729183.82941238,\n",
       " 140674570.35385686,\n",
       " 1398134077.1494126,\n",
       " 9576741.713856805,\n",
       " 264018012.98496798,\n",
       " 168055731.58496797,\n",
       " 203671969.9627456,\n",
       " 160316902.39385685,\n",
       " 16600481.84274566,\n",
       " 1115735765.144968,\n",
       " 99747537.32274564,\n",
       " 157267428.66496795,\n",
       " 2272775103.3183017,\n",
       " 575406446.3227458,\n",
       " 573010183.2116346,\n",
       " 254008085.43385687,\n",
       " 8126097.731634581,\n",
       " 1386845074.9805233,\n",
       " 18650574.67385681,\n",
       " 116130126.42941229,\n",
       " 431449765.5183011,\n",
       " 33844831.74496793,\n",
       " 327162399.21163464,\n",
       " 298127494.60719,\n",
       " 3823467.4916345584,\n",
       " 118164919.7805234,\n",
       " 34923739.86941238,\n",
       " 704511266.3005236,\n",
       " 2897708614.7138567,\n",
       " 425004246.10941243,\n",
       " 2888779662.478301,\n",
       " 1383049158.3538566,\n",
       " 777050809.8427458,\n",
       " 1216728188.9716346,\n",
       " 358056044.36719,\n",
       " 76551455.95385675,\n",
       " 1679903929.8383014,\n",
       " 790038926.6783013,\n",
       " 8981422819.336079,\n",
       " 1677937147.5449681,\n",
       " 215256759.46052352,\n",
       " 668255128.8427458,\n",
       " 427925857.80719,\n",
       " 3844326264.700524,\n",
       " 1848859727.1049676,\n",
       " 17179179460.931633,\n",
       " 311994600.5049678,\n",
       " 1588450429.269412,\n",
       " 133295542.7805234,\n",
       " 96091576.70052351,\n",
       " 33740195.38496793,\n",
       " 939629024.238301,\n",
       " 3455719595.4027452,\n",
       " 133740692.73607907,\n",
       " 1842450.3005234501,\n",
       " 36619065.42941231,\n",
       " 1850946787.722746,\n",
       " 2051217514.0916343,\n",
       " 71717712.89607905,\n",
       " 69416076.97163461,\n",
       " 641387591.1760792,\n",
       " 81945382.50052342,\n",
       " 1355685235.1583014,\n",
       " 198686816.42052352,\n",
       " 245466447.9005234,\n",
       " 1537630438.6560793,\n",
       " 74005262.03385684,\n",
       " 516227078.0871902,\n",
       " 15260493229.038301,\n",
       " 18948449966.46052,\n",
       " 907131940.0071902,\n",
       " 713401.7138567943,\n",
       " 69432741.23385683,\n",
       " 13162598627.904968,\n",
       " 13949350585.85608,\n",
       " 230413239.86496782,\n",
       " 1206772491.473857,\n",
       " 145458822.79830128,\n",
       " 646093476.9716344,\n",
       " 897863402.9094121,\n",
       " 386973070.57163465,\n",
       " 2015797279.3894126,\n",
       " 1646706461.113857,\n",
       " 218555748.82941243,\n",
       " 5936759345.9138565,\n",
       " 1842953227.3360791,\n",
       " 8515297364.793857,\n",
       " 174837973.5005235,\n",
       " 235081535.74496782,\n",
       " 1976457648.5227454,\n",
       " 842893669.2338569,\n",
       " 674993192.9316347,\n",
       " 7116503119.3316345,\n",
       " 3315844372.5938563,\n",
       " 785099727.6027458,\n",
       " 29960637.540523484,\n",
       " 76696102.67830127,\n",
       " 1156982.2871901288,\n",
       " 667376496.384968,\n",
       " 1001319389.8960792,\n",
       " 1727014908.96719,\n",
       " 1703182452.0471904,\n",
       " 62372577.167190164,\n",
       " 249470371.93607908,\n",
       " 63706435.19385683,\n",
       " 864926402.0916348,\n",
       " 66526353.451634526,\n",
       " 765110513.4649681,\n",
       " 985794773.1449678,\n",
       " 54976754.51385683,\n",
       " 941301125.3760792,\n",
       " 1530794490.6916344,\n",
       " 291670683.90496784,\n",
       " 756229711.2471902,\n",
       " 53124143.47385683,\n",
       " 7033567830.60719,\n",
       " 300619035.72719,\n",
       " 3484584451.158301,\n",
       " 3148851824.736079,\n",
       " 524701735.6738567,\n",
       " 1406822391.5671904,\n",
       " 560346119.4605236,\n",
       " 37618213.927190095,\n",
       " 49919437.536078975,\n",
       " 1749132473.0560791,\n",
       " 206795009.38052338,\n",
       " 2482095284.3094125,\n",
       " 3346086701.8916345,\n",
       " 1680395805.4116347,\n",
       " 1802056081.7316349,\n",
       " 275614155.5494124,\n",
       " 497797181.6960789,\n",
       " 6841526.109412358,\n",
       " 3900173476.096079,\n",
       " 424056456.0783013,\n",
       " 1563303350.1405237,\n",
       " 209254483.44274575,\n",
       " 1882052682.122746,\n",
       " 25830473.522745654,\n",
       " 243036598.18052354,\n",
       " 68717983.95830128,\n",
       " 11975967.68719014,\n",
       " 3601003.8338567996,\n",
       " 948678876.8427458,\n",
       " 999801071.6027459,\n",
       " 570045760.953857,\n",
       " 953057607.4605236,\n",
       " 657377237.0205233,\n",
       " 1302172772.6871903,\n",
       " 1584727110.9405236,\n",
       " 50632206.10941238,\n",
       " 2704974452.2205234,\n",
       " 1469237281.376079,\n",
       " 1696152240.7760787,\n",
       " 2989833382.0871897,\n",
       " 170390439.3494123,\n",
       " 90827931.15830119,\n",
       " 495802861.03830135,\n",
       " 1592938297.9494126,\n",
       " 370971910.79830134,\n",
       " 813369358.7138569,\n",
       " 313338460.54052335,\n",
       " 4463224537.856079,\n",
       " 20399956.59385681,\n",
       " 4167186.9405234465,\n",
       " 501821328.0960789,\n",
       " 24943720.59830121,\n",
       " 44533852.32719009,\n",
       " 66221040.100523494,\n",
       " 436042517.8605236,\n",
       " 1299864316.2960792,\n",
       " 117475924.36274573,\n",
       " 21477374.99830121,\n",
       " 468706527.24719024,\n",
       " 856307.5805234523,\n",
       " 10253864829.251635,\n",
       " 332647664.80719024,\n",
       " 15207122.802745698,\n",
       " 672190200.7716347,\n",
       " 3658027701.8605237,\n",
       " 396871386.12719023,\n",
       " 138524216.49163464,\n",
       " 124715984.63385685,\n",
       " 95406617.52274573,\n",
       " 18410519330.513855,\n",
       " 2292554835.5983014,\n",
       " 253553676.7716345,\n",
       " 1182234088.384968,\n",
       " 1081596280.1005237,\n",
       " 713724945.664968,\n",
       " 1274963505.304968,\n",
       " 1233669462.4294126,\n",
       " 22635053.789412368,\n",
       " 490030436.94941247,\n",
       " 3766049.1094123553,\n",
       " 2258470590.5494123,\n",
       " 10631715.242745696,\n",
       " 1121823325.0071902,\n",
       " 2089529245.6960788,\n",
       " 3409078.0738567812,\n",
       " 970050337.3094125,\n",
       " 1586797835.7583015,\n",
       " 23084480.113856815,\n",
       " 248082380.3983013,\n",
       " 1374750728.8116348,\n",
       " 2719896931.811635,\n",
       " 1497429259.3494124,\n",
       " 12254418.17607903,\n",
       " 81963488.23830119,\n",
       " 2934320525.8205233,\n",
       " 1869146859.0516348,\n",
       " 380859857.664968,\n",
       " 1643867111.9360793,\n",
       " 698948338.7671902,\n",
       " 1035039.4560790074,\n",
       " 1442148558.2871902,\n",
       " 380537440.96719,\n",
       " 337957892.82941246,\n",
       " 457162935.5627456,\n",
       " 28572968.558301207,\n",
       " 1364905767.9360793,\n",
       " 317218580.5760791,\n",
       " 12885451.513856808,\n",
       " 14239736939.1583,\n",
       " 994243760.5271903,\n",
       " 684064728.5583013,\n",
       " 881339871.5449678,\n",
       " 2626012217.713857,\n",
       " 618200152.0294125,\n",
       " 2109714736.5271904,\n",
       " 1712439393.4160793,\n",
       " 1122225284.5805237,\n",
       " 2940173733.6605234,\n",
       " 1905028407.3494124,\n",
       " 321067943.63830113,\n",
       " 145820866.73163462,\n",
       " 4209072993.9449677,\n",
       " 58394526.038301274,\n",
       " 302503616.9671902,\n",
       " 63319719.63385675,\n",
       " 4303670803.833857,\n",
       " 1891261035.9183013,\n",
       " 2782734584.8827457,\n",
       " 77768254.67385684,\n",
       " 1455241759.3894126,\n",
       " 163267856.81163463,\n",
       " 882899873.8071903,\n",
       " 8743815052.260523,\n",
       " 288842563.66941226,\n",
       " 4578872812.344968,\n",
       " 7679.211634568332,\n",
       " 33473527.353856817,\n",
       " 651844.522745675,\n",
       " 11662567723.971634,\n",
       " 624431684.8071903,\n",
       " 2891710951.1360793,\n",
       " 873298901.3271903,\n",
       " 2791075583.5983014,\n",
       " 18278779.13607899,\n",
       " 82548692.68719018,\n",
       " 602929909.0027457,\n",
       " 155890984.24274573,\n",
       " 996199682.6560792,\n",
       " 2366578.838301227,\n",
       " 859977260.4694122,\n",
       " 1308242214.713857,\n",
       " 21802698587.18941,\n",
       " 6282840175.353856,\n",
       " 616411266.5894125,\n",
       " 345611565.10941243,\n",
       " 286578551.2960791,\n",
       " 3040249.4516345765,\n",
       " 2152437464.598301,\n",
       " 36486056.31385676,\n",
       " 1311137385.202746,\n",
       " 259391353.48719022,\n",
       " 554431487.8516345,\n",
       " 75244675.62052341,\n",
       " 10338694057.642746,\n",
       " 2077593932.4871902,\n",
       " 381552500.1494123,\n",
       " 14704395.758301252,\n",
       " 85167632.18496795,\n",
       " 180032824.63385686,\n",
       " 4162619924.0827456,\n",
       " 104624894.40719017,\n",
       " 163747056.7405234,\n",
       " 512009689.70052356,\n",
       " 278577166.8871902,\n",
       " 2520378247.7938566,\n",
       " 1973258013.9627454,\n",
       " 478050626.90941226,\n",
       " 1551679942.9405231,\n",
       " 59731738.85163461,\n",
       " 7775001.060523443,\n",
       " 380508657.304968,\n",
       " 117909869.60719018,\n",
       " 1410467.6560790183,\n",
       " 777426494.8560789,\n",
       " 1488290546.1271899,\n",
       " 18367125612.46941,\n",
       " 147564941.61163464,\n",
       " 11160310104.456078,\n",
       " 1973702252.6516345,\n",
       " 1470770906.6205237,\n",
       " 1685296991.3894122,\n",
       " 1181116044.3449678,\n",
       " 535337839.10052335,\n",
       " 40559462.22941238,\n",
       " 2272012389.220524,\n",
       " 2886658344.811635,\n",
       " 1157131192.1494126,\n",
       " 2164913513.073857,\n",
       " 806595847.5094125,\n",
       " 343522830.10941225,\n",
       " 33868106.269412376,\n",
       " 1837024.8249678945,\n",
       " 1080132472.2027454,\n",
       " 11955212.900523474,\n",
       " 1792559684.362746,\n",
       " 1235285678.4605236,\n",
       " 252416822.32274577,\n",
       " 769265233.1316347,\n",
       " 45045992.1716346,\n",
       " 6542604672.029412,\n",
       " 2581896832.100523,\n",
       " 11326997704.349411,\n",
       " 821145194.3760792,\n",
       " 8270878232.598301,\n",
       " 998456916.4383011,\n",
       " 3056793.771634559,\n",
       " 244222854.14496797,\n",
       " 392461105.02052355,\n",
       " 356062978.26941246,\n",
       " 105773637.09163462,\n",
       " 322467097.4116345,\n",
       " 63882152.07830127,\n",
       " 4968469172.878301,\n",
       " 58593377.44719016,\n",
       " 8066980120.384968,\n",
       " 106804600.20274574,\n",
       " 5219539.313856801,\n",
       " 20282693.184967924,\n",
       " 715007871.9583014,\n",
       " 154346609.98496798,\n",
       " 3233101550.1805234,\n",
       " 1357526841.713857,\n",
       " 1427753918.4649682,\n",
       " 1248818848.8071902,\n",
       " 5830443.402745691,\n",
       " 877559520.2071903,\n",
       " 98438763.90496795,\n",
       " 101598963.33607906,\n",
       " 6424354.869412358,\n",
       " 646310172.6116347,\n",
       " 38061112.48719009,\n",
       " 3654609810.016079,\n",
       " 11640547480.7183,\n",
       " 2897090914.2471905,\n",
       " 811146348.4871902,\n",
       " 2424245843.1716347,\n",
       " 1755808518.5005233,\n",
       " 1875637528.7183015,\n",
       " 1135126006.9271903,\n",
       " 467483592.62941223,\n",
       " 1729697415.9583015,\n",
       " 1445416311.5627458,\n",
       " 307348895.11830115,\n",
       " 630493574.5360792,\n",
       " 115898813.2205235,\n",
       " 1256605447.6516347,\n",
       " 2724583.0649679094,\n",
       " 140413757.46941242,\n",
       " 2629292898.104968,\n",
       " 964887051.544968,\n",
       " 912183086.5005233,\n",
       " 829361153.8738569,\n",
       " 9107527897.482746,\n",
       " 1492228140.7538567,\n",
       " 3057275055.1894126,\n",
       " 2125821432.4160793,\n",
       " 3399282823.7938566,\n",
       " 1271823257.7671902,\n",
       " 1164149227.1583014,\n",
       " 2236912.420523464,\n",
       " 584593522.12719,\n",
       " 751836170.2694125,\n",
       " 4989107.940523468,\n",
       " 530179688.064968,\n",
       " 7842230470.784967]"
      ]
     },
     "execution_count": 28,
     "metadata": {},
     "output_type": "execute_result"
    }
   ],
   "source": [
    "a\n"
   ]
  },
  {
   "cell_type": "code",
   "execution_count": 29,
   "id": "445748ba",
   "metadata": {},
   "outputs": [],
   "source": [
    "var = 0 \n",
    "for i in range(len(a)):\n",
    "    var = var + a[i]"
   ]
  },
  {
   "cell_type": "code",
   "execution_count": 30,
   "id": "2a0cbfee",
   "metadata": {},
   "outputs": [],
   "source": [
    "var = var / len(a)"
   ]
  },
  {
   "cell_type": "code",
   "execution_count": 31,
   "id": "8b8e550c",
   "metadata": {},
   "outputs": [],
   "source": [
    "import math\n",
    "sd = math.sqrt(var)"
   ]
  },
  {
   "cell_type": "code",
   "execution_count": 32,
   "id": "1d24d6ce",
   "metadata": {},
   "outputs": [
    {
     "data": {
      "text/plain": [
       "38964.51645502034"
      ]
     },
     "execution_count": 32,
     "metadata": {},
     "output_type": "execute_result"
    }
   ],
   "source": [
    "sd"
   ]
  },
  {
   "cell_type": "code",
   "execution_count": 33,
   "id": "1ca6e6bf",
   "metadata": {},
   "outputs": [
    {
     "data": {
      "text/plain": [
       "-2.2414658016334292"
      ]
     },
     "execution_count": 33,
     "metadata": {},
     "output_type": "execute_result"
    }
   ],
   "source": [
    "(52.0 - mean)/sd"
   ]
  },
  {
   "cell_type": "code",
   "execution_count": 34,
   "id": "913293b4",
   "metadata": {},
   "outputs": [
    {
     "data": {
      "text/plain": [
       "array([53758.   ,   965.068])"
      ]
     },
     "execution_count": 34,
     "metadata": {},
     "output_type": "execute_result"
    }
   ],
   "source": [
    "X_train[:][4]"
   ]
  },
  {
   "cell_type": "code",
   "execution_count": null,
   "id": "2ba2ea9b",
   "metadata": {},
   "outputs": [],
   "source": []
  },
  {
   "cell_type": "code",
   "execution_count": 35,
   "id": "95d33c08",
   "metadata": {},
   "outputs": [
    {
     "data": {
      "text/plain": [
       "array([0., 1., 0., 0., 0., 1., 0., 1., 0., 1.])"
      ]
     },
     "execution_count": 35,
     "metadata": {},
     "output_type": "execute_result"
    }
   ],
   "source": [
    "y_train[:10]"
   ]
  },
  {
   "cell_type": "code",
   "execution_count": 36,
   "id": "128ae03e",
   "metadata": {},
   "outputs": [],
   "source": [
    "# Feature Scaling\n",
    "from sklearn.preprocessing import StandardScaler\n",
    "sc = StandardScaler()\n",
    "X_train = sc.fit_transform(X_train)\n",
    "X_test = sc.fit_transform(X_test)\n"
   ]
  },
  {
   "cell_type": "code",
   "execution_count": 37,
   "id": "6c81ac5d",
   "metadata": {},
   "outputs": [
    {
     "data": {
      "text/plain": [
       "array([[-0.27329047, -0.38888362],\n",
       "       [-0.30852766, -0.30971585],\n",
       "       [ 0.00344849,  0.07620743],\n",
       "       ...,\n",
       "       [-0.05732475, -0.08219389],\n",
       "       [-0.59093845, -0.38465652],\n",
       "       [ 2.27274395,  1.67925172]])"
      ]
     },
     "execution_count": 37,
     "metadata": {},
     "output_type": "execute_result"
    }
   ],
   "source": [
    "X_train"
   ]
  },
  {
   "cell_type": "code",
   "execution_count": 38,
   "id": "21eba847",
   "metadata": {},
   "outputs": [
    {
     "data": {
      "text/plain": [
       "array([[ 2.57909986e+00,  2.54871783e+00],\n",
       "       [ 3.81197922e-01,  4.06289188e-01],\n",
       "       [ 2.13513095e-01,  2.56883659e-01],\n",
       "       [-3.07796980e-01, -2.26503319e-01],\n",
       "       [-1.20642355e+00, -1.36389780e+00],\n",
       "       [-8.29752154e-03,  1.55414128e-01],\n",
       "       [-7.36752201e-01, -8.33208159e-01],\n",
       "       [-6.15270441e-01, -6.29851752e-01],\n",
       "       [ 6.87440669e-01,  6.49223727e-01],\n",
       "       [-9.87587164e-01, -1.01146168e+00],\n",
       "       [-1.21257713e+00, -1.35279425e+00],\n",
       "       [-1.27958850e-01,  1.80896134e-02],\n",
       "       [-1.16206656e+00, -1.30039194e+00],\n",
       "       [-1.32675152e+00, -1.51178039e+00],\n",
       "       [-7.32931859e-01, -6.71908323e-01],\n",
       "       [-9.66562461e-01, -8.93378928e-01],\n",
       "       [ 4.33400721e-01,  7.43770471e-01],\n",
       "       [ 2.81955067e+00,  1.88091601e+00],\n",
       "       [-9.11513635e-01, -9.23724237e-01],\n",
       "       [ 3.17713574e-01,  8.02216950e-01],\n",
       "       [-1.48225740e+00, -1.66657844e+00],\n",
       "       [ 1.66085878e+00,  1.49388426e+00],\n",
       "       [-6.97061664e-01, -4.04390752e-01],\n",
       "       [ 8.60714989e-01,  9.34518692e-01],\n",
       "       [ 1.83642633e-01,  3.53209607e-01],\n",
       "       [ 3.56301596e-01,  6.04106633e-01],\n",
       "       [-1.68854461e-01,  4.40350910e-04],\n",
       "       [-8.73797369e-01, -1.02666179e+00],\n",
       "       [ 3.94182983e-02,  3.52118655e-01],\n",
       "       [-1.05658409e+00, -1.12032260e+00],\n",
       "       [ 2.97458068e-01,  3.03659147e-01],\n",
       "       [ 8.55997251e-01,  1.29094154e+00],\n",
       "       [-5.90963834e-01, -6.41720433e-01],\n",
       "       [-3.39692993e-01, -3.98643119e-01],\n",
       "       [-5.15007222e-02,  3.56061459e-01],\n",
       "       [-4.95403994e-01, -5.07335631e-01],\n",
       "       [-5.10941763e-01, -7.16252965e-01],\n",
       "       [-8.90514572e-01, -8.91270242e-01],\n",
       "       [-4.95865512e-01, -5.54682222e-01],\n",
       "       [ 3.40339232e-02,  2.84073262e-01],\n",
       "       [-7.68468735e-01, -6.80233240e-01],\n",
       "       [-4.35267190e-02,  1.47056264e-01],\n",
       "       [ 3.32430867e-01,  3.37434733e-01],\n",
       "       [-7.07753495e-01, -6.11733893e-01],\n",
       "       [-5.66887985e-01, -5.54180677e-01],\n",
       "       [ 5.34088536e-01,  7.14314763e-01],\n",
       "       [-1.00848367e+00, -1.08601984e+00],\n",
       "       [-5.82861631e-01, -5.82311134e-01],\n",
       "       [-3.05016591e-02,  8.06969401e-03],\n",
       "       [-1.21906402e+00, -1.40453027e+00],\n",
       "       [ 6.75308902e-03,  2.21354497e-01],\n",
       "       [-7.09471367e-01, -7.26800056e-01],\n",
       "       [-1.40522392e-01,  9.12822510e-02],\n",
       "       [-1.17309171e+00, -1.31574214e+00],\n",
       "       [ 2.26185761e+00,  1.75215437e+00],\n",
       "       [ 2.93161849e-02,  1.93709331e-02],\n",
       "       [ 3.51814617e-01,  7.47651039e-01],\n",
       "       [-9.28461597e-01, -8.99884371e-01],\n",
       "       [-9.37808872e-02, -6.35707163e-02],\n",
       "       [-2.58081249e-01, -2.62339998e-01],\n",
       "       [-9.84536018e-01, -1.09393840e+00],\n",
       "       [ 1.07338345e-01,  1.78664588e-01],\n",
       "       [-3.31616430e-01, -2.67809403e-01],\n",
       "       [-4.06510524e-01, -4.50928281e-01],\n",
       "       [ 1.36382075e+00,  1.38760063e+00],\n",
       "       [ 5.60215576e-01,  7.01043953e-01],\n",
       "       [ 2.03122687e+00,  1.71101302e+00],\n",
       "       [-3.16386340e-01, -1.40589008e-01],\n",
       "       [-4.03279899e-01, -3.61711826e-01],\n",
       "       [ 1.36833337e+00,  1.00938803e+00],\n",
       "       [-9.32128100e-01, -1.01897022e+00],\n",
       "       [ 4.64860856e-01,  5.55961963e-01],\n",
       "       [-4.20356061e-01, -4.10068829e-01],\n",
       "       [ 7.35002649e-01,  6.87524201e-01],\n",
       "       [ 1.25310774e+00,  1.23288312e+00],\n",
       "       [-6.40782124e-01, -5.85067801e-01],\n",
       "       [ 1.67157625e+00,  1.30413547e+00],\n",
       "       [-8.70053946e-01, -9.68233620e-01],\n",
       "       [ 2.06650735e+00,  2.11942450e+00],\n",
       "       [-7.12701992e-01, -7.40652951e-01],\n",
       "       [-3.25206460e-01, -3.59804490e-01],\n",
       "       [-5.02187281e-02, -7.14636452e-02],\n",
       "       [-8.25876430e-01, -7.33953480e-01],\n",
       "       [-3.69101937e-01, -6.21392993e-02],\n",
       "       [-1.27616403e+00, -1.47015580e+00],\n",
       "       [-1.02953401e+00, -1.09427886e+00],\n",
       "       [-9.22282385e-01, -8.76330055e-01],\n",
       "       [ 1.94182060e+00,  1.76054518e+00],\n",
       "       [-1.00576584e+00, -9.76218072e-01],\n",
       "       [-1.02822638e+00, -1.10484060e+00],\n",
       "       [ 1.34208941e-01,  3.49973360e-01],\n",
       "       [-3.98664721e-01, -4.54212120e-01],\n",
       "       [-7.11727676e-01, -6.42902908e-01],\n",
       "       [ 2.29847136e+00,  1.63990345e+00],\n",
       "       [ 2.41434926e-01,  3.11127410e-01],\n",
       "       [ 1.24969763e+00,  1.42111263e+00],\n",
       "       [ 8.87303547e-01,  8.28981887e-01],\n",
       "       [-1.37291766e-01,  1.38209886e-02],\n",
       "       [ 3.26251655e-01,  3.38906420e-01],\n",
       "       [-1.13893939e+00, -1.19197765e+00],\n",
       "       [-6.73461691e-02, -3.44403029e-01],\n",
       "       [ 7.24413378e-01,  8.54157987e-01],\n",
       "       [-6.81934134e-01, -7.72722551e-01],\n",
       "       [ 4.44733549e-01,  3.92798723e-01],\n",
       "       [-7.55315475e-01, -4.79197853e-01],\n",
       "       [ 3.05669394e+00,  2.12729913e+00],\n",
       "       [ 4.17258877e-02, -4.04959805e-02],\n",
       "       [ 2.16564241e-01,  2.95334231e-01],\n",
       "       [ 1.16034265e+00,  1.18405752e+00],\n",
       "       [-9.94150974e-01, -1.11706072e+00],\n",
       "       [ 4.33657120e-01,  6.36655812e-01],\n",
       "       [-1.03171340e+00, -9.00828886e-01],\n",
       "       [-1.17180971e+00, -1.08752082e+00],\n",
       "       [-6.93600280e-01, -7.88764672e-01],\n",
       "       [ 9.29045274e-01,  8.42816478e-01],\n",
       "       [ 8.05190287e-02,  6.12481191e-02],\n",
       "       [ 7.19208482e-01,  1.13580302e+00],\n",
       "       [ 9.47813668e-01,  8.15736703e-01],\n",
       "       [ 2.18205194e-01,  2.04023734e-01],\n",
       "       [-1.25908787e+00, -1.45125817e+00],\n",
       "       [ 1.36843593e+00,  1.23949473e+00],\n",
       "       [-1.55971548e+00, -1.79779655e+00],\n",
       "       [-4.08254036e-01, -2.83104698e-01],\n",
       "       [-4.63328502e-01, -5.13306581e-01],\n",
       "       [ 1.57358062e+00,  1.40280074e+00],\n",
       "       [-4.03485018e-01, -4.66996029e-01],\n",
       "       [-6.03886334e-01, -6.75444765e-01],\n",
       "       [-5.64170157e-01, -6.77513181e-01],\n",
       "       [ 5.38022720e-02,  4.37392306e-01],\n",
       "       [ 5.53010769e-01,  2.88451714e-01],\n",
       "       [-1.01820118e+00, -9.67951730e-01],\n",
       "       [-3.79306610e-01, -3.44304184e-01],\n",
       "       [-4.07177161e-01, -5.98957306e-01],\n",
       "       [-1.27377952e+00, -1.37480732e+00],\n",
       "       [ 2.41973364e-01,  7.25786455e-02],\n",
       "       [ 3.67403665e-01,  2.05561317e-01],\n",
       "       [-5.62953801e-02,  1.22462249e-01],\n",
       "       [-5.26582091e-01, -5.31724635e-01],\n",
       "       [-5.15776419e-02, -2.91015931e-01],\n",
       "       [-4.93993801e-01, -5.48681985e-01],\n",
       "       [-6.46653657e-01, -4.65103337e-01],\n",
       "       [ 1.88616770e-01,  3.32957436e-01],\n",
       "       [-5.33735618e-01, -2.74036616e-01],\n",
       "       [ 8.20127057e-01,  8.94072923e-01],\n",
       "       [-1.02520087e+00, -1.11397091e+00],\n",
       "       [-7.96082887e-01, -7.51899277e-01],\n",
       "       [ 4.13940051e-01,  2.56158799e-01],\n",
       "       [-1.05007156e+00, -1.15573827e+00],\n",
       "       [ 3.54352965e-01,  2.84523554e-01],\n",
       "       [ 1.32941203e+00,  1.32667937e+00],\n",
       "       [-8.13748766e-01, -8.55444545e-01],\n",
       "       [-8.73412771e-01, -9.24269714e-01],\n",
       "       [ 4.09529991e-01,  1.98726392e-01],\n",
       "       [-1.19600248e-01, -1.22559011e-01],\n",
       "       [ 1.96487086e+00,  1.69027395e+00],\n",
       "       [ 1.22846781e+00,  1.04141370e+00],\n",
       "       [ 4.80445801e-03,  2.05424253e-02],\n",
       "       [ 1.89823280e+00,  1.87839730e+00],\n",
       "       [-8.69669348e-01, -9.63719714e-01],\n",
       "       [ 1.00147794e+00,  1.24246373e+00],\n",
       "       [-1.94648182e-01, -2.59667532e-01],\n",
       "       [ 2.36087883e+00,  4.31235910e+00],\n",
       "       [ 4.45938623e-01,  4.70022026e-01],\n",
       "       [-7.81442515e-01, -7.73824486e-01],\n",
       "       [ 7.13655909e-02,  2.88038031e-01],\n",
       "       [-4.24714841e-01, -4.46352139e-01],\n",
       "       [-7.28367960e-01, -5.03579534e-01],\n",
       "       [ 2.13545299e+00,  1.52957085e+00],\n",
       "       [-2.81105863e-01, -2.81098518e-01],\n",
       "       [-1.59521544e-01, -2.13327692e-01],\n",
       "       [-7.06522780e-01, -5.88970335e-01],\n",
       "       [-7.82083512e-01, -7.58997787e-01],\n",
       "       [-2.83644211e-01,  1.49725069e-01],\n",
       "       [-5.71657003e-01, -6.15233726e-01],\n",
       "       [ 3.87516614e-02,  5.66201537e-01],\n",
       "       [-1.83238434e-01,  6.56448759e-02],\n",
       "       [-3.14232590e-01, -4.80724453e-01],\n",
       "       [-5.17505572e-01, -5.09089209e-01],\n",
       "       [ 2.04022647e+00,  2.01687134e+00],\n",
       "       [ 3.12175360e-01,  6.27272891e-01],\n",
       "       [ 2.52151269e+00,  1.86119101e+00],\n",
       "       [-1.10558190e+00, -1.20781110e+00],\n",
       "       [-8.02697977e-01, -9.78392654e-01],\n",
       "       [ 3.74813591e-01,  5.78864636e-01],\n",
       "       [-5.76374741e-01, -6.61262388e-01],\n",
       "       [-5.13403191e-01, -5.79565449e-01],\n",
       "       [ 1.83472282e+00,  1.85051578e+00],\n",
       "       [-8.06825998e-01, -6.66171672e-01],\n",
       "       [ 2.95316010e+00,  2.01562297e+00],\n",
       "       [-8.15876876e-01, -8.07548818e-01],\n",
       "       [-8.18440864e-01, -8.12941343e-01],\n",
       "       [-1.04099504e+00, -1.06546747e+00],\n",
       "       [-4.13638412e-01, -1.57370634e-01],\n",
       "       [ 1.21257109e+00,  3.38334380e+00],\n",
       "       [-4.25637876e-01, -4.34845889e-01],\n",
       "       [-1.26606192e+00, -1.40073391e+00],\n",
       "       [ 2.05196953e+00,  1.66773371e+00],\n",
       "       [-6.84703241e-01, -7.12544460e-01],\n",
       "       [-5.33171540e-01, -4.82602502e-01],\n",
       "       [-5.97937881e-01, -5.26906873e-01],\n",
       "       [-2.88413229e-01, -2.18295552e-01],\n",
       "       [-2.58029969e-01, -1.68647858e-02],\n",
       "       [ 2.07253272e+00,  1.78137944e+00],\n",
       "       [-1.76572065e-01,  1.75999443e-01],\n",
       "       [-1.12062123e-01, -2.01656701e-01],\n",
       "       [-4.94891197e-01, -5.36579006e-01],\n",
       "       [-1.14868254e+00, -1.21528303e+00],\n",
       "       [ 1.24251847e+00,  1.30221349e+00],\n",
       "       [-7.93199939e-02, -2.53941863e-01],\n",
       "       [ 2.67963384e+00,  2.53047550e+00],\n",
       "       [-1.02232920e+00, -1.20427466e+00],\n",
       "       [ 1.72654405e-02,  4.44047847e-01],\n",
       "       [-5.65349592e-01, -6.14530831e-01],\n",
       "       [-6.55268657e-01, -8.19260079e-01],\n",
       "       [-2.74234375e-01, -2.72996917e-01],\n",
       "       [ 1.90746316e+00,  1.63963620e+00],\n",
       "       [ 6.96477189e-02, -3.29435165e-02],\n",
       "       [ 1.78864795e+00,  1.64836382e+00],\n",
       "       [-8.01569822e-01, -9.89595049e-01],\n",
       "       [-8.77027994e-01, -1.05058586e+00],\n",
       "       [-1.79982170e-01, -2.47945288e-01],\n",
       "       [-3.08591816e-01, -1.55781798e-01],\n",
       "       [ 2.04564776e-01,  1.41253716e-01],\n",
       "       [ 2.38139073e+00,  1.66232654e+00],\n",
       "       [-8.10466861e-01, -8.72273763e-01]])"
      ]
     },
     "execution_count": 38,
     "metadata": {},
     "output_type": "execute_result"
    }
   ],
   "source": [
    "X_test"
   ]
  },
  {
   "cell_type": "code",
   "execution_count": 39,
   "id": "12889d17",
   "metadata": {},
   "outputs": [
    {
     "data": {
      "text/html": [
       "<style>#sk-container-id-1 {color: black;background-color: white;}#sk-container-id-1 pre{padding: 0;}#sk-container-id-1 div.sk-toggleable {background-color: white;}#sk-container-id-1 label.sk-toggleable__label {cursor: pointer;display: block;width: 100%;margin-bottom: 0;padding: 0.3em;box-sizing: border-box;text-align: center;}#sk-container-id-1 label.sk-toggleable__label-arrow:before {content: \"▸\";float: left;margin-right: 0.25em;color: #696969;}#sk-container-id-1 label.sk-toggleable__label-arrow:hover:before {color: black;}#sk-container-id-1 div.sk-estimator:hover label.sk-toggleable__label-arrow:before {color: black;}#sk-container-id-1 div.sk-toggleable__content {max-height: 0;max-width: 0;overflow: hidden;text-align: left;background-color: #f0f8ff;}#sk-container-id-1 div.sk-toggleable__content pre {margin: 0.2em;color: black;border-radius: 0.25em;background-color: #f0f8ff;}#sk-container-id-1 input.sk-toggleable__control:checked~div.sk-toggleable__content {max-height: 200px;max-width: 100%;overflow: auto;}#sk-container-id-1 input.sk-toggleable__control:checked~label.sk-toggleable__label-arrow:before {content: \"▾\";}#sk-container-id-1 div.sk-estimator input.sk-toggleable__control:checked~label.sk-toggleable__label {background-color: #d4ebff;}#sk-container-id-1 div.sk-label input.sk-toggleable__control:checked~label.sk-toggleable__label {background-color: #d4ebff;}#sk-container-id-1 input.sk-hidden--visually {border: 0;clip: rect(1px 1px 1px 1px);clip: rect(1px, 1px, 1px, 1px);height: 1px;margin: -1px;overflow: hidden;padding: 0;position: absolute;width: 1px;}#sk-container-id-1 div.sk-estimator {font-family: monospace;background-color: #f0f8ff;border: 1px dotted black;border-radius: 0.25em;box-sizing: border-box;margin-bottom: 0.5em;}#sk-container-id-1 div.sk-estimator:hover {background-color: #d4ebff;}#sk-container-id-1 div.sk-parallel-item::after {content: \"\";width: 100%;border-bottom: 1px solid gray;flex-grow: 1;}#sk-container-id-1 div.sk-label:hover label.sk-toggleable__label {background-color: #d4ebff;}#sk-container-id-1 div.sk-serial::before {content: \"\";position: absolute;border-left: 1px solid gray;box-sizing: border-box;top: 0;bottom: 0;left: 50%;z-index: 0;}#sk-container-id-1 div.sk-serial {display: flex;flex-direction: column;align-items: center;background-color: white;padding-right: 0.2em;padding-left: 0.2em;position: relative;}#sk-container-id-1 div.sk-item {position: relative;z-index: 1;}#sk-container-id-1 div.sk-parallel {display: flex;align-items: stretch;justify-content: center;background-color: white;position: relative;}#sk-container-id-1 div.sk-item::before, #sk-container-id-1 div.sk-parallel-item::before {content: \"\";position: absolute;border-left: 1px solid gray;box-sizing: border-box;top: 0;bottom: 0;left: 50%;z-index: -1;}#sk-container-id-1 div.sk-parallel-item {display: flex;flex-direction: column;z-index: 1;position: relative;background-color: white;}#sk-container-id-1 div.sk-parallel-item:first-child::after {align-self: flex-end;width: 50%;}#sk-container-id-1 div.sk-parallel-item:last-child::after {align-self: flex-start;width: 50%;}#sk-container-id-1 div.sk-parallel-item:only-child::after {width: 0;}#sk-container-id-1 div.sk-dashed-wrapped {border: 1px dashed gray;margin: 0 0.4em 0.5em 0.4em;box-sizing: border-box;padding-bottom: 0.4em;background-color: white;}#sk-container-id-1 div.sk-label label {font-family: monospace;font-weight: bold;display: inline-block;line-height: 1.2em;}#sk-container-id-1 div.sk-label-container {text-align: center;}#sk-container-id-1 div.sk-container {/* jupyter's `normalize.less` sets `[hidden] { display: none; }` but bootstrap.min.css set `[hidden] { display: none !important; }` so we also need the `!important` here to be able to override the default hidden behavior on the sphinx rendered scikit-learn.org. See: https://github.com/scikit-learn/scikit-learn/issues/21755 */display: inline-block !important;position: relative;}#sk-container-id-1 div.sk-text-repr-fallback {display: none;}</style><div id=\"sk-container-id-1\" class=\"sk-top-container\"><div class=\"sk-text-repr-fallback\"><pre>SVC(kernel=&#x27;linear&#x27;, random_state=0)</pre><b>In a Jupyter environment, please rerun this cell to show the HTML representation or trust the notebook. <br />On GitHub, the HTML representation is unable to render, please try loading this page with nbviewer.org.</b></div><div class=\"sk-container\" hidden><div class=\"sk-item\"><div class=\"sk-estimator sk-toggleable\"><input class=\"sk-toggleable__control sk-hidden--visually\" id=\"sk-estimator-id-1\" type=\"checkbox\" checked><label for=\"sk-estimator-id-1\" class=\"sk-toggleable__label sk-toggleable__label-arrow\">SVC</label><div class=\"sk-toggleable__content\"><pre>SVC(kernel=&#x27;linear&#x27;, random_state=0)</pre></div></div></div></div></div>"
      ],
      "text/plain": [
       "SVC(kernel='linear', random_state=0)"
      ]
     },
     "execution_count": 39,
     "metadata": {},
     "output_type": "execute_result"
    }
   ],
   "source": [
    "from sklearn.svm import SVC\n",
    "classifier = SVC(kernel = 'linear', random_state = 0)\n",
    "classifier.fit(X_train, y_train)"
   ]
  },
  {
   "cell_type": "code",
   "execution_count": 40,
   "id": "f46d9967",
   "metadata": {},
   "outputs": [],
   "source": [
    "y_pred = classifier.predict(X_test)"
   ]
  },
  {
   "cell_type": "code",
   "execution_count": 41,
   "id": "b0663b5a",
   "metadata": {},
   "outputs": [
    {
     "data": {
      "text/plain": [
       "array([1., 1., 1., 0., 0., 1., 0., 0., 1., 0., 0., 1., 0., 0., 0., 0., 1.,\n",
       "       1., 0., 1., 0., 1., 0., 1., 1., 1., 1., 0., 1., 0., 1., 1., 0., 0.,\n",
       "       1., 0., 0., 0., 0., 1., 0., 1., 1., 0., 0., 1., 0., 0., 1., 0., 1.,\n",
       "       0., 1., 0., 1., 1., 1., 0., 1., 0., 0., 1., 0., 0., 1., 1., 1., 1.,\n",
       "       0., 1., 0., 1., 0., 1., 1., 0., 1., 0., 1., 0., 0., 0., 0., 1., 0.,\n",
       "       0., 0., 1., 0., 0., 1., 0., 0., 1., 1., 1., 1., 1., 1., 0., 0., 1.,\n",
       "       0., 1., 0., 1., 0., 1., 1., 0., 1., 0., 0., 0., 1., 1., 1., 1., 1.,\n",
       "       0., 1., 0., 0., 0., 1., 0., 0., 0., 1., 1., 0., 0., 0., 0., 1., 1.,\n",
       "       1., 0., 0., 0., 0., 1., 0., 1., 0., 0., 1., 0., 1., 1., 0., 0., 1.,\n",
       "       0., 1., 1., 1., 1., 0., 1., 0., 1., 1., 0., 1., 0., 0., 1., 0., 0.,\n",
       "       0., 0., 1., 0., 1., 1., 0., 0., 1., 1., 1., 0., 0., 1., 0., 0., 1.,\n",
       "       0., 1., 0., 0., 0., 1., 1., 0., 0., 1., 0., 0., 0., 0., 1., 1., 1.,\n",
       "       0., 0., 0., 1., 0., 1., 0., 1., 0., 0., 0., 1., 0., 1., 0., 0., 0.,\n",
       "       1., 1., 1., 0.])"
      ]
     },
     "execution_count": 41,
     "metadata": {},
     "output_type": "execute_result"
    }
   ],
   "source": [
    "y_pred"
   ]
  },
  {
   "cell_type": "code",
   "execution_count": 42,
   "id": "8a92e3ca",
   "metadata": {},
   "outputs": [],
   "source": [
    "# from sklearn.svm import SVC\n",
    "# classifier = SVC(kernel = 'linear', random_state = 0)\n",
    "# classifier.fit(X_train, z_train)"
   ]
  },
  {
   "cell_type": "code",
   "execution_count": 43,
   "id": "79bfdf15",
   "metadata": {},
   "outputs": [],
   "source": [
    "# z_pred = classifier.predict(X_test)"
   ]
  },
  {
   "cell_type": "code",
   "execution_count": 44,
   "id": "e5739d73",
   "metadata": {},
   "outputs": [],
   "source": [
    "# z_pred"
   ]
  },
  {
   "cell_type": "code",
   "execution_count": 45,
   "id": "2487e9cc",
   "metadata": {},
   "outputs": [
    {
     "data": {
      "text/plain": [
       "225"
      ]
     },
     "execution_count": 45,
     "metadata": {},
     "output_type": "execute_result"
    }
   ],
   "source": [
    "len(X_test)"
   ]
  },
  {
   "cell_type": "code",
   "execution_count": 46,
   "id": "ac47616b",
   "metadata": {},
   "outputs": [],
   "source": [
    "from sklearn.metrics import confusion_matrix\n",
    "cm_y = confusion_matrix(y_test, y_pred)"
   ]
  },
  {
   "cell_type": "code",
   "execution_count": 47,
   "id": "8245e993",
   "metadata": {
    "scrolled": false
   },
   "outputs": [
    {
     "data": {
      "text/plain": [
       "array([[101,  13],\n",
       "       [ 19,  92]], dtype=int64)"
      ]
     },
     "execution_count": 47,
     "metadata": {},
     "output_type": "execute_result"
    }
   ],
   "source": [
    "cm_y"
   ]
  },
  {
   "cell_type": "code",
   "execution_count": 64,
   "id": "de49a8be",
   "metadata": {},
   "outputs": [
    {
     "data": {
      "text/plain": [
       "<AxesSubplot: >"
      ]
     },
     "execution_count": 64,
     "metadata": {},
     "output_type": "execute_result"
    },
    {
     "data": {
      "image/png": "[encoded data removed]",
      "text/plain": [
       "<Figure size 640x480 with 2 Axes>"
      ]
     },
     "metadata": {},
     "output_type": "display_data"
    }
   ],
   "source": [
    "sns.heatmap(cm_y,annot=True,vmax=225,vmin=0)"
   ]
  },
  {
   "cell_type": "code",
   "execution_count": 49,
   "id": "af4bc5da",
   "metadata": {},
   "outputs": [],
   "source": [
    "df_prediction = pd.DataFrame(columns=['y_pred','y_test'])"
   ]
  },
  {
   "cell_type": "code",
   "execution_count": 50,
   "id": "e1f8706b",
   "metadata": {},
   "outputs": [],
   "source": [
    "df_prediction['y_pred'] = y_pred"
   ]
  },
  {
   "cell_type": "code",
   "execution_count": 51,
   "id": "f0a23d32",
   "metadata": {},
   "outputs": [],
   "source": [
    "df_prediction['y_test'] = y_test"
   ]
  },
  {
   "cell_type": "code",
   "execution_count": 74,
   "id": "d0b91511",
   "metadata": {},
   "outputs": [
    {
     "data": {
      "text/plain": [
       "225"
      ]
     },
     "execution_count": 74,
     "metadata": {},
     "output_type": "execute_result"
    }
   ],
   "source": [
    "len(df_prediction)"
   ]
  },
  {
   "cell_type": "code",
   "execution_count": 77,
   "id": "a8c7b056",
   "metadata": {},
   "outputs": [
    {
     "data": {
      "text/plain": [
       "<AxesSubplot: >"
      ]
     },
     "execution_count": 77,
     "metadata": {},
     "output_type": "execute_result"
    },
    {
     "data": {
      "image/png": "[encoded data removed]",
      "text/plain": [
       "<Figure size 640x480 with 2 Axes>"
      ]
     },
     "metadata": {},
     "output_type": "display_data"
    }
   ],
   "source": [
    "sns.heatmap(df_prediction.corr(),annot=True)"
   ]
  },
  {
   "cell_type": "code",
   "execution_count": 62,
   "id": "f5c9d2c9",
   "metadata": {},
   "outputs": [
    {
     "data": {
      "text/plain": [
       "array([1., 1., 1., 0., 0., 1., 0., 0., 1., 0., 0., 1., 0., 0., 0., 0., 1.,\n",
       "       1., 0., 1., 0., 1., 0., 1., 1., 1., 1., 0., 1., 0., 1., 1., 0., 0.,\n",
       "       1., 0., 0., 0., 0., 1., 0., 1., 1., 0., 0., 1., 0., 0., 1., 0., 1.,\n",
       "       0., 1., 0., 1., 1., 1., 0., 1., 0., 0., 1., 0., 0., 1., 1., 1., 1.,\n",
       "       0., 1., 0., 1., 0., 1., 1., 0., 1., 0., 1., 0., 0., 0., 0., 1., 0.,\n",
       "       0., 0., 1., 0., 0., 1., 0., 0., 1., 1., 1., 1., 1., 1., 0., 0., 1.,\n",
       "       0., 1., 0., 1., 0., 1., 1., 0., 1., 0., 0., 0., 1., 1., 1., 1., 1.,\n",
       "       0., 1., 0., 0., 0., 1., 0., 0., 0., 1., 1., 0., 0., 0., 0., 1., 1.,\n",
       "       1., 0., 0., 0., 0., 1., 0., 1., 0., 0., 1., 0., 1., 1., 0., 0., 1.,\n",
       "       0., 1., 1., 1., 1., 0., 1., 0., 1., 1., 0., 1., 0., 0., 1., 0., 0.,\n",
       "       0., 0., 1., 0., 1., 1., 0., 0., 1., 1., 1., 0., 0., 1., 0., 0., 1.,\n",
       "       0., 1., 0., 0., 0., 1., 1., 0., 0., 1., 0., 0., 0., 0., 1., 1., 1.,\n",
       "       0., 0., 0., 1., 0., 1., 0., 1., 0., 0., 0., 1., 0., 1., 0., 0., 0.,\n",
       "       1., 1., 1., 0.])"
      ]
     },
     "execution_count": 62,
     "metadata": {},
     "output_type": "execute_result"
    }
   ],
   "source": [
    "y_pred"
   ]
  },
  {
   "cell_type": "code",
   "execution_count": 63,
   "id": "cda541ac",
   "metadata": {},
   "outputs": [
    {
     "data": {
      "text/plain": [
       "array([1., 1., 1., 0., 0., 0., 0., 0., 1., 0., 0., 0., 0., 0., 0., 1., 1.,\n",
       "       1., 0., 1., 0., 1., 1., 1., 1., 1., 1., 0., 1., 0., 1., 1., 0., 0.,\n",
       "       1., 0., 0., 0., 0., 1., 0., 1., 1., 1., 1., 1., 0., 1., 0., 0., 1.,\n",
       "       0., 1., 0., 1., 0., 1., 0., 1., 0., 0., 1., 1., 0., 1., 1., 1., 1.,\n",
       "       0., 1., 0., 1., 1., 1., 1., 0., 1., 0., 1., 0., 1., 0., 0., 1., 0.,\n",
       "       0., 1., 1., 0., 0., 1., 0., 0., 1., 1., 1., 1., 1., 1., 0., 0., 1.,\n",
       "       1., 1., 0., 1., 1., 1., 1., 0., 1., 0., 0., 0., 1., 1., 1., 1., 1.,\n",
       "       0., 1., 0., 0., 0., 1., 0., 0., 0., 1., 0., 0., 0., 0., 0., 0., 0.,\n",
       "       1., 1., 0., 0., 0., 1., 1., 1., 0., 1., 1., 0., 1., 1., 0., 0., 0.,\n",
       "       1., 1., 1., 0., 1., 0., 1., 0., 1., 1., 0., 0., 0., 1., 1., 0., 0.,\n",
       "       0., 0., 1., 0., 1., 1., 0., 0., 1., 1., 1., 0., 0., 1., 0., 0., 1.,\n",
       "       0., 1., 0., 0., 0., 0., 0., 0., 0., 1., 0., 0., 0., 1., 1., 1., 1.,\n",
       "       0., 1., 0., 1., 0., 1., 0., 1., 0., 1., 0., 1., 0., 1., 0., 0., 0.,\n",
       "       1., 0., 1., 0.])"
      ]
     },
     "execution_count": 63,
     "metadata": {},
     "output_type": "execute_result"
    }
   ],
   "source": [
    "y_test"
   ]
  },
  {
   "cell_type": "code",
   "execution_count": 69,
   "id": "1bc05c6a",
   "metadata": {},
   "outputs": [
    {
     "data": {
      "text/plain": [
       "0.8577777777777778"
      ]
     },
     "execution_count": 69,
     "metadata": {},
     "output_type": "execute_result"
    }
   ],
   "source": [
    " 1 - sum((y_test - y_pred)**2)/225\n"
   ]
  },
  {
   "cell_type": "code",
   "execution_count": 53,
   "id": "0a82e430",
   "metadata": {},
   "outputs": [
    {
     "name": "stdout",
     "output_type": "stream",
     "text": [
      "Help on function heatmap in module seaborn.matrix:\n",
      "\n",
      "heatmap(data, *, vmin=None, vmax=None, cmap=None, center=None, robust=False, annot=None, fmt='.2g', annot_kws=None, linewidths=0, linecolor='white', cbar=True, cbar_kws=None, cbar_ax=None, square=False, xticklabels='auto', yticklabels='auto', mask=None, ax=None, **kwargs)\n",
      "    Plot rectangular data as a color-encoded matrix.\n",
      "    \n",
      "    This is an Axes-level function and will draw the heatmap into the\n",
      "    currently-active Axes if none is provided to the ``ax`` argument.  Part of\n",
      "    this Axes space will be taken and used to plot a colormap, unless ``cbar``\n",
      "    is False or a separate Axes is provided to ``cbar_ax``.\n",
      "    \n",
      "    Parameters\n",
      "    ----------\n",
      "    data : rectangular dataset\n",
      "        2D dataset that can be coerced into an ndarray. If a Pandas DataFrame\n",
      "        is provided, the index/column information will be used to label the\n",
      "        columns and rows.\n",
      "    vmin, vmax : floats, optional\n",
      "        Values to anchor the colormap, otherwise they are inferred from the\n",
      "        data and other keyword arguments.\n",
      "    cmap : matplotlib colormap name or object, or list of colors, optional\n",
      "        The mapping from data values to color space. If not provided, the\n",
      "        default will depend on whether ``center`` is set.\n",
      "    center : float, optional\n",
      "        The value at which to center the colormap when plotting divergent data.\n",
      "        Using this parameter will change the default ``cmap`` if none is\n",
      "        specified.\n",
      "    robust : bool, optional\n",
      "        If True and ``vmin`` or ``vmax`` are absent, the colormap range is\n",
      "        computed with robust quantiles instead of the extreme values.\n",
      "    annot : bool or rectangular dataset, optional\n",
      "        If True, write the data value in each cell. If an array-like with the\n",
      "        same shape as ``data``, then use this to annotate the heatmap instead\n",
      "        of the data. Note that DataFrames will match on position, not index.\n",
      "    fmt : str, optional\n",
      "        String formatting code to use when adding annotations.\n",
      "    annot_kws : dict of key, value mappings, optional\n",
      "        Keyword arguments for :meth:`matplotlib.axes.Axes.text` when ``annot``\n",
      "        is True.\n",
      "    linewidths : float, optional\n",
      "        Width of the lines that will divide each cell.\n",
      "    linecolor : color, optional\n",
      "        Color of the lines that will divide each cell.\n",
      "    cbar : bool, optional\n",
      "        Whether to draw a colorbar.\n",
      "    cbar_kws : dict of key, value mappings, optional\n",
      "        Keyword arguments for :meth:`matplotlib.figure.Figure.colorbar`.\n",
      "    cbar_ax : matplotlib Axes, optional\n",
      "        Axes in which to draw the colorbar, otherwise take space from the\n",
      "        main Axes.\n",
      "    square : bool, optional\n",
      "        If True, set the Axes aspect to \"equal\" so each cell will be\n",
      "        square-shaped.\n",
      "    xticklabels, yticklabels : \"auto\", bool, list-like, or int, optional\n",
      "        If True, plot the column names of the dataframe. If False, don't plot\n",
      "        the column names. If list-like, plot these alternate labels as the\n",
      "        xticklabels. If an integer, use the column names but plot only every\n",
      "        n label. If \"auto\", try to densely plot non-overlapping labels.\n",
      "    mask : bool array or DataFrame, optional\n",
      "        If passed, data will not be shown in cells where ``mask`` is True.\n",
      "        Cells with missing values are automatically masked.\n",
      "    ax : matplotlib Axes, optional\n",
      "        Axes in which to draw the plot, otherwise use the currently-active\n",
      "        Axes.\n",
      "    kwargs : other keyword arguments\n",
      "        All other keyword arguments are passed to\n",
      "        :meth:`matplotlib.axes.Axes.pcolormesh`.\n",
      "    \n",
      "    Returns\n",
      "    -------\n",
      "    ax : matplotlib Axes\n",
      "        Axes object with the heatmap.\n",
      "    \n",
      "    See Also\n",
      "    --------\n",
      "    clustermap : Plot a matrix using hierarchical clustering to arrange the\n",
      "                 rows and columns.\n",
      "    \n",
      "    Examples\n",
      "    --------\n",
      "    \n",
      "    .. include:: ../docstrings/heatmap.rst\n",
      "\n"
     ]
    }
   ],
   "source": [
    "help(sns.heatmap)"
   ]
  },
  {
   "cell_type": "code",
   "execution_count": null,
   "id": "4c37d0e2",
   "metadata": {},
   "outputs": [],
   "source": []
  },
  {
   "cell_type": "code",
   "execution_count": 54,
   "id": "c30bf469",
   "metadata": {},
   "outputs": [],
   "source": [
    "import matplotlib.pyplot as plt"
   ]
  },
  {
   "cell_type": "code",
   "execution_count": 55,
   "id": "9ed7dde1",
   "metadata": {},
   "outputs": [
    {
     "name": "stderr",
     "output_type": "stream",
     "text": [
      "*c* argument looks like a single numeric RGB or RGBA sequence, which should be avoided as value-mapping will have precedence in case its length matches with *x* & *y*.  Please use the *color* keyword-argument or provide a 2D array with a single row if you intend to specify the same RGB or RGBA value for all points.\n",
      "*c* argument looks like a single numeric RGB or RGBA sequence, which should be avoided as value-mapping will have precedence in case its length matches with *x* & *y*.  Please use the *color* keyword-argument or provide a 2D array with a single row if you intend to specify the same RGB or RGBA value for all points.\n"
     ]
    },
    {
     "data": {
      "image/png": "[encoded data removed]",
      "text/plain": [
       "<Figure size 640x480 with 1 Axes>"
      ]
     },
     "metadata": {},
     "output_type": "display_data"
    }
   ],
   "source": [
    "from matplotlib.colors import ListedColormap\n",
    "X_set, y_set = X_train, y_train\n",
    "X1, X2 = np.meshgrid(np.arange(start = X_set[:, 0].min() - 1, stop = X_set[:, 0].max() + 1, step = 0.01),\n",
    "                     np.arange(start = X_set[:, 1].min() - 1, stop = X_set[:, 1].max() + 1, step = 0.01))\n",
    "plt.contourf(X1, X2, classifier.predict(np.array([X1.ravel(), X2.ravel()]).T).reshape(X1.shape),\n",
    "             alpha = 0.25, cmap = ListedColormap(('blue', 'green')))\n",
    "plt.xlim(X1.min(), X1.max())\n",
    "plt.ylim(X2.min(), X2.max())\n",
    "for i, j in enumerate(np.unique(y_set)):\n",
    "    plt.scatter(X_set[y_set == j, 0], X_set[y_set == j, 1],\n",
    "                c = ListedColormap(('blue', 'green'))(i), label = j)\n",
    "plt.title('SVM (Training set)')\n",
    "plt.xlabel('Area')\n",
    "plt.ylabel('Perimeter')\n",
    "plt.legend()\n",
    "plt.show()\n"
   ]
  },
  {
   "cell_type": "code",
   "execution_count": 56,
   "id": "3539fe5a",
   "metadata": {},
   "outputs": [
    {
     "name": "stderr",
     "output_type": "stream",
     "text": [
      "*c* argument looks like a single numeric RGB or RGBA sequence, which should be avoided as value-mapping will have precedence in case its length matches with *x* & *y*.  Please use the *color* keyword-argument or provide a 2D array with a single row if you intend to specify the same RGB or RGBA value for all points.\n",
      "*c* argument looks like a single numeric RGB or RGBA sequence, which should be avoided as value-mapping will have precedence in case its length matches with *x* & *y*.  Please use the *color* keyword-argument or provide a 2D array with a single row if you intend to specify the same RGB or RGBA value for all points.\n"
     ]
    },
    {
     "data": {
      "image/png": "[encoded data removed]",
      "text/plain": [
       "<Figure size 640x480 with 1 Axes>"
      ]
     },
     "metadata": {},
     "output_type": "display_data"
    }
   ],
   "source": [
    "from matplotlib.colors import ListedColormap\n",
    "X_set, y_set = X_test, y_test\n",
    "X1, X2 = np.meshgrid(np.arange(start = X_set[:, 0].min() - 1, stop = X_set[:, 0].max() + 1, step = 0.01),\n",
    "                     np.arange(start = X_set[:, 1].min() - 1, stop = X_set[:, 1].max() + 1, step = 0.01))\n",
    "plt.contourf(X1, X2, classifier.predict(np.array([X1.ravel(), X2.ravel()]).T).reshape(X1.shape),\n",
    "             alpha = 0.25, cmap = ListedColormap(('blue', 'green')))\n",
    "plt.xlim(X1.min(), X1.max())\n",
    "plt.ylim(X2.min(), X2.max())\n",
    "for i, j in enumerate(np.unique(y_set)):\n",
    "    plt.scatter(X_set[y_set == j, 0], X_set[y_set == j, 1],\n",
    "                c = ListedColormap(('blue', 'green'))(i), label = j)\n",
    "plt.title('SVM (Test set)')\n",
    "plt.xlabel('Area')\n",
    "plt.ylabel('Perimeter')\n",
    "plt.legend()\n",
    "plt.show()\n"
   ]
  },
  {
   "cell_type": "code",
   "execution_count": 57,
   "id": "cc97a59e",
   "metadata": {},
   "outputs": [
    {
     "data": {
      "text/plain": [
       "array([1., 0., 1., 1., 1., 0., 1., 0., 1., 0., 1., 1., 0., 0., 1., 0., 0.,\n",
       "       1., 0., 1., 1., 0., 0., 1., 1., 1., 1., 1., 1., 0., 1., 0., 0., 0.,\n",
       "       1., 0., 0., 1., 1., 0., 0., 1., 0., 1., 1., 0., 0., 0., 1., 0., 0.,\n",
       "       0., 1., 0., 0., 0., 0., 0., 0., 1., 0., 0., 0., 1., 0., 1., 0., 0.,\n",
       "       0., 0., 0., 1., 1., 0., 0., 1., 0., 0., 0., 0., 1., 1., 1., 0., 0.,\n",
       "       1., 0., 1., 0., 0., 0., 0., 0., 0., 1., 1., 0., 1., 1., 0., 1., 0.,\n",
       "       1., 0., 1., 0., 0., 1., 1., 0., 1., 1., 1., 0., 0., 1., 0., 0., 0.,\n",
       "       1., 1., 0., 1., 0., 0., 1., 1., 1., 1., 0., 0., 1., 0., 1., 1., 1.,\n",
       "       1., 1., 0., 1., 0., 0., 0., 0., 1., 0., 1., 1., 1., 1., 0., 1., 1.,\n",
       "       0., 0., 0., 0., 1., 1., 1., 1., 1., 0., 1., 1., 1., 1., 1., 1., 1.,\n",
       "       0., 1., 0., 1., 0., 0., 1., 1., 1., 1., 1., 1., 1., 0., 1., 0., 0.,\n",
       "       0., 0., 1., 1., 1., 0., 1., 1., 0., 1., 0., 0., 1., 1., 1., 0., 1.,\n",
       "       0., 1., 0., 1., 1., 1., 0., 0., 1., 0., 1., 0., 0., 0., 1., 0., 0.,\n",
       "       0., 0., 1., 0., 0., 0., 1., 0., 1., 0., 1., 1., 1., 1., 1., 1., 0.,\n",
       "       1., 1., 1., 0., 1., 1., 1., 0., 0., 0., 1., 1., 0., 0., 0., 0., 0.,\n",
       "       0., 0., 0., 1., 0., 1., 0., 1., 1., 1., 1., 1., 1., 1., 0., 1., 1.,\n",
       "       0., 1., 1., 1., 1., 0., 0., 1., 0., 1., 0., 0., 0., 0., 0., 1., 0.,\n",
       "       0., 1., 0., 1., 0., 1., 0., 1., 1., 1., 1., 1., 1., 0., 1., 0., 0.,\n",
       "       1., 1., 0., 1., 0., 0., 1., 0., 1., 0., 0., 1., 1., 0., 0., 1., 1.,\n",
       "       0., 1., 1., 0., 0., 1., 0., 0., 0., 0., 1., 1., 1., 0., 0., 1., 0.,\n",
       "       0., 1., 0., 0., 0., 1., 0., 1., 0., 0., 1., 0., 1., 0., 0., 1., 1.,\n",
       "       0., 0., 0., 0., 1., 1., 0., 0., 1., 1., 1., 0., 0., 1., 0., 1., 0.,\n",
       "       0., 1., 0., 0., 0., 1., 1., 0., 1., 0., 1., 0., 1., 0., 1., 1., 1.,\n",
       "       0., 1., 0., 0., 1., 0., 0., 0., 1., 0., 0., 0., 1., 0., 1., 1., 0.,\n",
       "       0., 1., 0., 1., 0., 1., 1., 1., 0., 0., 0., 1., 1., 0., 1., 0., 0.,\n",
       "       1., 0., 0., 1., 1., 1., 1., 0., 1., 1., 0., 0., 1., 0., 0., 0., 0.,\n",
       "       1., 1., 1., 0., 0., 0., 1., 0., 0., 1., 1., 1., 1., 1., 0., 0., 1.,\n",
       "       0., 0., 1., 1., 1., 1., 0., 1., 1., 0., 0., 1., 0., 1., 0., 0., 1.,\n",
       "       1., 0., 0., 0., 0., 1., 1., 0., 0., 0., 1., 0., 0., 1., 1., 1., 0.,\n",
       "       0., 0., 1., 1., 1., 1., 1., 1., 0., 1., 0., 1., 1., 0., 0., 0., 0.,\n",
       "       1., 0., 1., 0., 1., 1., 1., 0., 1., 0., 1., 0., 1., 1., 1., 0., 1.,\n",
       "       1., 1., 1., 1., 1., 1., 0., 0., 1., 0., 1., 0., 1., 1., 1., 1., 0.,\n",
       "       0., 1., 1., 1., 0., 0., 1., 0., 0., 0., 0., 0., 0., 0., 0., 1., 1.,\n",
       "       0., 1., 0., 1., 0., 0., 0., 1., 0., 1., 0., 1., 1., 0., 0., 0., 0.,\n",
       "       1., 1., 1., 1., 0., 0., 0., 0., 0., 0., 0., 1., 0., 0., 0., 1., 1.,\n",
       "       1., 0., 1., 1., 0., 0., 1., 0., 0., 0., 1., 0., 1., 0., 0., 0., 0.,\n",
       "       1., 0., 0., 0., 1., 0., 1., 0., 0., 0., 0., 1., 0., 1., 1., 1., 1.,\n",
       "       0., 0., 1., 1., 1., 0., 1., 1., 1., 0., 1., 1., 0., 0., 1., 1., 1.,\n",
       "       0., 1., 1., 0., 1., 0., 1., 0., 0., 1., 1., 1., 1., 1., 0., 1., 0.,\n",
       "       0., 1., 1., 0., 1., 1., 0., 0., 1., 1., 1., 0.])"
      ]
     },
     "execution_count": 57,
     "metadata": {},
     "output_type": "execute_result"
    }
   ],
   "source": [
    "z_train"
   ]
  },
  {
   "cell_type": "code",
   "execution_count": 58,
   "id": "6ba70390",
   "metadata": {},
   "outputs": [
    {
     "data": {
      "text/html": [
       "<style>#sk-container-id-2 {color: black;background-color: white;}#sk-container-id-2 pre{padding: 0;}#sk-container-id-2 div.sk-toggleable {background-color: white;}#sk-container-id-2 label.sk-toggleable__label {cursor: pointer;display: block;width: 100%;margin-bottom: 0;padding: 0.3em;box-sizing: border-box;text-align: center;}#sk-container-id-2 label.sk-toggleable__label-arrow:before {content: \"▸\";float: left;margin-right: 0.25em;color: #696969;}#sk-container-id-2 label.sk-toggleable__label-arrow:hover:before {color: black;}#sk-container-id-2 div.sk-estimator:hover label.sk-toggleable__label-arrow:before {color: black;}#sk-container-id-2 div.sk-toggleable__content {max-height: 0;max-width: 0;overflow: hidden;text-align: left;background-color: #f0f8ff;}#sk-container-id-2 div.sk-toggleable__content pre {margin: 0.2em;color: black;border-radius: 0.25em;background-color: #f0f8ff;}#sk-container-id-2 input.sk-toggleable__control:checked~div.sk-toggleable__content {max-height: 200px;max-width: 100%;overflow: auto;}#sk-container-id-2 input.sk-toggleable__control:checked~label.sk-toggleable__label-arrow:before {content: \"▾\";}#sk-container-id-2 div.sk-estimator input.sk-toggleable__control:checked~label.sk-toggleable__label {background-color: #d4ebff;}#sk-container-id-2 div.sk-label input.sk-toggleable__control:checked~label.sk-toggleable__label {background-color: #d4ebff;}#sk-container-id-2 input.sk-hidden--visually {border: 0;clip: rect(1px 1px 1px 1px);clip: rect(1px, 1px, 1px, 1px);height: 1px;margin: -1px;overflow: hidden;padding: 0;position: absolute;width: 1px;}#sk-container-id-2 div.sk-estimator {font-family: monospace;background-color: #f0f8ff;border: 1px dotted black;border-radius: 0.25em;box-sizing: border-box;margin-bottom: 0.5em;}#sk-container-id-2 div.sk-estimator:hover {background-color: #d4ebff;}#sk-container-id-2 div.sk-parallel-item::after {content: \"\";width: 100%;border-bottom: 1px solid gray;flex-grow: 1;}#sk-container-id-2 div.sk-label:hover label.sk-toggleable__label {background-color: #d4ebff;}#sk-container-id-2 div.sk-serial::before {content: \"\";position: absolute;border-left: 1px solid gray;box-sizing: border-box;top: 0;bottom: 0;left: 50%;z-index: 0;}#sk-container-id-2 div.sk-serial {display: flex;flex-direction: column;align-items: center;background-color: white;padding-right: 0.2em;padding-left: 0.2em;position: relative;}#sk-container-id-2 div.sk-item {position: relative;z-index: 1;}#sk-container-id-2 div.sk-parallel {display: flex;align-items: stretch;justify-content: center;background-color: white;position: relative;}#sk-container-id-2 div.sk-item::before, #sk-container-id-2 div.sk-parallel-item::before {content: \"\";position: absolute;border-left: 1px solid gray;box-sizing: border-box;top: 0;bottom: 0;left: 50%;z-index: -1;}#sk-container-id-2 div.sk-parallel-item {display: flex;flex-direction: column;z-index: 1;position: relative;background-color: white;}#sk-container-id-2 div.sk-parallel-item:first-child::after {align-self: flex-end;width: 50%;}#sk-container-id-2 div.sk-parallel-item:last-child::after {align-self: flex-start;width: 50%;}#sk-container-id-2 div.sk-parallel-item:only-child::after {width: 0;}#sk-container-id-2 div.sk-dashed-wrapped {border: 1px dashed gray;margin: 0 0.4em 0.5em 0.4em;box-sizing: border-box;padding-bottom: 0.4em;background-color: white;}#sk-container-id-2 div.sk-label label {font-family: monospace;font-weight: bold;display: inline-block;line-height: 1.2em;}#sk-container-id-2 div.sk-label-container {text-align: center;}#sk-container-id-2 div.sk-container {/* jupyter's `normalize.less` sets `[hidden] { display: none; }` but bootstrap.min.css set `[hidden] { display: none !important; }` so we also need the `!important` here to be able to override the default hidden behavior on the sphinx rendered scikit-learn.org. See: https://github.com/scikit-learn/scikit-learn/issues/21755 */display: inline-block !important;position: relative;}#sk-container-id-2 div.sk-text-repr-fallback {display: none;}</style><div id=\"sk-container-id-2\" class=\"sk-top-container\"><div class=\"sk-text-repr-fallback\"><pre>SVC(kernel=&#x27;linear&#x27;, random_state=0)</pre><b>In a Jupyter environment, please rerun this cell to show the HTML representation or trust the notebook. <br />On GitHub, the HTML representation is unable to render, please try loading this page with nbviewer.org.</b></div><div class=\"sk-container\" hidden><div class=\"sk-item\"><div class=\"sk-estimator sk-toggleable\"><input class=\"sk-toggleable__control sk-hidden--visually\" id=\"sk-estimator-id-2\" type=\"checkbox\" checked><label for=\"sk-estimator-id-2\" class=\"sk-toggleable__label sk-toggleable__label-arrow\">SVC</label><div class=\"sk-toggleable__content\"><pre>SVC(kernel=&#x27;linear&#x27;, random_state=0)</pre></div></div></div></div></div>"
      ],
      "text/plain": [
       "SVC(kernel='linear', random_state=0)"
      ]
     },
     "execution_count": 58,
     "metadata": {},
     "output_type": "execute_result"
    }
   ],
   "source": [
    "from sklearn.svm import SVC\n",
    "classifier_Kecin = SVC(kernel = 'linear', random_state = 0)\n",
    "classifier_Kecin.fit(X_train, z_train)"
   ]
  },
  {
   "cell_type": "code",
   "execution_count": 59,
   "id": "9d26bab2",
   "metadata": {},
   "outputs": [
    {
     "data": {
      "text/plain": [
       "array([0., 0., 0., 1., 1., 0., 1., 1., 0., 1., 1., 0., 1., 1., 1., 1., 0.,\n",
       "       0., 1., 0., 1., 0., 1., 0., 0., 0., 0., 1., 0., 1., 0., 0., 1., 1.,\n",
       "       0., 1., 1., 1., 1., 0., 1., 0., 0., 1., 1., 0., 1., 1., 0., 1., 0.,\n",
       "       1., 0., 1., 0., 0., 0., 1., 0., 1., 1., 0., 1., 1., 0., 0., 0., 0.,\n",
       "       1., 0., 1., 0., 1., 0., 0., 1., 0., 1., 0., 1., 1., 1., 1., 0., 1.,\n",
       "       1., 1., 0., 1., 1., 0., 1., 1., 0., 0., 0., 0., 0., 0., 1., 1., 0.,\n",
       "       1., 0., 1., 0., 1., 0., 0., 1., 0., 1., 1., 1., 0., 0., 0., 0., 0.,\n",
       "       1., 0., 1., 1., 1., 0., 1., 1., 1., 0., 0., 1., 1., 1., 1., 0., 0.,\n",
       "       0., 1., 1., 1., 1., 0., 1., 0., 1., 1., 0., 1., 0., 0., 1., 1., 0.,\n",
       "       1., 0., 0., 0., 0., 1., 0., 1., 0., 0., 1., 0., 1., 1., 0., 1., 1.,\n",
       "       1., 1., 0., 1., 0., 0., 1., 1., 0., 0., 0., 1., 1., 0., 1., 1., 0.,\n",
       "       1., 0., 1., 1., 1., 0., 0., 1., 1., 0., 1., 1., 1., 1., 0., 0., 0.,\n",
       "       1., 1., 1., 0., 1., 0., 1., 0., 1., 1., 1., 0., 1., 0., 1., 1., 1.,\n",
       "       0., 0., 0., 1.])"
      ]
     },
     "execution_count": 59,
     "metadata": {},
     "output_type": "execute_result"
    }
   ],
   "source": [
    "z_pred = classifier_Kecin.predict(X_test)\n",
    "z_pred\n",
    "\n",
    "\n",
    "\n",
    "\n"
   ]
  },
  {
   "cell_type": "code",
   "execution_count": 60,
   "id": "a1be417e",
   "metadata": {},
   "outputs": [
    {
     "data": {
      "text/plain": [
       "array([[ 92,  19],\n",
       "       [ 13, 101]], dtype=int64)"
      ]
     },
     "execution_count": 60,
     "metadata": {},
     "output_type": "execute_result"
    }
   ],
   "source": [
    "cm_z = confusion_matrix(z_test, z_pred)\n",
    "cm_z\n",
    "\n"
   ]
  },
  {
   "cell_type": "code",
   "execution_count": null,
   "id": "5c68de94",
   "metadata": {},
   "outputs": [],
   "source": []
  }
 ],
 "metadata": {
  "kernelspec": {
   "display_name": "Python 3 (ipykernel)",
   "language": "python",
   "name": "python3"
  },
  "language_info": {
   "codemirror_mode": {
    "name": "ipython",
    "version": 3
   },
   "file_extension": ".py",
   "mimetype": "text/x-python",
   "name": "python",
   "nbconvert_exporter": "python",
   "pygments_lexer": "ipython3",
   "version": "3.10.6"
  }
 },
 "nbformat": 4,
 "nbformat_minor": 5
}
