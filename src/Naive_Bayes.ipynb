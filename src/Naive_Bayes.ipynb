{
 "cells": [
  {
   "cell_type": "code",
   "execution_count": 91,
   "id": "51851f6c",
   "metadata": {},
   "outputs": [],
   "source": [
    "\n",
    "import numpy as np # linear algebra\n",
    "import pandas as pd # data processing, CSV file I/O (e.g. pd.read_csv)"
   ]
  },
  {
   "cell_type": "code",
   "execution_count": 92,
   "id": "56312d4d",
   "metadata": {},
   "outputs": [],
   "source": [
    "from sklearn import preprocessing\n",
    "from sklearn.preprocessing import OrdinalEncoder,LabelBinarizer"
   ]
  },
  {
   "cell_type": "code",
   "execution_count": 93,
   "id": "453b68c9",
   "metadata": {},
   "outputs": [],
   "source": [
    "df = pd.read_csv('mushrooms.csv')"
   ]
  },
  {
   "cell_type": "code",
   "execution_count": 95,
   "id": "3088a09e",
   "metadata": {},
   "outputs": [],
   "source": [
    "df = df[['class', 'cap-surface', 'bruises', 'odor', 'population']]"
   ]
  },
  {
   "cell_type": "code",
   "execution_count": 96,
   "id": "25094a68",
   "metadata": {},
   "outputs": [
    {
     "data": {
      "text/html": [
       "<div>\n",
       "<style scoped>\n",
       "    .dataframe tbody tr th:only-of-type {\n",
       "        vertical-align: middle;\n",
       "    }\n",
       "\n",
       "    .dataframe tbody tr th {\n",
       "        vertical-align: top;\n",
       "    }\n",
       "\n",
       "    .dataframe thead th {\n",
       "        text-align: right;\n",
       "    }\n",
       "</style>\n",
       "<table border=\"1\" class=\"dataframe\">\n",
       "  <thead>\n",
       "    <tr style=\"text-align: right;\">\n",
       "      <th></th>\n",
       "      <th>class</th>\n",
       "      <th>cap-surface</th>\n",
       "      <th>bruises</th>\n",
       "      <th>odor</th>\n",
       "      <th>population</th>\n",
       "    </tr>\n",
       "  </thead>\n",
       "  <tbody>\n",
       "    <tr>\n",
       "      <th>8119</th>\n",
       "      <td>e</td>\n",
       "      <td>s</td>\n",
       "      <td>f</td>\n",
       "      <td>n</td>\n",
       "      <td>c</td>\n",
       "    </tr>\n",
       "    <tr>\n",
       "      <th>8120</th>\n",
       "      <td>e</td>\n",
       "      <td>s</td>\n",
       "      <td>f</td>\n",
       "      <td>n</td>\n",
       "      <td>v</td>\n",
       "    </tr>\n",
       "    <tr>\n",
       "      <th>8121</th>\n",
       "      <td>e</td>\n",
       "      <td>s</td>\n",
       "      <td>f</td>\n",
       "      <td>n</td>\n",
       "      <td>c</td>\n",
       "    </tr>\n",
       "    <tr>\n",
       "      <th>8122</th>\n",
       "      <td>p</td>\n",
       "      <td>y</td>\n",
       "      <td>f</td>\n",
       "      <td>y</td>\n",
       "      <td>v</td>\n",
       "    </tr>\n",
       "    <tr>\n",
       "      <th>8123</th>\n",
       "      <td>e</td>\n",
       "      <td>s</td>\n",
       "      <td>f</td>\n",
       "      <td>n</td>\n",
       "      <td>c</td>\n",
       "    </tr>\n",
       "  </tbody>\n",
       "</table>\n",
       "</div>"
      ],
      "text/plain": [
       "     class cap-surface bruises odor population\n",
       "8119     e           s       f    n          c\n",
       "8120     e           s       f    n          v\n",
       "8121     e           s       f    n          c\n",
       "8122     p           y       f    y          v\n",
       "8123     e           s       f    n          c"
      ]
     },
     "execution_count": 96,
     "metadata": {},
     "output_type": "execute_result"
    }
   ],
   "source": [
    "df.tail()"
   ]
  },
  {
   "cell_type": "code",
   "execution_count": null,
   "id": "d5f6fbd5",
   "metadata": {},
   "outputs": [],
   "source": []
  },
  {
   "cell_type": "code",
   "execution_count": 97,
   "id": "70c16104",
   "metadata": {},
   "outputs": [],
   "source": [
    "df['class'] = ['poisonous'if i == 'p' else 'edible' for i in df['class']]"
   ]
  },
  {
   "cell_type": "code",
   "execution_count": 7,
   "id": "90acf079",
   "metadata": {},
   "outputs": [],
   "source": [
    "# df['cap-shape'] = ['bell' if i == 'b' else i for i in df['cap-shape']]\n",
    "# df['cap-shape'] = ['conical' if i == 'c' else i for i in df['cap-shape']]\n",
    "# df['cap-shape'] = ['convex' if i == 'x'else i  for i in df['cap-shape']]\n",
    "# df['cap-shape'] = ['flat' if i == 'f'else i  for i in df['cap-shape']]\n",
    "# df['cap-shape'] = ['sunken' if i == 's' else i for i in df['cap-shape']]\n",
    "# df['cap-shape'] = ['knobbed' if i == 'k' else i  for i in df['cap-shape']]"
   ]
  },
  {
   "cell_type": "code",
   "execution_count": 98,
   "id": "5ab69eb8",
   "metadata": {},
   "outputs": [
    {
     "data": {
      "text/html": [
       "<div>\n",
       "<style scoped>\n",
       "    .dataframe tbody tr th:only-of-type {\n",
       "        vertical-align: middle;\n",
       "    }\n",
       "\n",
       "    .dataframe tbody tr th {\n",
       "        vertical-align: top;\n",
       "    }\n",
       "\n",
       "    .dataframe thead th {\n",
       "        text-align: right;\n",
       "    }\n",
       "</style>\n",
       "<table border=\"1\" class=\"dataframe\">\n",
       "  <thead>\n",
       "    <tr style=\"text-align: right;\">\n",
       "      <th></th>\n",
       "      <th>class</th>\n",
       "      <th>cap-surface</th>\n",
       "      <th>bruises</th>\n",
       "      <th>odor</th>\n",
       "      <th>population</th>\n",
       "    </tr>\n",
       "  </thead>\n",
       "  <tbody>\n",
       "    <tr>\n",
       "      <th>8119</th>\n",
       "      <td>edible</td>\n",
       "      <td>s</td>\n",
       "      <td>f</td>\n",
       "      <td>n</td>\n",
       "      <td>c</td>\n",
       "    </tr>\n",
       "    <tr>\n",
       "      <th>8120</th>\n",
       "      <td>edible</td>\n",
       "      <td>s</td>\n",
       "      <td>f</td>\n",
       "      <td>n</td>\n",
       "      <td>v</td>\n",
       "    </tr>\n",
       "    <tr>\n",
       "      <th>8121</th>\n",
       "      <td>edible</td>\n",
       "      <td>s</td>\n",
       "      <td>f</td>\n",
       "      <td>n</td>\n",
       "      <td>c</td>\n",
       "    </tr>\n",
       "    <tr>\n",
       "      <th>8122</th>\n",
       "      <td>poisonous</td>\n",
       "      <td>y</td>\n",
       "      <td>f</td>\n",
       "      <td>y</td>\n",
       "      <td>v</td>\n",
       "    </tr>\n",
       "    <tr>\n",
       "      <th>8123</th>\n",
       "      <td>edible</td>\n",
       "      <td>s</td>\n",
       "      <td>f</td>\n",
       "      <td>n</td>\n",
       "      <td>c</td>\n",
       "    </tr>\n",
       "  </tbody>\n",
       "</table>\n",
       "</div>"
      ],
      "text/plain": [
       "          class cap-surface bruises odor population\n",
       "8119     edible           s       f    n          c\n",
       "8120     edible           s       f    n          v\n",
       "8121     edible           s       f    n          c\n",
       "8122  poisonous           y       f    y          v\n",
       "8123     edible           s       f    n          c"
      ]
     },
     "execution_count": 98,
     "metadata": {},
     "output_type": "execute_result"
    }
   ],
   "source": [
    "df.tail()"
   ]
  },
  {
   "cell_type": "code",
   "execution_count": 99,
   "id": "25c21843",
   "metadata": {},
   "outputs": [],
   "source": [
    "df['cap-surface'] = ['fibrous' if i == 'f' else i for i in df['cap-surface']]\n",
    "df['cap-surface'] = ['grooves' if i == 'g' else i for i in df['cap-surface']]\n",
    "df['cap-surface'] = ['scaly' if i == 'y'else i  for i in df['cap-surface']]\n",
    "df['cap-surface'] = ['smooth' if i == 's'else i  for i in df['cap-surface']]\n"
   ]
  },
  {
   "cell_type": "code",
   "execution_count": 100,
   "id": "dda5e3eb",
   "metadata": {},
   "outputs": [
    {
     "data": {
      "text/html": [
       "<div>\n",
       "<style scoped>\n",
       "    .dataframe tbody tr th:only-of-type {\n",
       "        vertical-align: middle;\n",
       "    }\n",
       "\n",
       "    .dataframe tbody tr th {\n",
       "        vertical-align: top;\n",
       "    }\n",
       "\n",
       "    .dataframe thead th {\n",
       "        text-align: right;\n",
       "    }\n",
       "</style>\n",
       "<table border=\"1\" class=\"dataframe\">\n",
       "  <thead>\n",
       "    <tr style=\"text-align: right;\">\n",
       "      <th></th>\n",
       "      <th>class</th>\n",
       "      <th>cap-surface</th>\n",
       "      <th>bruises</th>\n",
       "      <th>odor</th>\n",
       "      <th>population</th>\n",
       "    </tr>\n",
       "  </thead>\n",
       "  <tbody>\n",
       "    <tr>\n",
       "      <th>0</th>\n",
       "      <td>poisonous</td>\n",
       "      <td>smooth</td>\n",
       "      <td>t</td>\n",
       "      <td>p</td>\n",
       "      <td>s</td>\n",
       "    </tr>\n",
       "    <tr>\n",
       "      <th>1</th>\n",
       "      <td>edible</td>\n",
       "      <td>smooth</td>\n",
       "      <td>t</td>\n",
       "      <td>a</td>\n",
       "      <td>n</td>\n",
       "    </tr>\n",
       "    <tr>\n",
       "      <th>2</th>\n",
       "      <td>edible</td>\n",
       "      <td>smooth</td>\n",
       "      <td>t</td>\n",
       "      <td>l</td>\n",
       "      <td>n</td>\n",
       "    </tr>\n",
       "    <tr>\n",
       "      <th>3</th>\n",
       "      <td>poisonous</td>\n",
       "      <td>scaly</td>\n",
       "      <td>t</td>\n",
       "      <td>p</td>\n",
       "      <td>s</td>\n",
       "    </tr>\n",
       "    <tr>\n",
       "      <th>4</th>\n",
       "      <td>edible</td>\n",
       "      <td>smooth</td>\n",
       "      <td>f</td>\n",
       "      <td>n</td>\n",
       "      <td>a</td>\n",
       "    </tr>\n",
       "  </tbody>\n",
       "</table>\n",
       "</div>"
      ],
      "text/plain": [
       "       class cap-surface bruises odor population\n",
       "0  poisonous      smooth       t    p          s\n",
       "1     edible      smooth       t    a          n\n",
       "2     edible      smooth       t    l          n\n",
       "3  poisonous       scaly       t    p          s\n",
       "4     edible      smooth       f    n          a"
      ]
     },
     "execution_count": 100,
     "metadata": {},
     "output_type": "execute_result"
    }
   ],
   "source": [
    "df.head()"
   ]
  },
  {
   "cell_type": "code",
   "execution_count": 11,
   "id": "0300eea8",
   "metadata": {},
   "outputs": [],
   "source": [
    "# df['cap-color'] = ['brown' if i == 'n' else i for i  in  df['cap-color']]\n",
    "# df['cap-color'] = ['buff' if i == 'b' else i for i  in  df['cap-color']]\n",
    "# df['cap-color'] = ['cinnamon' if i == 'c'   else i  for i in df['cap-color']]\n",
    "# df['cap-color'] = ['gray' if i == 'g'  else i  for i in df['cap-color']]\n",
    "# df['cap-color'] = ['green' if i == 'r' else i for i  in  df['cap-color']]\n",
    "# df['cap-color'] = ['pink' if i == 'p' else i for i  in  df['cap-color']]\n",
    "# df['cap-color'] = ['puprple' if i == 'u'   else i  for i in df['cap-color']]\n",
    "# df['cap-color'] = ['red' if i == 'e'  else i  for i in df['cap-color']]\n",
    "# df['cap-color'] = ['white' if i == 'w'  else i  for i in df['cap-color']]\n",
    "# df['cap-color'] = ['yellow' if i == 'y'  else i  for i in df['cap-color']]"
   ]
  },
  {
   "cell_type": "code",
   "execution_count": 101,
   "id": "ba531f0b",
   "metadata": {},
   "outputs": [
    {
     "data": {
      "text/html": [
       "<div>\n",
       "<style scoped>\n",
       "    .dataframe tbody tr th:only-of-type {\n",
       "        vertical-align: middle;\n",
       "    }\n",
       "\n",
       "    .dataframe tbody tr th {\n",
       "        vertical-align: top;\n",
       "    }\n",
       "\n",
       "    .dataframe thead th {\n",
       "        text-align: right;\n",
       "    }\n",
       "</style>\n",
       "<table border=\"1\" class=\"dataframe\">\n",
       "  <thead>\n",
       "    <tr style=\"text-align: right;\">\n",
       "      <th></th>\n",
       "      <th>class</th>\n",
       "      <th>cap-surface</th>\n",
       "      <th>bruises</th>\n",
       "      <th>odor</th>\n",
       "      <th>population</th>\n",
       "    </tr>\n",
       "  </thead>\n",
       "  <tbody>\n",
       "    <tr>\n",
       "      <th>0</th>\n",
       "      <td>poisonous</td>\n",
       "      <td>smooth</td>\n",
       "      <td>t</td>\n",
       "      <td>p</td>\n",
       "      <td>s</td>\n",
       "    </tr>\n",
       "    <tr>\n",
       "      <th>1</th>\n",
       "      <td>edible</td>\n",
       "      <td>smooth</td>\n",
       "      <td>t</td>\n",
       "      <td>a</td>\n",
       "      <td>n</td>\n",
       "    </tr>\n",
       "    <tr>\n",
       "      <th>2</th>\n",
       "      <td>edible</td>\n",
       "      <td>smooth</td>\n",
       "      <td>t</td>\n",
       "      <td>l</td>\n",
       "      <td>n</td>\n",
       "    </tr>\n",
       "    <tr>\n",
       "      <th>3</th>\n",
       "      <td>poisonous</td>\n",
       "      <td>scaly</td>\n",
       "      <td>t</td>\n",
       "      <td>p</td>\n",
       "      <td>s</td>\n",
       "    </tr>\n",
       "    <tr>\n",
       "      <th>4</th>\n",
       "      <td>edible</td>\n",
       "      <td>smooth</td>\n",
       "      <td>f</td>\n",
       "      <td>n</td>\n",
       "      <td>a</td>\n",
       "    </tr>\n",
       "  </tbody>\n",
       "</table>\n",
       "</div>"
      ],
      "text/plain": [
       "       class cap-surface bruises odor population\n",
       "0  poisonous      smooth       t    p          s\n",
       "1     edible      smooth       t    a          n\n",
       "2     edible      smooth       t    l          n\n",
       "3  poisonous       scaly       t    p          s\n",
       "4     edible      smooth       f    n          a"
      ]
     },
     "execution_count": 101,
     "metadata": {},
     "output_type": "execute_result"
    }
   ],
   "source": [
    "df.head()"
   ]
  },
  {
   "cell_type": "code",
   "execution_count": 102,
   "id": "3cc9113b",
   "metadata": {},
   "outputs": [],
   "source": [
    "df['bruises'] = ['bruises' if i == 't'  else i  for i in df['bruises']]\n",
    "df['bruises'] = ['no' if i == 'f'  else i  for i in df['bruises']]"
   ]
  },
  {
   "cell_type": "code",
   "execution_count": 103,
   "id": "2fed0b16",
   "metadata": {},
   "outputs": [
    {
     "data": {
      "text/html": [
       "<div>\n",
       "<style scoped>\n",
       "    .dataframe tbody tr th:only-of-type {\n",
       "        vertical-align: middle;\n",
       "    }\n",
       "\n",
       "    .dataframe tbody tr th {\n",
       "        vertical-align: top;\n",
       "    }\n",
       "\n",
       "    .dataframe thead th {\n",
       "        text-align: right;\n",
       "    }\n",
       "</style>\n",
       "<table border=\"1\" class=\"dataframe\">\n",
       "  <thead>\n",
       "    <tr style=\"text-align: right;\">\n",
       "      <th></th>\n",
       "      <th>class</th>\n",
       "      <th>cap-surface</th>\n",
       "      <th>bruises</th>\n",
       "      <th>odor</th>\n",
       "      <th>population</th>\n",
       "    </tr>\n",
       "  </thead>\n",
       "  <tbody>\n",
       "    <tr>\n",
       "      <th>0</th>\n",
       "      <td>poisonous</td>\n",
       "      <td>smooth</td>\n",
       "      <td>bruises</td>\n",
       "      <td>p</td>\n",
       "      <td>s</td>\n",
       "    </tr>\n",
       "    <tr>\n",
       "      <th>1</th>\n",
       "      <td>edible</td>\n",
       "      <td>smooth</td>\n",
       "      <td>bruises</td>\n",
       "      <td>a</td>\n",
       "      <td>n</td>\n",
       "    </tr>\n",
       "    <tr>\n",
       "      <th>2</th>\n",
       "      <td>edible</td>\n",
       "      <td>smooth</td>\n",
       "      <td>bruises</td>\n",
       "      <td>l</td>\n",
       "      <td>n</td>\n",
       "    </tr>\n",
       "    <tr>\n",
       "      <th>3</th>\n",
       "      <td>poisonous</td>\n",
       "      <td>scaly</td>\n",
       "      <td>bruises</td>\n",
       "      <td>p</td>\n",
       "      <td>s</td>\n",
       "    </tr>\n",
       "    <tr>\n",
       "      <th>4</th>\n",
       "      <td>edible</td>\n",
       "      <td>smooth</td>\n",
       "      <td>no</td>\n",
       "      <td>n</td>\n",
       "      <td>a</td>\n",
       "    </tr>\n",
       "  </tbody>\n",
       "</table>\n",
       "</div>"
      ],
      "text/plain": [
       "       class cap-surface  bruises odor population\n",
       "0  poisonous      smooth  bruises    p          s\n",
       "1     edible      smooth  bruises    a          n\n",
       "2     edible      smooth  bruises    l          n\n",
       "3  poisonous       scaly  bruises    p          s\n",
       "4     edible      smooth       no    n          a"
      ]
     },
     "execution_count": 103,
     "metadata": {},
     "output_type": "execute_result"
    }
   ],
   "source": [
    "df.head()"
   ]
  },
  {
   "cell_type": "code",
   "execution_count": 15,
   "id": "69bb80f3",
   "metadata": {},
   "outputs": [],
   "source": [
    "#,anise=l,creosote=c,fishy=y,foul=f,musty=m,none=n,pungent=p,spicy=s\n",
    "# df['odor'] = ['almond' if i == 'a' else i for i  in  df['odor']]\n",
    "# df['odor'] = ['anise' if i == 'l'   else i  for i in df['odor']]\n",
    "# df['odor'] = ['creosote' if i == 'c'  else i  for i in df['odor']]\n",
    "# df['odor'] = ['fishy' if i == 'y'  else i  for i in df['odor']]\n",
    "# df['odor'] = ['foul' if i == 'f'  else i  for i in df['odor']]      \n",
    "# df['odor'] = ['musty' if i == 'm'  else i  for i in df['odor']]\n",
    "# df['odor'] = ['none' if i == 'n'  else i  for i in df['odor']]\n",
    "# df['odor'] = ['pungent' if i == 'p'  else i  for i in df['odor']]   \n",
    "# df['odor'] = ['spicy' if i == 's'  else i  for i in df['odor']]   "
   ]
  },
  {
   "cell_type": "code",
   "execution_count": 105,
   "id": "914a1622",
   "metadata": {},
   "outputs": [],
   "source": [
    "del df['odor']"
   ]
  },
  {
   "cell_type": "code",
   "execution_count": 106,
   "id": "a55a7c05",
   "metadata": {},
   "outputs": [
    {
     "data": {
      "text/html": [
       "<div>\n",
       "<style scoped>\n",
       "    .dataframe tbody tr th:only-of-type {\n",
       "        vertical-align: middle;\n",
       "    }\n",
       "\n",
       "    .dataframe tbody tr th {\n",
       "        vertical-align: top;\n",
       "    }\n",
       "\n",
       "    .dataframe thead th {\n",
       "        text-align: right;\n",
       "    }\n",
       "</style>\n",
       "<table border=\"1\" class=\"dataframe\">\n",
       "  <thead>\n",
       "    <tr style=\"text-align: right;\">\n",
       "      <th></th>\n",
       "      <th>class</th>\n",
       "      <th>cap-surface</th>\n",
       "      <th>bruises</th>\n",
       "      <th>population</th>\n",
       "    </tr>\n",
       "  </thead>\n",
       "  <tbody>\n",
       "    <tr>\n",
       "      <th>0</th>\n",
       "      <td>poisonous</td>\n",
       "      <td>smooth</td>\n",
       "      <td>bruises</td>\n",
       "      <td>s</td>\n",
       "    </tr>\n",
       "    <tr>\n",
       "      <th>1</th>\n",
       "      <td>edible</td>\n",
       "      <td>smooth</td>\n",
       "      <td>bruises</td>\n",
       "      <td>n</td>\n",
       "    </tr>\n",
       "    <tr>\n",
       "      <th>2</th>\n",
       "      <td>edible</td>\n",
       "      <td>smooth</td>\n",
       "      <td>bruises</td>\n",
       "      <td>n</td>\n",
       "    </tr>\n",
       "    <tr>\n",
       "      <th>3</th>\n",
       "      <td>poisonous</td>\n",
       "      <td>scaly</td>\n",
       "      <td>bruises</td>\n",
       "      <td>s</td>\n",
       "    </tr>\n",
       "    <tr>\n",
       "      <th>4</th>\n",
       "      <td>edible</td>\n",
       "      <td>smooth</td>\n",
       "      <td>no</td>\n",
       "      <td>a</td>\n",
       "    </tr>\n",
       "    <tr>\n",
       "      <th>...</th>\n",
       "      <td>...</td>\n",
       "      <td>...</td>\n",
       "      <td>...</td>\n",
       "      <td>...</td>\n",
       "    </tr>\n",
       "    <tr>\n",
       "      <th>8119</th>\n",
       "      <td>edible</td>\n",
       "      <td>smooth</td>\n",
       "      <td>no</td>\n",
       "      <td>c</td>\n",
       "    </tr>\n",
       "    <tr>\n",
       "      <th>8120</th>\n",
       "      <td>edible</td>\n",
       "      <td>smooth</td>\n",
       "      <td>no</td>\n",
       "      <td>v</td>\n",
       "    </tr>\n",
       "    <tr>\n",
       "      <th>8121</th>\n",
       "      <td>edible</td>\n",
       "      <td>smooth</td>\n",
       "      <td>no</td>\n",
       "      <td>c</td>\n",
       "    </tr>\n",
       "    <tr>\n",
       "      <th>8122</th>\n",
       "      <td>poisonous</td>\n",
       "      <td>scaly</td>\n",
       "      <td>no</td>\n",
       "      <td>v</td>\n",
       "    </tr>\n",
       "    <tr>\n",
       "      <th>8123</th>\n",
       "      <td>edible</td>\n",
       "      <td>smooth</td>\n",
       "      <td>no</td>\n",
       "      <td>c</td>\n",
       "    </tr>\n",
       "  </tbody>\n",
       "</table>\n",
       "<p>8124 rows × 4 columns</p>\n",
       "</div>"
      ],
      "text/plain": [
       "          class cap-surface  bruises population\n",
       "0     poisonous      smooth  bruises          s\n",
       "1        edible      smooth  bruises          n\n",
       "2        edible      smooth  bruises          n\n",
       "3     poisonous       scaly  bruises          s\n",
       "4        edible      smooth       no          a\n",
       "...         ...         ...      ...        ...\n",
       "8119     edible      smooth       no          c\n",
       "8120     edible      smooth       no          v\n",
       "8121     edible      smooth       no          c\n",
       "8122  poisonous       scaly       no          v\n",
       "8123     edible      smooth       no          c\n",
       "\n",
       "[8124 rows x 4 columns]"
      ]
     },
     "execution_count": 106,
     "metadata": {},
     "output_type": "execute_result"
    }
   ],
   "source": [
    "df"
   ]
  },
  {
   "cell_type": "code",
   "execution_count": 107,
   "id": "1bc7c802",
   "metadata": {},
   "outputs": [],
   "source": [
    "# population: abundant=a,clustered=c,numerous=n,scattered=s,several=v,solitary=y\n",
    "\n",
    "df['population'] = ['abundant' if i == 'a' else i for i in df['population']]\n",
    "df['population'] = ['clustered' if i == 'c' else i for i in df['population']]\n",
    "df['population'] = ['numerous' if i == 'n'else i  for i in df['population']]\n",
    "df['population'] = ['scattered' if i == 's'else i  for i in df['population']]\n",
    "df['population'] = ['several' if i == 'v'else i  for i in df['population']]\n",
    "df['population'] = ['solitary' if i == 'y'else i  for i in df['population']]"
   ]
  },
  {
   "cell_type": "code",
   "execution_count": 108,
   "id": "02a4a516",
   "metadata": {},
   "outputs": [
    {
     "data": {
      "text/html": [
       "<div>\n",
       "<style scoped>\n",
       "    .dataframe tbody tr th:only-of-type {\n",
       "        vertical-align: middle;\n",
       "    }\n",
       "\n",
       "    .dataframe tbody tr th {\n",
       "        vertical-align: top;\n",
       "    }\n",
       "\n",
       "    .dataframe thead th {\n",
       "        text-align: right;\n",
       "    }\n",
       "</style>\n",
       "<table border=\"1\" class=\"dataframe\">\n",
       "  <thead>\n",
       "    <tr style=\"text-align: right;\">\n",
       "      <th></th>\n",
       "      <th>class</th>\n",
       "      <th>cap-surface</th>\n",
       "      <th>bruises</th>\n",
       "      <th>population</th>\n",
       "    </tr>\n",
       "  </thead>\n",
       "  <tbody>\n",
       "    <tr>\n",
       "      <th>8119</th>\n",
       "      <td>edible</td>\n",
       "      <td>smooth</td>\n",
       "      <td>no</td>\n",
       "      <td>clustered</td>\n",
       "    </tr>\n",
       "    <tr>\n",
       "      <th>8120</th>\n",
       "      <td>edible</td>\n",
       "      <td>smooth</td>\n",
       "      <td>no</td>\n",
       "      <td>several</td>\n",
       "    </tr>\n",
       "    <tr>\n",
       "      <th>8121</th>\n",
       "      <td>edible</td>\n",
       "      <td>smooth</td>\n",
       "      <td>no</td>\n",
       "      <td>clustered</td>\n",
       "    </tr>\n",
       "    <tr>\n",
       "      <th>8122</th>\n",
       "      <td>poisonous</td>\n",
       "      <td>scaly</td>\n",
       "      <td>no</td>\n",
       "      <td>several</td>\n",
       "    </tr>\n",
       "    <tr>\n",
       "      <th>8123</th>\n",
       "      <td>edible</td>\n",
       "      <td>smooth</td>\n",
       "      <td>no</td>\n",
       "      <td>clustered</td>\n",
       "    </tr>\n",
       "  </tbody>\n",
       "</table>\n",
       "</div>"
      ],
      "text/plain": [
       "          class cap-surface bruises population\n",
       "8119     edible      smooth      no  clustered\n",
       "8120     edible      smooth      no    several\n",
       "8121     edible      smooth      no  clustered\n",
       "8122  poisonous       scaly      no    several\n",
       "8123     edible      smooth      no  clustered"
      ]
     },
     "execution_count": 108,
     "metadata": {},
     "output_type": "execute_result"
    }
   ],
   "source": [
    "df.tail()"
   ]
  },
  {
   "cell_type": "code",
   "execution_count": 109,
   "id": "b38cc0a5",
   "metadata": {},
   "outputs": [],
   "source": [
    "# habitat: grasses=g,leaves=l,meadows=m,paths=p,urban=u,waste=w,woods=d"
   ]
  },
  {
   "cell_type": "code",
   "execution_count": 20,
   "id": "8fcc8a66",
   "metadata": {},
   "outputs": [],
   "source": [
    "# df['habitat'] = ['grasses' if i == 'g' else i for i in df['habitat']]\n",
    "# df['habitat'] = ['leaves' if i == 'l' else i for i in df['habitat']]\n",
    "# df['habitat'] = ['meadows' if i == 'm'else i  for i in df['habitat']]\n",
    "# df['habitat'] = ['paths' if i == 'p'else i  for i in df['habitat']]\n",
    "# df['habitat'] = ['urban' if i == 'u'else i  for i in df['habitat']]\n",
    "# df['habitat'] = ['waste' if i == 'w'else i  for i in df['habitat']]\n",
    "# df['habitat'] = ['woods' if i == 'd'else i  for i in df['habitat']]"
   ]
  },
  {
   "cell_type": "code",
   "execution_count": 110,
   "id": "7312c977",
   "metadata": {},
   "outputs": [
    {
     "data": {
      "text/html": [
       "<div>\n",
       "<style scoped>\n",
       "    .dataframe tbody tr th:only-of-type {\n",
       "        vertical-align: middle;\n",
       "    }\n",
       "\n",
       "    .dataframe tbody tr th {\n",
       "        vertical-align: top;\n",
       "    }\n",
       "\n",
       "    .dataframe thead th {\n",
       "        text-align: right;\n",
       "    }\n",
       "</style>\n",
       "<table border=\"1\" class=\"dataframe\">\n",
       "  <thead>\n",
       "    <tr style=\"text-align: right;\">\n",
       "      <th></th>\n",
       "      <th>class</th>\n",
       "      <th>cap-surface</th>\n",
       "      <th>bruises</th>\n",
       "      <th>population</th>\n",
       "    </tr>\n",
       "  </thead>\n",
       "  <tbody>\n",
       "    <tr>\n",
       "      <th>0</th>\n",
       "      <td>poisonous</td>\n",
       "      <td>smooth</td>\n",
       "      <td>bruises</td>\n",
       "      <td>scattered</td>\n",
       "    </tr>\n",
       "    <tr>\n",
       "      <th>1</th>\n",
       "      <td>edible</td>\n",
       "      <td>smooth</td>\n",
       "      <td>bruises</td>\n",
       "      <td>numerous</td>\n",
       "    </tr>\n",
       "    <tr>\n",
       "      <th>2</th>\n",
       "      <td>edible</td>\n",
       "      <td>smooth</td>\n",
       "      <td>bruises</td>\n",
       "      <td>numerous</td>\n",
       "    </tr>\n",
       "    <tr>\n",
       "      <th>3</th>\n",
       "      <td>poisonous</td>\n",
       "      <td>scaly</td>\n",
       "      <td>bruises</td>\n",
       "      <td>scattered</td>\n",
       "    </tr>\n",
       "    <tr>\n",
       "      <th>4</th>\n",
       "      <td>edible</td>\n",
       "      <td>smooth</td>\n",
       "      <td>no</td>\n",
       "      <td>abundant</td>\n",
       "    </tr>\n",
       "  </tbody>\n",
       "</table>\n",
       "</div>"
      ],
      "text/plain": [
       "       class cap-surface  bruises population\n",
       "0  poisonous      smooth  bruises  scattered\n",
       "1     edible      smooth  bruises   numerous\n",
       "2     edible      smooth  bruises   numerous\n",
       "3  poisonous       scaly  bruises  scattered\n",
       "4     edible      smooth       no   abundant"
      ]
     },
     "execution_count": 110,
     "metadata": {},
     "output_type": "execute_result"
    }
   ],
   "source": [
    "df.head()"
   ]
  },
  {
   "cell_type": "code",
   "execution_count": 111,
   "id": "033b577a",
   "metadata": {},
   "outputs": [
    {
     "data": {
      "text/html": [
       "<div>\n",
       "<style scoped>\n",
       "    .dataframe tbody tr th:only-of-type {\n",
       "        vertical-align: middle;\n",
       "    }\n",
       "\n",
       "    .dataframe tbody tr th {\n",
       "        vertical-align: top;\n",
       "    }\n",
       "\n",
       "    .dataframe thead th {\n",
       "        text-align: right;\n",
       "    }\n",
       "</style>\n",
       "<table border=\"1\" class=\"dataframe\">\n",
       "  <thead>\n",
       "    <tr style=\"text-align: right;\">\n",
       "      <th></th>\n",
       "      <th>class</th>\n",
       "      <th>cap-surface</th>\n",
       "      <th>bruises</th>\n",
       "      <th>population</th>\n",
       "    </tr>\n",
       "  </thead>\n",
       "  <tbody>\n",
       "    <tr>\n",
       "      <th>8119</th>\n",
       "      <td>edible</td>\n",
       "      <td>smooth</td>\n",
       "      <td>no</td>\n",
       "      <td>clustered</td>\n",
       "    </tr>\n",
       "    <tr>\n",
       "      <th>8120</th>\n",
       "      <td>edible</td>\n",
       "      <td>smooth</td>\n",
       "      <td>no</td>\n",
       "      <td>several</td>\n",
       "    </tr>\n",
       "    <tr>\n",
       "      <th>8121</th>\n",
       "      <td>edible</td>\n",
       "      <td>smooth</td>\n",
       "      <td>no</td>\n",
       "      <td>clustered</td>\n",
       "    </tr>\n",
       "    <tr>\n",
       "      <th>8122</th>\n",
       "      <td>poisonous</td>\n",
       "      <td>scaly</td>\n",
       "      <td>no</td>\n",
       "      <td>several</td>\n",
       "    </tr>\n",
       "    <tr>\n",
       "      <th>8123</th>\n",
       "      <td>edible</td>\n",
       "      <td>smooth</td>\n",
       "      <td>no</td>\n",
       "      <td>clustered</td>\n",
       "    </tr>\n",
       "  </tbody>\n",
       "</table>\n",
       "</div>"
      ],
      "text/plain": [
       "          class cap-surface bruises population\n",
       "8119     edible      smooth      no  clustered\n",
       "8120     edible      smooth      no    several\n",
       "8121     edible      smooth      no  clustered\n",
       "8122  poisonous       scaly      no    several\n",
       "8123     edible      smooth      no  clustered"
      ]
     },
     "execution_count": 111,
     "metadata": {},
     "output_type": "execute_result"
    }
   ],
   "source": [
    "\n",
    "df.tail()"
   ]
  },
  {
   "cell_type": "code",
   "execution_count": 112,
   "id": "2c1fedb2",
   "metadata": {},
   "outputs": [],
   "source": [
    "dataset_copy = df "
   ]
  },
  {
   "cell_type": "code",
   "execution_count": 113,
   "id": "472e0cbe",
   "metadata": {},
   "outputs": [
    {
     "data": {
      "text/html": [
       "<div>\n",
       "<style scoped>\n",
       "    .dataframe tbody tr th:only-of-type {\n",
       "        vertical-align: middle;\n",
       "    }\n",
       "\n",
       "    .dataframe tbody tr th {\n",
       "        vertical-align: top;\n",
       "    }\n",
       "\n",
       "    .dataframe thead th {\n",
       "        text-align: right;\n",
       "    }\n",
       "</style>\n",
       "<table border=\"1\" class=\"dataframe\">\n",
       "  <thead>\n",
       "    <tr style=\"text-align: right;\">\n",
       "      <th></th>\n",
       "      <th>class</th>\n",
       "      <th>cap-surface</th>\n",
       "      <th>bruises</th>\n",
       "      <th>population</th>\n",
       "    </tr>\n",
       "  </thead>\n",
       "  <tbody>\n",
       "    <tr>\n",
       "      <th>0</th>\n",
       "      <td>poisonous</td>\n",
       "      <td>smooth</td>\n",
       "      <td>bruises</td>\n",
       "      <td>scattered</td>\n",
       "    </tr>\n",
       "    <tr>\n",
       "      <th>1</th>\n",
       "      <td>edible</td>\n",
       "      <td>smooth</td>\n",
       "      <td>bruises</td>\n",
       "      <td>numerous</td>\n",
       "    </tr>\n",
       "    <tr>\n",
       "      <th>2</th>\n",
       "      <td>edible</td>\n",
       "      <td>smooth</td>\n",
       "      <td>bruises</td>\n",
       "      <td>numerous</td>\n",
       "    </tr>\n",
       "    <tr>\n",
       "      <th>3</th>\n",
       "      <td>poisonous</td>\n",
       "      <td>scaly</td>\n",
       "      <td>bruises</td>\n",
       "      <td>scattered</td>\n",
       "    </tr>\n",
       "    <tr>\n",
       "      <th>4</th>\n",
       "      <td>edible</td>\n",
       "      <td>smooth</td>\n",
       "      <td>no</td>\n",
       "      <td>abundant</td>\n",
       "    </tr>\n",
       "    <tr>\n",
       "      <th>...</th>\n",
       "      <td>...</td>\n",
       "      <td>...</td>\n",
       "      <td>...</td>\n",
       "      <td>...</td>\n",
       "    </tr>\n",
       "    <tr>\n",
       "      <th>8119</th>\n",
       "      <td>edible</td>\n",
       "      <td>smooth</td>\n",
       "      <td>no</td>\n",
       "      <td>clustered</td>\n",
       "    </tr>\n",
       "    <tr>\n",
       "      <th>8120</th>\n",
       "      <td>edible</td>\n",
       "      <td>smooth</td>\n",
       "      <td>no</td>\n",
       "      <td>several</td>\n",
       "    </tr>\n",
       "    <tr>\n",
       "      <th>8121</th>\n",
       "      <td>edible</td>\n",
       "      <td>smooth</td>\n",
       "      <td>no</td>\n",
       "      <td>clustered</td>\n",
       "    </tr>\n",
       "    <tr>\n",
       "      <th>8122</th>\n",
       "      <td>poisonous</td>\n",
       "      <td>scaly</td>\n",
       "      <td>no</td>\n",
       "      <td>several</td>\n",
       "    </tr>\n",
       "    <tr>\n",
       "      <th>8123</th>\n",
       "      <td>edible</td>\n",
       "      <td>smooth</td>\n",
       "      <td>no</td>\n",
       "      <td>clustered</td>\n",
       "    </tr>\n",
       "  </tbody>\n",
       "</table>\n",
       "<p>8124 rows × 4 columns</p>\n",
       "</div>"
      ],
      "text/plain": [
       "          class cap-surface  bruises population\n",
       "0     poisonous      smooth  bruises  scattered\n",
       "1        edible      smooth  bruises   numerous\n",
       "2        edible      smooth  bruises   numerous\n",
       "3     poisonous       scaly  bruises  scattered\n",
       "4        edible      smooth       no   abundant\n",
       "...         ...         ...      ...        ...\n",
       "8119     edible      smooth       no  clustered\n",
       "8120     edible      smooth       no    several\n",
       "8121     edible      smooth       no  clustered\n",
       "8122  poisonous       scaly       no    several\n",
       "8123     edible      smooth       no  clustered\n",
       "\n",
       "[8124 rows x 4 columns]"
      ]
     },
     "execution_count": 113,
     "metadata": {},
     "output_type": "execute_result"
    }
   ],
   "source": [
    "dataset_copy"
   ]
  },
  {
   "cell_type": "code",
   "execution_count": 114,
   "id": "9c29971b",
   "metadata": {},
   "outputs": [
    {
     "data": {
      "text/plain": [
       "class          0\n",
       "cap-surface    0\n",
       "bruises        0\n",
       "population     0\n",
       "dtype: int64"
      ]
     },
     "execution_count": 114,
     "metadata": {},
     "output_type": "execute_result"
    }
   ],
   "source": [
    "dataset_copy.isna().sum()"
   ]
  },
  {
   "cell_type": "code",
   "execution_count": 115,
   "id": "59815a5b",
   "metadata": {},
   "outputs": [],
   "source": [
    "import pandas as pd\n",
    "import numpy as np\n",
    "from sklearn import preprocessing\n",
    "from sklearn.preprocessing import OrdinalEncoder,LabelBinarizer"
   ]
  },
  {
   "cell_type": "code",
   "execution_count": 116,
   "id": "03ffe1b4",
   "metadata": {},
   "outputs": [
    {
     "data": {
      "text/plain": [
       "Index(['class', 'cap-surface', 'bruises', 'population'], dtype='object')"
      ]
     },
     "execution_count": 116,
     "metadata": {},
     "output_type": "execute_result"
    }
   ],
   "source": [
    "dataset_copy.columns"
   ]
  },
  {
   "cell_type": "code",
   "execution_count": 120,
   "id": "9d5b46d7",
   "metadata": {},
   "outputs": [],
   "source": [
    "\n",
    "# cap_shape = dataset_copy['cap-shape'].values.reshape(-1,1)\n",
    "cap_surface= dataset_copy['cap-surface'].values.reshape(-1,1)\n",
    "# cap_color = dataset_copy['cap-color'].values.reshape(-1,1)\n",
    "bruises = dataset_copy['bruises'].values.reshape(-1,1)\n",
    "# odor = dataset_copy['odor'].values.reshape(-1,1)\n",
    "population = dataset_copy['population'].values.reshape(-1,1)\n",
    "# habitat = dataset_copy['habitat'].values.reshape(-1,1)\n"
   ]
  },
  {
   "cell_type": "code",
   "execution_count": 121,
   "id": "8be7bd17",
   "metadata": {},
   "outputs": [
    {
     "data": {
      "text/plain": [
       "((8124, 1), (8124, 1))"
      ]
     },
     "execution_count": 121,
     "metadata": {},
     "output_type": "execute_result"
    }
   ],
   "source": [
    "cap_shape.shape, bruises.shape"
   ]
  },
  {
   "cell_type": "code",
   "execution_count": 124,
   "id": "07ef197c",
   "metadata": {},
   "outputs": [],
   "source": [
    "def preprocess():\n",
    "    # Using ordinal encoder to convert the categories in the range from 0 to n-1\n",
    "#     cap_shape_enc = OrdinalEncoder()\n",
    "#     cap_shape_ = cap_shape_enc.fit_transform(cap_shape)\n",
    "\n",
    "    cap_surface_enc = OrdinalEncoder()\n",
    "    cap_surface_ = cap_surface_enc.fit_transform(cap_surface)\n",
    "\n",
    "#     cap_color_enc = OrdinalEncoder()\n",
    "#     cap_color_ = cap_color_enc.fit_transform(cap_color)\n",
    "    \n",
    "    bruises_enc = OrdinalEncoder()\n",
    "    bruises_ = bruises_enc.fit_transform(bruises)\n",
    "\n",
    "#     odor_enc = OrdinalEncoder()\n",
    "#     odor_ = odor_enc.fit_transform(odor)\n",
    "\n",
    "    population_enc = OrdinalEncoder()\n",
    "    population_ = population_enc.fit_transform(population)\n",
    "    \n",
    "#     habitat_enc = OrdinalEncoder()\n",
    "#     habitat_ = habitat_enc.fit_transform(habitat)\n",
    "\n",
    "\n",
    "    # Stacking all the features\n",
    "    X = np.column_stack((cap_surface_,bruises_,population_))\n",
    "    \n",
    "    \n",
    "    # Changing the type to int\n",
    "    X = X.astype(int)\n",
    "    \n",
    "    # Doing one hot encoding on the target data\n",
    "    y = dataset_copy['class']\n",
    "    lb = LabelBinarizer()\n",
    "    y_ = lb.fit_transform(y)\n",
    "    if y_.shape[1] == 1:\n",
    "        y_ = np.concatenate((1 - y_, y_), axis=1)\n",
    "    return X,y_,lb.classes_"
   ]
  },
  {
   "cell_type": "code",
   "execution_count": 157,
   "id": "7a629829",
   "metadata": {},
   "outputs": [
    {
     "ename": "AttributeError",
     "evalue": "'numpy.ndarray' object has no attribute 'corr'",
     "output_type": "error",
     "traceback": [
      "\u001b[1;31m---------------------------------------------------------------------------\u001b[0m",
      "\u001b[1;31mAttributeError\u001b[0m                            Traceback (most recent call last)",
      "Cell \u001b[1;32mIn [157], line 3\u001b[0m\n\u001b[0;32m      1\u001b[0m X,y,classes \u001b[38;5;241m=\u001b[39m preprocess()\n\u001b[0;32m      2\u001b[0m X\u001b[38;5;241m.\u001b[39mshape, y\u001b[38;5;241m.\u001b[39mshape\n\u001b[1;32m----> 3\u001b[0m \u001b[43mX\u001b[49m\u001b[38;5;241;43m.\u001b[39;49m\u001b[43mcorr\u001b[49m()\n",
      "\u001b[1;31mAttributeError\u001b[0m: 'numpy.ndarray' object has no attribute 'corr'"
     ]
    }
   ],
   "source": [
    "X,y,classes = preprocess()\n",
    "X.shape, y.shape"
   ]
  },
  {
   "cell_type": "code",
   "execution_count": 127,
   "id": "84439fc4",
   "metadata": {},
   "outputs": [],
   "source": [
    "masking = y[:,1].astype(bool)"
   ]
  },
  {
   "cell_type": "code",
   "execution_count": 54,
   "id": "88ca6733",
   "metadata": {},
   "outputs": [
    {
     "data": {
      "text/plain": [
       "array([   0,    0,  192,  576, 2160,   36,  120,  256,  576], dtype=int64)"
      ]
     },
     "execution_count": 54,
     "metadata": {},
     "output_type": "execute_result"
    }
   ],
   "source": [
    " np.bincount(x_test[masking])"
   ]
  },
  {
   "cell_type": "code",
   "execution_count": 128,
   "id": "ea6c63f2",
   "metadata": {},
   "outputs": [],
   "source": [
    "def counts_based_onclass(X,y):\n",
    "    \n",
    "    # No of feature\n",
    "    n_features = X.shape[1]\n",
    "    # No of classes\n",
    "    n_classes = y.shape[1]\n",
    "    \n",
    "    count_matrix = []\n",
    "    # For each feature\n",
    "    for i in range(n_features):\n",
    "        count_feature = []\n",
    "        # Get that particuar feature from the dataset\n",
    "        X_feature = X[:,i]\n",
    "        # For each class\n",
    "        for j in range(n_classes):\n",
    "            # Get the datapoints that belong to the class - j\n",
    "            mask = y[:,j].astype(bool)\n",
    "            # Using masking filter out the datapoints that belong to this class- j in the given feature - i\n",
    "            # Using bincount -- count all the different categories present in the given feature\n",
    "            counts = np.bincount(X_feature[mask])\n",
    "            \n",
    "            count_feature.append(counts)\n",
    "            \n",
    "        count_matrix.append(np.array(count_feature))\n",
    "        # Finding the count of datapoints beloging to each class -- we will use it to calculate prior probabilities.\n",
    "        class_count = y.sum(axis=0)\n",
    "        \n",
    "    return count_matrix,n_features,n_classes,class_count\n",
    "            "
   ]
  },
  {
   "cell_type": "code",
   "execution_count": 129,
   "id": "e336261e",
   "metadata": {},
   "outputs": [],
   "source": [
    "count_matrix,n_features,n_classes,class_count = counts_based_onclass(X,y)"
   ]
  },
  {
   "cell_type": "code",
   "execution_count": 130,
   "id": "576ec016",
   "metadata": {},
   "outputs": [
    {
     "data": {
      "text/plain": [
       "array([[1266,   50,   34, 1034,   18,   58,   18,  626,  722,  402],\n",
       "       [1022,  122,   14,  810,    2,   90,    2,  878,  322,  674]],\n",
       "      dtype=int64)"
      ]
     },
     "execution_count": 130,
     "metadata": {},
     "output_type": "execute_result"
    }
   ],
   "source": [
    "num"
   ]
  },
  {
   "cell_type": "code",
   "execution_count": 131,
   "id": "b122cce9",
   "metadata": {},
   "outputs": [],
   "source": [
    "# np.log(num.sum(axis=1).reshape(-1,1))\n",
    "a = np.array(num, dtype=int)"
   ]
  },
  {
   "cell_type": "code",
   "execution_count": 134,
   "id": "3faa4fb4",
   "metadata": {},
   "outputs": [
    {
     "data": {
      "text/plain": [
       "array([[ 384,  288,  400,  880, 1192, 1064],\n",
       "       [   0,   52,    0,  368, 2848,  648]], dtype=int64)"
      ]
     },
     "execution_count": 134,
     "metadata": {},
     "output_type": "execute_result"
    }
   ],
   "source": [
    "count_matrix[2]"
   ]
  },
  {
   "cell_type": "code",
   "execution_count": 135,
   "id": "76106898",
   "metadata": {},
   "outputs": [],
   "source": [
    "def calculate_likelihood_probs(count_matrix,alpha,n_features):\n",
    "    log_probabilities = []\n",
    "    for i in range(n_features):\n",
    "        num = count_matrix[i] + alpha\n",
    "#         num = np.array(num, dtype=int)\n",
    "        den = num.sum(axis=1).reshape(-1,1)\n",
    "        log_probability = np.log(num) - np.log(den)\n",
    "        log_probabilities.append(log_probability)\n",
    "    return log_probabilities"
   ]
  },
  {
   "cell_type": "code",
   "execution_count": 136,
   "id": "e7be61b1",
   "metadata": {},
   "outputs": [],
   "source": [
    "def calculate_prior_probs(class_count):\n",
    "    \n",
    "    num = class_count\n",
    "    den = class_count.sum()\n",
    "    \n",
    "    return np.log(num)-np.log(den)"
   ]
  },
  {
   "cell_type": "code",
   "execution_count": 137,
   "id": "5103371d",
   "metadata": {},
   "outputs": [],
   "source": [
    "prior_probs = calculate_prior_probs(class_count)"
   ]
  },
  {
   "cell_type": "code",
   "execution_count": 138,
   "id": "b32efc9e",
   "metadata": {},
   "outputs": [],
   "source": [
    "a = count_matrix[1]"
   ]
  },
  {
   "cell_type": "code",
   "execution_count": 139,
   "id": "92f24f06",
   "metadata": {},
   "outputs": [],
   "source": [
    "a = np.array(num, dtype=int)"
   ]
  },
  {
   "cell_type": "code",
   "execution_count": 140,
   "id": "afc07669",
   "metadata": {},
   "outputs": [
    {
     "data": {
      "text/plain": [
       "array([[7.1436176 , 3.91202301, 3.52636052, 6.94119006, 2.89037176,\n",
       "        4.06044301, 2.89037176, 6.43935037, 6.58202514, 5.99645209],\n",
       "       [6.92951677, 4.80402104, 2.63905733, 6.69703425, 0.69314718,\n",
       "        4.49980967, 0.69314718, 6.77764659, 5.77455155, 6.51323011]])"
      ]
     },
     "execution_count": 140,
     "metadata": {},
     "output_type": "execute_result"
    }
   ],
   "source": [
    "np.log(a)"
   ]
  },
  {
   "cell_type": "code",
   "execution_count": 141,
   "id": "cc537ce9",
   "metadata": {},
   "outputs": [],
   "source": [
    "log_probs = calculate_likelihood_probs(count_matrix,1,n_features)"
   ]
  },
  {
   "cell_type": "code",
   "execution_count": 142,
   "id": "8569687b",
   "metadata": {},
   "outputs": [
    {
     "data": {
      "text/plain": [
       "[array([[-0.99261095, -8.34569287, -1.0291447 , -1.30253296],\n",
       "        [-1.63921357, -6.66440902, -0.81163199, -1.02037655]]),\n",
       " array([[-0.42477142, -1.06108312],\n",
       "        [-1.83558495, -0.17378232]]),\n",
       " array([[-2.39292426, -2.67974091, -2.35220617, -1.56510997, -1.26194117,\n",
       "         -1.37543752],\n",
       "        [-8.27435701, -4.30406509, -8.27435701, -2.36356036, -0.31963367,\n",
       "         -1.79892429]])]"
      ]
     },
     "execution_count": 142,
     "metadata": {},
     "output_type": "execute_result"
    }
   ],
   "source": [
    "log_probs"
   ]
  },
  {
   "cell_type": "code",
   "execution_count": 143,
   "id": "a594ae10",
   "metadata": {},
   "outputs": [],
   "source": [
    "def predict(query_point,log_probs,prior_probs):\n",
    "    \n",
    "    # Intializing an empty array\n",
    "    probs = np.zeros((1,n_classes))\n",
    "    # For each feature\n",
    "    for i in range(n_features):\n",
    "        # Get the category_id of the feature - i from the query_point\n",
    "        category = query_point[i]\n",
    "        # Fetch the corresponding log_probability table and add continue to add them for all the features\n",
    "        probs+=log_probs[i][:,category]\n",
    "    # Finally add posterior probability\n",
    "    probs+=prior_probs\n",
    "    # Finding the maximum of the probabilities and fetching the corresponding class\n",
    "    return classes[np.argmax(probs)]\n",
    "    "
   ]
  },
  {
   "cell_type": "code",
   "execution_count": 147,
   "id": "aa7b97c3",
   "metadata": {},
   "outputs": [
    {
     "name": "stdout",
     "output_type": "stream",
     "text": [
      "Sklearn feature log-probabilities\n",
      " [array([[-0.99261095, -8.34569287, -1.0291447 , -1.30253296],\n",
      "       [-1.63921357, -6.66440902, -0.81163199, -1.02037655]]), array([[-0.42477142, -1.06108312],\n",
      "       [-1.83558495, -0.17378232]]), array([[-2.39292426, -2.67974091, -2.35220617, -1.56510997, -1.26194117,\n",
      "        -1.37543752],\n",
      "       [-8.27435701, -4.30406509, -8.27435701, -2.36356036, -0.31963367,\n",
      "        -1.79892429]])]\n",
      "Manually implemented likelihood probabilities\n",
      " [array([[-0.99261095, -8.34569287, -1.0291447 , -1.30253296],\n",
      "       [-1.63921357, -6.66440902, -0.81163199, -1.02037655]]), array([[-0.42477142, -1.06108312],\n",
      "       [-1.83558495, -0.17378232]]), array([[-2.39292426, -2.67974091, -2.35220617, -1.56510997, -1.26194117,\n",
      "        -1.37543752],\n",
      "       [-8.27435701, -4.30406509, -8.27435701, -2.36356036, -0.31963367,\n",
      "        -1.79892429]])]\n",
      "Sklearn feature prior-probabilities\n",
      " [-0.65783517 -0.72975192]\n",
      "Manually implemented prior probabilities\n",
      " [-0.65783517 -0.72975192]\n",
      "\n",
      "Sklearn predict ['edible']\n",
      "Manual predict edible\n"
     ]
    }
   ],
   "source": [
    "from sklearn.naive_bayes import CategoricalNB\n",
    "clf = CategoricalNB()\n",
    "clf.fit(X, df['class'])\n",
    "print('Sklearn feature log-probabilities\\n',clf.feature_log_prob_)\n",
    "print('Manually implemented likelihood probabilities\\n',log_probs)\n",
    "\n",
    "print('Sklearn feature prior-probabilities\\n',clf.class_log_prior_)\n",
    "print('Manually implemented prior probabilities\\n',prior_probs)\n",
    "\n",
    "print()\n",
    "print('Sklearn predict',clf.predict(X[4:5]))\n",
    "print('Manual predict',predict(X[3],log_probs,prior_probs))"
   ]
  },
  {
   "cell_type": "code",
   "execution_count": 148,
   "id": "c07d319a",
   "metadata": {},
   "outputs": [],
   "source": [
    "import seaborn as sns"
   ]
  },
  {
   "cell_type": "code",
   "execution_count": 155,
   "id": "ad3ce89f",
   "metadata": {},
   "outputs": [
    {
     "data": {
      "text/html": [
       "<div>\n",
       "<style scoped>\n",
       "    .dataframe tbody tr th:only-of-type {\n",
       "        vertical-align: middle;\n",
       "    }\n",
       "\n",
       "    .dataframe tbody tr th {\n",
       "        vertical-align: top;\n",
       "    }\n",
       "\n",
       "    .dataframe thead th {\n",
       "        text-align: right;\n",
       "    }\n",
       "</style>\n",
       "<table border=\"1\" class=\"dataframe\">\n",
       "  <thead>\n",
       "    <tr style=\"text-align: right;\">\n",
       "      <th></th>\n",
       "      <th>class</th>\n",
       "      <th>cap-surface</th>\n",
       "      <th>bruises</th>\n",
       "      <th>population</th>\n",
       "    </tr>\n",
       "  </thead>\n",
       "  <tbody>\n",
       "    <tr>\n",
       "      <th>0</th>\n",
       "      <td>poisonous</td>\n",
       "      <td>smooth</td>\n",
       "      <td>bruises</td>\n",
       "      <td>scattered</td>\n",
       "    </tr>\n",
       "    <tr>\n",
       "      <th>1</th>\n",
       "      <td>edible</td>\n",
       "      <td>smooth</td>\n",
       "      <td>bruises</td>\n",
       "      <td>numerous</td>\n",
       "    </tr>\n",
       "    <tr>\n",
       "      <th>2</th>\n",
       "      <td>edible</td>\n",
       "      <td>smooth</td>\n",
       "      <td>bruises</td>\n",
       "      <td>numerous</td>\n",
       "    </tr>\n",
       "    <tr>\n",
       "      <th>3</th>\n",
       "      <td>poisonous</td>\n",
       "      <td>scaly</td>\n",
       "      <td>bruises</td>\n",
       "      <td>scattered</td>\n",
       "    </tr>\n",
       "    <tr>\n",
       "      <th>4</th>\n",
       "      <td>edible</td>\n",
       "      <td>smooth</td>\n",
       "      <td>no</td>\n",
       "      <td>abundant</td>\n",
       "    </tr>\n",
       "    <tr>\n",
       "      <th>...</th>\n",
       "      <td>...</td>\n",
       "      <td>...</td>\n",
       "      <td>...</td>\n",
       "      <td>...</td>\n",
       "    </tr>\n",
       "    <tr>\n",
       "      <th>8119</th>\n",
       "      <td>edible</td>\n",
       "      <td>smooth</td>\n",
       "      <td>no</td>\n",
       "      <td>clustered</td>\n",
       "    </tr>\n",
       "    <tr>\n",
       "      <th>8120</th>\n",
       "      <td>edible</td>\n",
       "      <td>smooth</td>\n",
       "      <td>no</td>\n",
       "      <td>several</td>\n",
       "    </tr>\n",
       "    <tr>\n",
       "      <th>8121</th>\n",
       "      <td>edible</td>\n",
       "      <td>smooth</td>\n",
       "      <td>no</td>\n",
       "      <td>clustered</td>\n",
       "    </tr>\n",
       "    <tr>\n",
       "      <th>8122</th>\n",
       "      <td>poisonous</td>\n",
       "      <td>scaly</td>\n",
       "      <td>no</td>\n",
       "      <td>several</td>\n",
       "    </tr>\n",
       "    <tr>\n",
       "      <th>8123</th>\n",
       "      <td>edible</td>\n",
       "      <td>smooth</td>\n",
       "      <td>no</td>\n",
       "      <td>clustered</td>\n",
       "    </tr>\n",
       "  </tbody>\n",
       "</table>\n",
       "<p>8124 rows × 4 columns</p>\n",
       "</div>"
      ],
      "text/plain": [
       "          class cap-surface  bruises population\n",
       "0     poisonous      smooth  bruises  scattered\n",
       "1        edible      smooth  bruises   numerous\n",
       "2        edible      smooth  bruises   numerous\n",
       "3     poisonous       scaly  bruises  scattered\n",
       "4        edible      smooth       no   abundant\n",
       "...         ...         ...      ...        ...\n",
       "8119     edible      smooth       no  clustered\n",
       "8120     edible      smooth       no    several\n",
       "8121     edible      smooth       no  clustered\n",
       "8122  poisonous       scaly       no    several\n",
       "8123     edible      smooth       no  clustered\n",
       "\n",
       "[8124 rows x 4 columns]"
      ]
     },
     "execution_count": 155,
     "metadata": {},
     "output_type": "execute_result"
    }
   ],
   "source": [
    "df"
   ]
  },
  {
   "cell_type": "code",
   "execution_count": 158,
   "id": "bce89d95",
   "metadata": {},
   "outputs": [
    {
     "data": {
      "text/plain": [
       "array([[3, 0, 3],\n",
       "       [3, 0, 2],\n",
       "       [3, 0, 2],\n",
       "       ...,\n",
       "       [3, 1, 1],\n",
       "       [2, 1, 4],\n",
       "       [3, 1, 1]])"
      ]
     },
     "execution_count": 158,
     "metadata": {},
     "output_type": "execute_result"
    }
   ],
   "source": [
    "X"
   ]
  },
  {
   "cell_type": "code",
   "execution_count": 159,
   "id": "0eb6e61d",
   "metadata": {},
   "outputs": [
    {
     "data": {
      "text/plain": [
       "3"
      ]
     },
     "execution_count": 159,
     "metadata": {},
     "output_type": "execute_result"
    }
   ],
   "source": [
    "X.shape[1]"
   ]
  },
  {
   "cell_type": "code",
   "execution_count": null,
   "id": "f787f0be",
   "metadata": {},
   "outputs": [],
   "source": []
  }
 ],
 "metadata": {
  "kernelspec": {
   "display_name": "Python 3 (ipykernel)",
   "language": "python",
   "name": "python3"
  },
  "language_info": {
   "codemirror_mode": {
    "name": "ipython",
    "version": 3
   },
   "file_extension": ".py",
   "mimetype": "text/x-python",
   "name": "python",
   "nbconvert_exporter": "python",
   "pygments_lexer": "ipython3",
   "version": "3.10.6"
  }
 },
 "nbformat": 4,
 "nbformat_minor": 5
}
