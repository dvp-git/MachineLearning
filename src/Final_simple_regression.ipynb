{
 "cells": [
  {
   "cell_type": "code",
   "execution_count": 1,
   "id": "8f738bdd",
   "metadata": {},
   "outputs": [
    {
     "data": {
      "text/html": [
       "<div>\n",
       "<style scoped>\n",
       "    .dataframe tbody tr th:only-of-type {\n",
       "        vertical-align: middle;\n",
       "    }\n",
       "\n",
       "    .dataframe tbody tr th {\n",
       "        vertical-align: top;\n",
       "    }\n",
       "\n",
       "    .dataframe thead th {\n",
       "        text-align: right;\n",
       "    }\n",
       "</style>\n",
       "<table border=\"1\" class=\"dataframe\">\n",
       "  <thead>\n",
       "    <tr style=\"text-align: right;\">\n",
       "      <th></th>\n",
       "      <th>House No.</th>\n",
       "      <th>X1 transaction date</th>\n",
       "      <th>X2 house age</th>\n",
       "      <th>X3 distance to the nearest MRT station</th>\n",
       "      <th>X4 number of convenience stores</th>\n",
       "      <th>X5 latitude</th>\n",
       "      <th>X6 longitude</th>\n",
       "      <th>Y house price of unit area</th>\n",
       "    </tr>\n",
       "  </thead>\n",
       "  <tbody>\n",
       "    <tr>\n",
       "      <th>0</th>\n",
       "      <td>1</td>\n",
       "      <td>2012.917</td>\n",
       "      <td>32.0</td>\n",
       "      <td>84.87882</td>\n",
       "      <td>10</td>\n",
       "      <td>24.98298</td>\n",
       "      <td>121.54024</td>\n",
       "      <td>37.9</td>\n",
       "    </tr>\n",
       "    <tr>\n",
       "      <th>1</th>\n",
       "      <td>2</td>\n",
       "      <td>2012.917</td>\n",
       "      <td>19.5</td>\n",
       "      <td>306.59470</td>\n",
       "      <td>9</td>\n",
       "      <td>24.98034</td>\n",
       "      <td>121.53951</td>\n",
       "      <td>42.2</td>\n",
       "    </tr>\n",
       "    <tr>\n",
       "      <th>2</th>\n",
       "      <td>3</td>\n",
       "      <td>2013.583</td>\n",
       "      <td>13.3</td>\n",
       "      <td>561.98450</td>\n",
       "      <td>5</td>\n",
       "      <td>24.98746</td>\n",
       "      <td>121.54391</td>\n",
       "      <td>47.3</td>\n",
       "    </tr>\n",
       "    <tr>\n",
       "      <th>3</th>\n",
       "      <td>4</td>\n",
       "      <td>2013.500</td>\n",
       "      <td>13.3</td>\n",
       "      <td>561.98450</td>\n",
       "      <td>5</td>\n",
       "      <td>24.98746</td>\n",
       "      <td>121.54391</td>\n",
       "      <td>54.8</td>\n",
       "    </tr>\n",
       "    <tr>\n",
       "      <th>4</th>\n",
       "      <td>5</td>\n",
       "      <td>2012.833</td>\n",
       "      <td>5.0</td>\n",
       "      <td>390.56840</td>\n",
       "      <td>5</td>\n",
       "      <td>24.97937</td>\n",
       "      <td>121.54245</td>\n",
       "      <td>43.1</td>\n",
       "    </tr>\n",
       "    <tr>\n",
       "      <th>5</th>\n",
       "      <td>6</td>\n",
       "      <td>2012.667</td>\n",
       "      <td>7.1</td>\n",
       "      <td>2175.03000</td>\n",
       "      <td>3</td>\n",
       "      <td>24.96305</td>\n",
       "      <td>121.51254</td>\n",
       "      <td>32.1</td>\n",
       "    </tr>\n",
       "    <tr>\n",
       "      <th>6</th>\n",
       "      <td>7</td>\n",
       "      <td>2012.667</td>\n",
       "      <td>34.5</td>\n",
       "      <td>623.47310</td>\n",
       "      <td>7</td>\n",
       "      <td>24.97933</td>\n",
       "      <td>121.53642</td>\n",
       "      <td>40.3</td>\n",
       "    </tr>\n",
       "    <tr>\n",
       "      <th>7</th>\n",
       "      <td>8</td>\n",
       "      <td>2013.417</td>\n",
       "      <td>20.3</td>\n",
       "      <td>287.60250</td>\n",
       "      <td>6</td>\n",
       "      <td>24.98042</td>\n",
       "      <td>121.54228</td>\n",
       "      <td>46.7</td>\n",
       "    </tr>\n",
       "    <tr>\n",
       "      <th>8</th>\n",
       "      <td>9</td>\n",
       "      <td>2013.500</td>\n",
       "      <td>31.7</td>\n",
       "      <td>5512.03800</td>\n",
       "      <td>1</td>\n",
       "      <td>24.95095</td>\n",
       "      <td>121.48458</td>\n",
       "      <td>18.8</td>\n",
       "    </tr>\n",
       "    <tr>\n",
       "      <th>9</th>\n",
       "      <td>10</td>\n",
       "      <td>2013.417</td>\n",
       "      <td>17.9</td>\n",
       "      <td>1783.18000</td>\n",
       "      <td>3</td>\n",
       "      <td>24.96731</td>\n",
       "      <td>121.51486</td>\n",
       "      <td>22.1</td>\n",
       "    </tr>\n",
       "    <tr>\n",
       "      <th>10</th>\n",
       "      <td>11</td>\n",
       "      <td>2013.083</td>\n",
       "      <td>34.8</td>\n",
       "      <td>405.21340</td>\n",
       "      <td>1</td>\n",
       "      <td>24.97349</td>\n",
       "      <td>121.53372</td>\n",
       "      <td>41.4</td>\n",
       "    </tr>\n",
       "    <tr>\n",
       "      <th>11</th>\n",
       "      <td>12</td>\n",
       "      <td>2013.333</td>\n",
       "      <td>6.3</td>\n",
       "      <td>90.45606</td>\n",
       "      <td>9</td>\n",
       "      <td>24.97433</td>\n",
       "      <td>121.54310</td>\n",
       "      <td>58.1</td>\n",
       "    </tr>\n",
       "    <tr>\n",
       "      <th>12</th>\n",
       "      <td>13</td>\n",
       "      <td>2012.917</td>\n",
       "      <td>13.0</td>\n",
       "      <td>492.23130</td>\n",
       "      <td>5</td>\n",
       "      <td>24.96515</td>\n",
       "      <td>121.53737</td>\n",
       "      <td>39.3</td>\n",
       "    </tr>\n",
       "    <tr>\n",
       "      <th>13</th>\n",
       "      <td>14</td>\n",
       "      <td>2012.667</td>\n",
       "      <td>20.4</td>\n",
       "      <td>2469.64500</td>\n",
       "      <td>4</td>\n",
       "      <td>24.96108</td>\n",
       "      <td>121.51046</td>\n",
       "      <td>23.8</td>\n",
       "    </tr>\n",
       "    <tr>\n",
       "      <th>14</th>\n",
       "      <td>15</td>\n",
       "      <td>2013.500</td>\n",
       "      <td>13.2</td>\n",
       "      <td>1164.83800</td>\n",
       "      <td>4</td>\n",
       "      <td>24.99156</td>\n",
       "      <td>121.53406</td>\n",
       "      <td>34.3</td>\n",
       "    </tr>\n",
       "    <tr>\n",
       "      <th>15</th>\n",
       "      <td>16</td>\n",
       "      <td>2013.583</td>\n",
       "      <td>35.7</td>\n",
       "      <td>579.20830</td>\n",
       "      <td>2</td>\n",
       "      <td>24.98240</td>\n",
       "      <td>121.54619</td>\n",
       "      <td>50.5</td>\n",
       "    </tr>\n",
       "    <tr>\n",
       "      <th>16</th>\n",
       "      <td>17</td>\n",
       "      <td>2013.250</td>\n",
       "      <td>0.0</td>\n",
       "      <td>292.99780</td>\n",
       "      <td>6</td>\n",
       "      <td>24.97744</td>\n",
       "      <td>121.54458</td>\n",
       "      <td>70.1</td>\n",
       "    </tr>\n",
       "    <tr>\n",
       "      <th>17</th>\n",
       "      <td>18</td>\n",
       "      <td>2012.750</td>\n",
       "      <td>17.7</td>\n",
       "      <td>350.85150</td>\n",
       "      <td>1</td>\n",
       "      <td>24.97544</td>\n",
       "      <td>121.53119</td>\n",
       "      <td>37.4</td>\n",
       "    </tr>\n",
       "    <tr>\n",
       "      <th>18</th>\n",
       "      <td>19</td>\n",
       "      <td>2013.417</td>\n",
       "      <td>16.9</td>\n",
       "      <td>368.13630</td>\n",
       "      <td>8</td>\n",
       "      <td>24.96750</td>\n",
       "      <td>121.54451</td>\n",
       "      <td>42.3</td>\n",
       "    </tr>\n",
       "    <tr>\n",
       "      <th>19</th>\n",
       "      <td>20</td>\n",
       "      <td>2012.667</td>\n",
       "      <td>1.5</td>\n",
       "      <td>23.38284</td>\n",
       "      <td>7</td>\n",
       "      <td>24.96772</td>\n",
       "      <td>121.54102</td>\n",
       "      <td>47.7</td>\n",
       "    </tr>\n",
       "  </tbody>\n",
       "</table>\n",
       "</div>"
      ],
      "text/plain": [
       "    House No.  X1 transaction date  X2 house age  \\\n",
       "0           1             2012.917          32.0   \n",
       "1           2             2012.917          19.5   \n",
       "2           3             2013.583          13.3   \n",
       "3           4             2013.500          13.3   \n",
       "4           5             2012.833           5.0   \n",
       "5           6             2012.667           7.1   \n",
       "6           7             2012.667          34.5   \n",
       "7           8             2013.417          20.3   \n",
       "8           9             2013.500          31.7   \n",
       "9          10             2013.417          17.9   \n",
       "10         11             2013.083          34.8   \n",
       "11         12             2013.333           6.3   \n",
       "12         13             2012.917          13.0   \n",
       "13         14             2012.667          20.4   \n",
       "14         15             2013.500          13.2   \n",
       "15         16             2013.583          35.7   \n",
       "16         17             2013.250           0.0   \n",
       "17         18             2012.750          17.7   \n",
       "18         19             2013.417          16.9   \n",
       "19         20             2012.667           1.5   \n",
       "\n",
       "    X3 distance to the nearest MRT station  X4 number of convenience stores  \\\n",
       "0                                 84.87882                               10   \n",
       "1                                306.59470                                9   \n",
       "2                                561.98450                                5   \n",
       "3                                561.98450                                5   \n",
       "4                                390.56840                                5   \n",
       "5                               2175.03000                                3   \n",
       "6                                623.47310                                7   \n",
       "7                                287.60250                                6   \n",
       "8                               5512.03800                                1   \n",
       "9                               1783.18000                                3   \n",
       "10                               405.21340                                1   \n",
       "11                                90.45606                                9   \n",
       "12                               492.23130                                5   \n",
       "13                              2469.64500                                4   \n",
       "14                              1164.83800                                4   \n",
       "15                               579.20830                                2   \n",
       "16                               292.99780                                6   \n",
       "17                               350.85150                                1   \n",
       "18                               368.13630                                8   \n",
       "19                                23.38284                                7   \n",
       "\n",
       "    X5 latitude  X6 longitude  Y house price of unit area  \n",
       "0      24.98298     121.54024                        37.9  \n",
       "1      24.98034     121.53951                        42.2  \n",
       "2      24.98746     121.54391                        47.3  \n",
       "3      24.98746     121.54391                        54.8  \n",
       "4      24.97937     121.54245                        43.1  \n",
       "5      24.96305     121.51254                        32.1  \n",
       "6      24.97933     121.53642                        40.3  \n",
       "7      24.98042     121.54228                        46.7  \n",
       "8      24.95095     121.48458                        18.8  \n",
       "9      24.96731     121.51486                        22.1  \n",
       "10     24.97349     121.53372                        41.4  \n",
       "11     24.97433     121.54310                        58.1  \n",
       "12     24.96515     121.53737                        39.3  \n",
       "13     24.96108     121.51046                        23.8  \n",
       "14     24.99156     121.53406                        34.3  \n",
       "15     24.98240     121.54619                        50.5  \n",
       "16     24.97744     121.54458                        70.1  \n",
       "17     24.97544     121.53119                        37.4  \n",
       "18     24.96750     121.54451                        42.3  \n",
       "19     24.96772     121.54102                        47.7  "
      ]
     },
     "execution_count": 1,
     "metadata": {},
     "output_type": "execute_result"
    }
   ],
   "source": [
    "import pandas as pd\n",
    "import numpy as np\n",
    "import matplotlib.pyplot as plt\n",
    "\n",
    "df = pd.read_csv('Real_estate.csv')\n",
    "df.head(20)\n"
   ]
  },
  {
   "cell_type": "code",
   "execution_count": 2,
   "id": "dcbfa4fe",
   "metadata": {},
   "outputs": [
    {
     "data": {
      "text/plain": [
       "<matplotlib.collections.PathCollection at 0x1ff28d11670>"
      ]
     },
     "execution_count": 2,
     "metadata": {},
     "output_type": "execute_result"
    },
    {
     "data": {
      "image/png": "[encoded data removed]",
      "text/plain": [
       "<Figure size 432x288 with 1 Axes>"
      ]
     },
     "metadata": {
      "needs_background": "light"
     },
     "output_type": "display_data"
    }
   ],
   "source": [
    "df = df.head(100)\n",
    "plt.scatter(x=df['X3 distance to the nearest MRT station'],y=df['Y house price of unit area'])"
   ]
  },
  {
   "cell_type": "code",
   "execution_count": 3,
   "id": "bae04a0a",
   "metadata": {},
   "outputs": [
    {
     "name": "stdout",
     "output_type": "stream",
     "text": [
      "Help on function heatmap in module seaborn.matrix:\n",
      "\n",
      "heatmap(data, *, vmin=None, vmax=None, cmap=None, center=None, robust=False, annot=None, fmt='.2g', annot_kws=None, linewidths=0, linecolor='white', cbar=True, cbar_kws=None, cbar_ax=None, square=False, xticklabels='auto', yticklabels='auto', mask=None, ax=None, **kwargs)\n",
      "    Plot rectangular data as a color-encoded matrix.\n",
      "    \n",
      "    This is an Axes-level function and will draw the heatmap into the\n",
      "    currently-active Axes if none is provided to the ``ax`` argument.  Part of\n",
      "    this Axes space will be taken and used to plot a colormap, unless ``cbar``\n",
      "    is False or a separate Axes is provided to ``cbar_ax``.\n",
      "    \n",
      "    Parameters\n",
      "    ----------\n",
      "    data : rectangular dataset\n",
      "        2D dataset that can be coerced into an ndarray. If a Pandas DataFrame\n",
      "        is provided, the index/column information will be used to label the\n",
      "        columns and rows.\n",
      "    vmin, vmax : floats, optional\n",
      "        Values to anchor the colormap, otherwise they are inferred from the\n",
      "        data and other keyword arguments.\n",
      "    cmap : matplotlib colormap name or object, or list of colors, optional\n",
      "        The mapping from data values to color space. If not provided, the\n",
      "        default will depend on whether ``center`` is set.\n",
      "    center : float, optional\n",
      "        The value at which to center the colormap when plotting divergant data.\n",
      "        Using this parameter will change the default ``cmap`` if none is\n",
      "        specified.\n",
      "    robust : bool, optional\n",
      "        If True and ``vmin`` or ``vmax`` are absent, the colormap range is\n",
      "        computed with robust quantiles instead of the extreme values.\n",
      "    annot : bool or rectangular dataset, optional\n",
      "        If True, write the data value in each cell. If an array-like with the\n",
      "        same shape as ``data``, then use this to annotate the heatmap instead\n",
      "        of the data. Note that DataFrames will match on position, not index.\n",
      "    fmt : str, optional\n",
      "        String formatting code to use when adding annotations.\n",
      "    annot_kws : dict of key, value mappings, optional\n",
      "        Keyword arguments for :meth:`matplotlib.axes.Axes.text` when ``annot``\n",
      "        is True.\n",
      "    linewidths : float, optional\n",
      "        Width of the lines that will divide each cell.\n",
      "    linecolor : color, optional\n",
      "        Color of the lines that will divide each cell.\n",
      "    cbar : bool, optional\n",
      "        Whether to draw a colorbar.\n",
      "    cbar_kws : dict of key, value mappings, optional\n",
      "        Keyword arguments for :meth:`matplotlib.figure.Figure.colorbar`.\n",
      "    cbar_ax : matplotlib Axes, optional\n",
      "        Axes in which to draw the colorbar, otherwise take space from the\n",
      "        main Axes.\n",
      "    square : bool, optional\n",
      "        If True, set the Axes aspect to \"equal\" so each cell will be\n",
      "        square-shaped.\n",
      "    xticklabels, yticklabels : \"auto\", bool, list-like, or int, optional\n",
      "        If True, plot the column names of the dataframe. If False, don't plot\n",
      "        the column names. If list-like, plot these alternate labels as the\n",
      "        xticklabels. If an integer, use the column names but plot only every\n",
      "        n label. If \"auto\", try to densely plot non-overlapping labels.\n",
      "    mask : bool array or DataFrame, optional\n",
      "        If passed, data will not be shown in cells where ``mask`` is True.\n",
      "        Cells with missing values are automatically masked.\n",
      "    ax : matplotlib Axes, optional\n",
      "        Axes in which to draw the plot, otherwise use the currently-active\n",
      "        Axes.\n",
      "    kwargs : other keyword arguments\n",
      "        All other keyword arguments are passed to\n",
      "        :meth:`matplotlib.axes.Axes.pcolormesh`.\n",
      "    \n",
      "    Returns\n",
      "    -------\n",
      "    ax : matplotlib Axes\n",
      "        Axes object with the heatmap.\n",
      "    \n",
      "    See Also\n",
      "    --------\n",
      "    clustermap : Plot a matrix using hierachical clustering to arrange the\n",
      "                 rows and columns.\n",
      "    \n",
      "    Examples\n",
      "    --------\n",
      "    \n",
      "    Plot a heatmap for a numpy array:\n",
      "    \n",
      "    .. plot::\n",
      "        :context: close-figs\n",
      "    \n",
      "        >>> import numpy as np; np.random.seed(0)\n",
      "        >>> import seaborn as sns; sns.set_theme()\n",
      "        >>> uniform_data = np.random.rand(10, 12)\n",
      "        >>> ax = sns.heatmap(uniform_data)\n",
      "    \n",
      "    Change the limits of the colormap:\n",
      "    \n",
      "    .. plot::\n",
      "        :context: close-figs\n",
      "    \n",
      "        >>> ax = sns.heatmap(uniform_data, vmin=0, vmax=1)\n",
      "    \n",
      "    Plot a heatmap for data centered on 0 with a diverging colormap:\n",
      "    \n",
      "    .. plot::\n",
      "        :context: close-figs\n",
      "    \n",
      "        >>> normal_data = np.random.randn(10, 12)\n",
      "        >>> ax = sns.heatmap(normal_data, center=0)\n",
      "    \n",
      "    Plot a dataframe with meaningful row and column labels:\n",
      "    \n",
      "    .. plot::\n",
      "        :context: close-figs\n",
      "    \n",
      "        >>> flights = sns.load_dataset(\"flights\")\n",
      "        >>> flights = flights.pivot(\"month\", \"year\", \"passengers\")\n",
      "        >>> ax = sns.heatmap(flights)\n",
      "    \n",
      "    Annotate each cell with the numeric value using integer formatting:\n",
      "    \n",
      "    .. plot::\n",
      "        :context: close-figs\n",
      "    \n",
      "        >>> ax = sns.heatmap(flights, annot=True, fmt=\"d\")\n",
      "    \n",
      "    Add lines between each cell:\n",
      "    \n",
      "    .. plot::\n",
      "        :context: close-figs\n",
      "    \n",
      "        >>> ax = sns.heatmap(flights, linewidths=.5)\n",
      "    \n",
      "    Use a different colormap:\n",
      "    \n",
      "    .. plot::\n",
      "        :context: close-figs\n",
      "    \n",
      "        >>> ax = sns.heatmap(flights, cmap=\"YlGnBu\")\n",
      "    \n",
      "    Center the colormap at a specific value:\n",
      "    \n",
      "    .. plot::\n",
      "        :context: close-figs\n",
      "    \n",
      "        >>> ax = sns.heatmap(flights, center=flights.loc[\"Jan\", 1955])\n",
      "    \n",
      "    Plot every other column label and don't plot row labels:\n",
      "    \n",
      "    .. plot::\n",
      "        :context: close-figs\n",
      "    \n",
      "        >>> data = np.random.randn(50, 20)\n",
      "        >>> ax = sns.heatmap(data, xticklabels=2, yticklabels=False)\n",
      "    \n",
      "    Don't draw a colorbar:\n",
      "    \n",
      "    .. plot::\n",
      "        :context: close-figs\n",
      "    \n",
      "        >>> ax = sns.heatmap(flights, cbar=False)\n",
      "    \n",
      "    Use different axes for the colorbar:\n",
      "    \n",
      "    .. plot::\n",
      "        :context: close-figs\n",
      "    \n",
      "        >>> grid_kws = {\"height_ratios\": (.9, .05), \"hspace\": .3}\n",
      "        >>> f, (ax, cbar_ax) = plt.subplots(2, gridspec_kw=grid_kws)\n",
      "        >>> ax = sns.heatmap(flights, ax=ax,\n",
      "        ...                  cbar_ax=cbar_ax,\n",
      "        ...                  cbar_kws={\"orientation\": \"horizontal\"})\n",
      "    \n",
      "    Use a mask to plot only part of a matrix\n",
      "    \n",
      "    .. plot::\n",
      "        :context: close-figs\n",
      "    \n",
      "        >>> corr = np.corrcoef(np.random.randn(10, 200))\n",
      "        >>> mask = np.zeros_like(corr)\n",
      "        >>> mask[np.triu_indices_from(mask)] = True\n",
      "        >>> with sns.axes_style(\"white\"):\n",
      "        ...     f, ax = plt.subplots(figsize=(7, 5))\n",
      "        ...     ax = sns.heatmap(corr, mask=mask, vmax=.3, square=True)\n",
      "\n"
     ]
    }
   ],
   "source": [
    "import seaborn as sns\n",
    "help(sns.heatmap)"
   ]
  },
  {
   "cell_type": "code",
   "execution_count": 4,
   "id": "53b1d51a",
   "metadata": {},
   "outputs": [
    {
     "data": {
      "text/plain": [
       "<AxesSubplot:>"
      ]
     },
     "execution_count": 4,
     "metadata": {},
     "output_type": "execute_result"
    },
    {
     "data": {
      "image/png": "[encoded data removed]",
      "text/plain": [
       "<Figure size 432x288 with 2 Axes>"
      ]
     },
     "metadata": {
      "needs_background": "light"
     },
     "output_type": "display_data"
    }
   ],
   "source": [
    "sns.heatmap(df.corr())"
   ]
  },
  {
   "cell_type": "code",
   "execution_count": 5,
   "id": "a24b69f7",
   "metadata": {},
   "outputs": [
    {
     "data": {
      "text/html": [
       "<div>\n",
       "<style scoped>\n",
       "    .dataframe tbody tr th:only-of-type {\n",
       "        vertical-align: middle;\n",
       "    }\n",
       "\n",
       "    .dataframe tbody tr th {\n",
       "        vertical-align: top;\n",
       "    }\n",
       "\n",
       "    .dataframe thead th {\n",
       "        text-align: right;\n",
       "    }\n",
       "</style>\n",
       "<table border=\"1\" class=\"dataframe\">\n",
       "  <thead>\n",
       "    <tr style=\"text-align: right;\">\n",
       "      <th></th>\n",
       "      <th>House No.</th>\n",
       "      <th>X3 distance to the nearest MRT station</th>\n",
       "      <th>Y house price of unit area</th>\n",
       "    </tr>\n",
       "  </thead>\n",
       "  <tbody>\n",
       "    <tr>\n",
       "      <th>0</th>\n",
       "      <td>1</td>\n",
       "      <td>84.87882</td>\n",
       "      <td>37.9</td>\n",
       "    </tr>\n",
       "    <tr>\n",
       "      <th>1</th>\n",
       "      <td>2</td>\n",
       "      <td>306.59470</td>\n",
       "      <td>42.2</td>\n",
       "    </tr>\n",
       "    <tr>\n",
       "      <th>2</th>\n",
       "      <td>3</td>\n",
       "      <td>561.98450</td>\n",
       "      <td>47.3</td>\n",
       "    </tr>\n",
       "    <tr>\n",
       "      <th>3</th>\n",
       "      <td>4</td>\n",
       "      <td>561.98450</td>\n",
       "      <td>54.8</td>\n",
       "    </tr>\n",
       "    <tr>\n",
       "      <th>4</th>\n",
       "      <td>5</td>\n",
       "      <td>390.56840</td>\n",
       "      <td>43.1</td>\n",
       "    </tr>\n",
       "  </tbody>\n",
       "</table>\n",
       "</div>"
      ],
      "text/plain": [
       "   House No.  X3 distance to the nearest MRT station  \\\n",
       "0          1                                84.87882   \n",
       "1          2                               306.59470   \n",
       "2          3                               561.98450   \n",
       "3          4                               561.98450   \n",
       "4          5                               390.56840   \n",
       "\n",
       "   Y house price of unit area  \n",
       "0                        37.9  \n",
       "1                        42.2  \n",
       "2                        47.3  \n",
       "3                        54.8  \n",
       "4                        43.1  "
      ]
     },
     "execution_count": 5,
     "metadata": {},
     "output_type": "execute_result"
    }
   ],
   "source": [
    "df = df[['House No.','X3 distance to the nearest MRT station','Y house price of unit area']]\n",
    "\n",
    "df.head()"
   ]
  },
  {
   "cell_type": "code",
   "execution_count": 6,
   "id": "8b43769a",
   "metadata": {},
   "outputs": [],
   "source": [
    "X = df.iloc[ : , 1: 2 ].values\n",
    "Y = df.iloc[ : , 2 ].values\n",
    "\n",
    "from sklearn.model_selection import train_test_split\n",
    "X_train, X_test, Y_train, Y_test = train_test_split( X, Y, test_size = 1/4, random_state = 0) "
   ]
  },
  {
   "cell_type": "code",
   "execution_count": 7,
   "id": "66710a09",
   "metadata": {},
   "outputs": [
    {
     "data": {
      "text/plain": [
       "(100, 1)"
      ]
     },
     "execution_count": 7,
     "metadata": {},
     "output_type": "execute_result"
    }
   ],
   "source": [
    "X.shape"
   ]
  },
  {
   "cell_type": "code",
   "execution_count": 8,
   "id": "ad6129bd",
   "metadata": {},
   "outputs": [
    {
     "data": {
      "text/plain": [
       "(100,)"
      ]
     },
     "execution_count": 8,
     "metadata": {},
     "output_type": "execute_result"
    }
   ],
   "source": [
    "Y.shape"
   ]
  },
  {
   "cell_type": "code",
   "execution_count": 9,
   "id": "a7c9d514",
   "metadata": {},
   "outputs": [],
   "source": [
    "from sklearn.linear_model import LinearRegression\n",
    "regressor = LinearRegression()\n",
    "regressor = regressor.fit(X_train, Y_train)"
   ]
  },
  {
   "cell_type": "code",
   "execution_count": 10,
   "id": "b054784e",
   "metadata": {},
   "outputs": [],
   "source": [
    "Y_pred = regressor.predict(X_test)"
   ]
  },
  {
   "cell_type": "code",
   "execution_count": 11,
   "id": "fa4c57f3",
   "metadata": {},
   "outputs": [
    {
     "data": {
      "text/plain": [
       "[<matplotlib.lines.Line2D at 0x1ff2bc45a30>]"
      ]
     },
     "execution_count": 11,
     "metadata": {},
     "output_type": "execute_result"
    },
    {
     "data": {
      "image/png": "[encoded data removed]",
      "text/plain": [
       "<Figure size 432x288 with 1 Axes>"
      ]
     },
     "metadata": {
      "needs_background": "light"
     },
     "output_type": "display_data"
    }
   ],
   "source": [
    "plt.scatter(X_train , Y_train, color = 'red')\n",
    "plt.plot(X_train , regressor.predict(X_train), color ='blue')"
   ]
  },
  {
   "cell_type": "code",
   "execution_count": 12,
   "id": "6f62dbb7",
   "metadata": {},
   "outputs": [
    {
     "data": {
      "text/plain": [
       "[<matplotlib.lines.Line2D at 0x1ff2bcbb550>]"
      ]
     },
     "execution_count": 12,
     "metadata": {},
     "output_type": "execute_result"
    },
    {
     "data": {
      "image/png": "[encoded data removed]",
      "text/plain": [
       "<Figure size 432x288 with 1 Axes>"
      ]
     },
     "metadata": {
      "needs_background": "light"
     },
     "output_type": "display_data"
    }
   ],
   "source": [
    "plt.scatter(X_test , Y_test, color = 'red')\n",
    "plt.xlabel('X3 distance to the nearest MRT station')\n",
    "plt.ylabel('Y house price of unit area')\n",
    "plt.plot(X_test , regressor.predict(X_test), color ='blue')\n"
   ]
  },
  {
   "cell_type": "code",
   "execution_count": 13,
   "id": "1c7447fb",
   "metadata": {},
   "outputs": [],
   "source": [
    "Score=regressor.score(X_test,Y_test)"
   ]
  },
  {
   "cell_type": "code",
   "execution_count": 14,
   "id": "e3a9462f",
   "metadata": {},
   "outputs": [
    {
     "data": {
      "text/html": [
       "<div>\n",
       "<style scoped>\n",
       "    .dataframe tbody tr th:only-of-type {\n",
       "        vertical-align: middle;\n",
       "    }\n",
       "\n",
       "    .dataframe tbody tr th {\n",
       "        vertical-align: top;\n",
       "    }\n",
       "\n",
       "    .dataframe thead th {\n",
       "        text-align: right;\n",
       "    }\n",
       "</style>\n",
       "<table border=\"1\" class=\"dataframe\">\n",
       "  <thead>\n",
       "    <tr style=\"text-align: right;\">\n",
       "      <th></th>\n",
       "      <th>House No.</th>\n",
       "      <th>X3 distance to the nearest MRT station</th>\n",
       "      <th>Y house price of unit area</th>\n",
       "    </tr>\n",
       "  </thead>\n",
       "  <tbody>\n",
       "    <tr>\n",
       "      <th>0</th>\n",
       "      <td>1</td>\n",
       "      <td>84.87882</td>\n",
       "      <td>37.9</td>\n",
       "    </tr>\n",
       "    <tr>\n",
       "      <th>1</th>\n",
       "      <td>2</td>\n",
       "      <td>306.59470</td>\n",
       "      <td>42.2</td>\n",
       "    </tr>\n",
       "    <tr>\n",
       "      <th>2</th>\n",
       "      <td>3</td>\n",
       "      <td>561.98450</td>\n",
       "      <td>47.3</td>\n",
       "    </tr>\n",
       "    <tr>\n",
       "      <th>3</th>\n",
       "      <td>4</td>\n",
       "      <td>561.98450</td>\n",
       "      <td>54.8</td>\n",
       "    </tr>\n",
       "    <tr>\n",
       "      <th>4</th>\n",
       "      <td>5</td>\n",
       "      <td>390.56840</td>\n",
       "      <td>43.1</td>\n",
       "    </tr>\n",
       "    <tr>\n",
       "      <th>...</th>\n",
       "      <td>...</td>\n",
       "      <td>...</td>\n",
       "      <td>...</td>\n",
       "    </tr>\n",
       "    <tr>\n",
       "      <th>95</th>\n",
       "      <td>96</td>\n",
       "      <td>104.81010</td>\n",
       "      <td>51.8</td>\n",
       "    </tr>\n",
       "    <tr>\n",
       "      <th>96</th>\n",
       "      <td>97</td>\n",
       "      <td>90.45606</td>\n",
       "      <td>59.5</td>\n",
       "    </tr>\n",
       "    <tr>\n",
       "      <th>97</th>\n",
       "      <td>98</td>\n",
       "      <td>617.44240</td>\n",
       "      <td>34.6</td>\n",
       "    </tr>\n",
       "    <tr>\n",
       "      <th>98</th>\n",
       "      <td>99</td>\n",
       "      <td>289.32480</td>\n",
       "      <td>51.0</td>\n",
       "    </tr>\n",
       "    <tr>\n",
       "      <th>99</th>\n",
       "      <td>100</td>\n",
       "      <td>90.45606</td>\n",
       "      <td>62.2</td>\n",
       "    </tr>\n",
       "  </tbody>\n",
       "</table>\n",
       "<p>100 rows × 3 columns</p>\n",
       "</div>"
      ],
      "text/plain": [
       "    House No.  X3 distance to the nearest MRT station  \\\n",
       "0           1                                84.87882   \n",
       "1           2                               306.59470   \n",
       "2           3                               561.98450   \n",
       "3           4                               561.98450   \n",
       "4           5                               390.56840   \n",
       "..        ...                                     ...   \n",
       "95         96                               104.81010   \n",
       "96         97                                90.45606   \n",
       "97         98                               617.44240   \n",
       "98         99                               289.32480   \n",
       "99        100                                90.45606   \n",
       "\n",
       "    Y house price of unit area  \n",
       "0                         37.9  \n",
       "1                         42.2  \n",
       "2                         47.3  \n",
       "3                         54.8  \n",
       "4                         43.1  \n",
       "..                         ...  \n",
       "95                        51.8  \n",
       "96                        59.5  \n",
       "97                        34.6  \n",
       "98                        51.0  \n",
       "99                        62.2  \n",
       "\n",
       "[100 rows x 3 columns]"
      ]
     },
     "execution_count": 14,
     "metadata": {},
     "output_type": "execute_result"
    }
   ],
   "source": [
    "df"
   ]
  },
  {
   "cell_type": "code",
   "execution_count": 15,
   "id": "f860abd3",
   "metadata": {},
   "outputs": [],
   "source": [
    "score = regressor.score(X_test , Y_pred)"
   ]
  },
  {
   "cell_type": "code",
   "execution_count": 16,
   "id": "f366e12b",
   "metadata": {},
   "outputs": [
    {
     "data": {
      "text/plain": [
       "1.0"
      ]
     },
     "execution_count": 16,
     "metadata": {},
     "output_type": "execute_result"
    }
   ],
   "source": [
    "score"
   ]
  },
  {
   "cell_type": "code",
   "execution_count": 17,
   "id": "eef05995",
   "metadata": {},
   "outputs": [
    {
     "data": {
      "text/plain": [
       "array([[4605.749  ],\n",
       "       [ 623.4731 ],\n",
       "       [  90.45606],\n",
       "       [ 150.9347 ],\n",
       "       [ 616.4004 ],\n",
       "       [1931.207  ],\n",
       "       [ 533.4762 ],\n",
       "       [ 274.0144 ],\n",
       "       [ 464.223  ],\n",
       "       [1758.406  ],\n",
       "       [ 276.449  ],\n",
       "       [ 368.1363 ],\n",
       "       [ 371.2495 ],\n",
       "       [ 533.4762 ],\n",
       "       [ 379.5575 ],\n",
       "       [ 306.5947 ],\n",
       "       [ 259.6607 ],\n",
       "       [ 519.4617 ],\n",
       "       [4066.587  ],\n",
       "       [ 390.5684 ],\n",
       "       [ 579.2083 ],\n",
       "       [ 350.8515 ],\n",
       "       [4082.015  ],\n",
       "       [ 577.9615 ],\n",
       "       [2175.03   ],\n",
       "       [1402.016  ],\n",
       "       [ 336.0532 ],\n",
       "       [  84.87882],\n",
       "       [ 205.367  ],\n",
       "       [ 557.478  ],\n",
       "       [ 512.5487 ],\n",
       "       [  90.45606],\n",
       "       [4079.418  ],\n",
       "       [ 279.1726 ],\n",
       "       [1438.579  ],\n",
       "       [ 405.2134 ],\n",
       "       [ 769.4034 ],\n",
       "       [ 193.5845 ],\n",
       "       [  56.47425],\n",
       "       [1414.837  ],\n",
       "       [ 338.9679 ],\n",
       "       [ 488.5727 ],\n",
       "       [ 383.2805 ],\n",
       "       [1164.838  ],\n",
       "       [3947.945  ],\n",
       "       [  23.38284],\n",
       "       [ 451.2438 ],\n",
       "       [4510.359  ],\n",
       "       [ 617.4424 ],\n",
       "       [ 289.3248 ],\n",
       "       [ 561.9845 ],\n",
       "       [2275.877  ],\n",
       "       [ 167.5989 ],\n",
       "       [ 424.5442 ],\n",
       "       [2185.128  ],\n",
       "       [1487.868  ],\n",
       "       [1360.139  ],\n",
       "       [ 377.7956 ],\n",
       "       [ 463.9623 ],\n",
       "       [ 289.3248 ],\n",
       "       [ 123.7429 ],\n",
       "       [4510.359  ],\n",
       "       [ 492.2313 ],\n",
       "       [1406.43   ],\n",
       "       [  90.45606],\n",
       "       [4066.587  ],\n",
       "       [1935.009  ],\n",
       "       [ 279.1726 ],\n",
       "       [2707.392  ],\n",
       "       [1783.18   ],\n",
       "       [  90.45606],\n",
       "       [ 104.8101 ],\n",
       "       [ 995.7554 ],\n",
       "       [ 640.7391 ],\n",
       "       [ 533.4762 ]])"
      ]
     },
     "execution_count": 17,
     "metadata": {},
     "output_type": "execute_result"
    }
   ],
   "source": [
    "X_train"
   ]
  },
  {
   "cell_type": "code",
   "execution_count": 18,
   "id": "4d2d9694",
   "metadata": {},
   "outputs": [
    {
     "data": {
      "text/plain": [
       "array([56.2, 27. , 47.3, 13.7, 29.5, 16.1, 70.1, 20. , 51.7, 51.8, 38.9,\n",
       "       21.8, 29.8, 23.8, 46.7, 22.1, 24.6, 38.8, 49.3, 18.8, 34.1, 27.7,\n",
       "       54.8, 40.8, 38.3])"
      ]
     },
     "execution_count": 18,
     "metadata": {},
     "output_type": "execute_result"
    }
   ],
   "source": [
    "Y_test"
   ]
  },
  {
   "cell_type": "code",
   "execution_count": 19,
   "id": "d2ec6574",
   "metadata": {},
   "outputs": [],
   "source": [
    "\n",
    "Y_pred = np.round(Y_pred, 2)"
   ]
  },
  {
   "cell_type": "code",
   "execution_count": 20,
   "id": "84ede1e1",
   "metadata": {},
   "outputs": [
    {
     "data": {
      "text/plain": [
       "array([44.69, 36.23, 43.29, 38.56, 36.99, 38.67, 45.41, 15.5 , 45.44,\n",
       "       46.9 , 43.84, 28.23, 43.36, 28.23, 45.45, 12.05, 36.99, 43.93,\n",
       "       45.17,  4.21, 43.68, 30.55, 43.29, 42.67, 43.86])"
      ]
     },
     "execution_count": 20,
     "metadata": {},
     "output_type": "execute_result"
    }
   ],
   "source": [
    "Y_pred"
   ]
  },
  {
   "cell_type": "code",
   "execution_count": 21,
   "id": "d513f5fa",
   "metadata": {},
   "outputs": [],
   "source": [
    "data_set_out = pd.DataFrame({'Y_test':Y_test,'Y_pred':Y_pred},columns=('Y_test','Y_pred'))"
   ]
  },
  {
   "cell_type": "code",
   "execution_count": 22,
   "id": "9ee0edd2",
   "metadata": {},
   "outputs": [
    {
     "data": {
      "text/html": [
       "<div>\n",
       "<style scoped>\n",
       "    .dataframe tbody tr th:only-of-type {\n",
       "        vertical-align: middle;\n",
       "    }\n",
       "\n",
       "    .dataframe tbody tr th {\n",
       "        vertical-align: top;\n",
       "    }\n",
       "\n",
       "    .dataframe thead th {\n",
       "        text-align: right;\n",
       "    }\n",
       "</style>\n",
       "<table border=\"1\" class=\"dataframe\">\n",
       "  <thead>\n",
       "    <tr style=\"text-align: right;\">\n",
       "      <th></th>\n",
       "      <th>Y_test</th>\n",
       "      <th>Y_pred</th>\n",
       "    </tr>\n",
       "  </thead>\n",
       "  <tbody>\n",
       "    <tr>\n",
       "      <th>Y_test</th>\n",
       "      <td>1.000000</td>\n",
       "      <td>0.648787</td>\n",
       "    </tr>\n",
       "    <tr>\n",
       "      <th>Y_pred</th>\n",
       "      <td>0.648787</td>\n",
       "      <td>1.000000</td>\n",
       "    </tr>\n",
       "  </tbody>\n",
       "</table>\n",
       "</div>"
      ],
      "text/plain": [
       "          Y_test    Y_pred\n",
       "Y_test  1.000000  0.648787\n",
       "Y_pred  0.648787  1.000000"
      ]
     },
     "execution_count": 22,
     "metadata": {},
     "output_type": "execute_result"
    }
   ],
   "source": [
    "data_set_out.corr()"
   ]
  },
  {
   "cell_type": "code",
   "execution_count": 23,
   "id": "37006a6a",
   "metadata": {},
   "outputs": [
    {
     "data": {
      "text/plain": [
       "<AxesSubplot:>"
      ]
     },
     "execution_count": 23,
     "metadata": {},
     "output_type": "execute_result"
    },
    {
     "data": {
      "image/png": "[encoded data removed]",
      "text/plain": [
       "<Figure size 432x288 with 2 Axes>"
      ]
     },
     "metadata": {
      "needs_background": "light"
     },
     "output_type": "display_data"
    }
   ],
   "source": [
    "sns.heatmap(data_set_out.corr(),vmin=0,vmax=1,annot=True)"
   ]
  },
  {
   "cell_type": "code",
   "execution_count": 24,
   "id": "3cb2f02c",
   "metadata": {},
   "outputs": [],
   "source": [
    "Score = regressor.predict(np.array([2469]).reshape(1, -1))"
   ]
  },
  {
   "cell_type": "code",
   "execution_count": 25,
   "id": "4148a84f",
   "metadata": {},
   "outputs": [
    {
     "data": {
      "text/plain": [
       "array([28.23457799])"
      ]
     },
     "execution_count": 25,
     "metadata": {},
     "output_type": "execute_result"
    }
   ],
   "source": [
    "Score"
   ]
  },
  {
   "cell_type": "code",
   "execution_count": 26,
   "id": "a53aaf32",
   "metadata": {},
   "outputs": [
    {
     "name": "stdout",
     "output_type": "stream",
     "text": [
      "Mean Squared Error 11.240421522345148\n"
     ]
    }
   ],
   "source": [
    "import sklearn.metrics as metrics\n",
    "import math\n",
    "mse = metrics.mean_squared_error(Y_pred, Y_test)\n",
    "print(\"Mean Squared Error {}\".format(math.sqrt(mse)))"
   ]
  },
  {
   "cell_type": "code",
   "execution_count": 27,
   "id": "3a6269ce",
   "metadata": {},
   "outputs": [
    {
     "data": {
      "text/plain": [
       "array([44.69, 36.23, 43.29, 38.56, 36.99, 38.67, 45.41, 15.5 , 45.44,\n",
       "       46.9 , 43.84, 28.23, 43.36, 28.23, 45.45, 12.05, 36.99, 43.93,\n",
       "       45.17,  4.21, 43.68, 30.55, 43.29, 42.67, 43.86])"
      ]
     },
     "execution_count": 27,
     "metadata": {},
     "output_type": "execute_result"
    }
   ],
   "source": [
    "Y_pred"
   ]
  },
  {
   "cell_type": "code",
   "execution_count": 28,
   "id": "a948715a",
   "metadata": {},
   "outputs": [
    {
     "data": {
      "text/plain": [
       "array([56.2, 27. , 47.3, 13.7, 29.5, 16.1, 70.1, 20. , 51.7, 51.8, 38.9,\n",
       "       21.8, 29.8, 23.8, 46.7, 22.1, 24.6, 38.8, 49.3, 18.8, 34.1, 27.7,\n",
       "       54.8, 40.8, 38.3])"
      ]
     },
     "execution_count": 28,
     "metadata": {},
     "output_type": "execute_result"
    }
   ],
   "source": [
    "Y_test"
   ]
  },
  {
   "cell_type": "code",
   "execution_count": null,
   "id": "011edb90",
   "metadata": {},
   "outputs": [],
   "source": []
  }
 ],
 "metadata": {
  "kernelspec": {
   "display_name": "Python 3 (ipykernel)",
   "language": "python",
   "name": "python3"
  },
  "language_info": {
   "codemirror_mode": {
    "name": "ipython",
    "version": 3
   },
   "file_extension": ".py",
   "mimetype": "text/x-python",
   "name": "python",
   "nbconvert_exporter": "python",
   "pygments_lexer": "ipython3",
   "version": "3.9.12"
  }
 },
 "nbformat": 4,
 "nbformat_minor": 5
}
